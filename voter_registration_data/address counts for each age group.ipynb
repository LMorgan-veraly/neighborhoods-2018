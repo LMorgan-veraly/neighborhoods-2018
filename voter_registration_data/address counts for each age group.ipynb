{
 "cells": [
  {
   "cell_type": "code",
   "execution_count": 1,
   "metadata": {
    "collapsed": true
   },
   "outputs": [],
   "source": [
    "import pandas as pd\n",
    "import matplotlib.pyplot as plt\n",
    "import numpy as np"
   ]
  },
  {
   "cell_type": "code",
   "execution_count": 2,
   "metadata": {
    "collapsed": true
   },
   "outputs": [],
   "source": [
    "# load voter info data\n",
    "voter_info = pd.read_csv('voter_info.csv', sep='\\t')"
   ]
  },
  {
   "cell_type": "code",
   "execution_count": 3,
   "metadata": {
    "collapsed": true
   },
   "outputs": [],
   "source": [
    "# bar graph of the mean number of times moved for each age group\n",
    "age_groups = [18, 26, 33, 40, 50, 150];\n",
    "ages = np.ones([5, 2])\n",
    "mean_address_counts = np.zeros(5)\n",
    "for i in range(0, len(age_groups) - 1):\n",
    "    ages[i, :] = [age_groups[i], age_groups[i+1]]\n",
    "    temp = voter_info.loc[(voter_info.age2006>=ages[i, 0]) & (voter_info.age2006<ages[i, 1]) , 'counts']\n",
    "    mean_address_counts[i]=np.mean(temp[temp>0])"
   ]
  },
  {
   "cell_type": "code",
   "execution_count": 4,
   "metadata": {},
   "outputs": [
    {
     "data": {
      "text/plain": [
       "array([ 1.92780603,  1.9739639 ,  1.71960634,  1.52356746,  1.3991391 ])"
      ]
     },
     "execution_count": 4,
     "metadata": {},
     "output_type": "execute_result"
    }
   ],
   "source": [
    "mean_address_counts"
   ]
  },
  {
   "cell_type": "code",
   "execution_count": 4,
   "metadata": {
    "collapsed": true
   },
   "outputs": [],
   "source": [
    "# voter_info.loc[(voter_info.age2006>=18) & (voter_info.age2006<=24), 'age2006']\n",
    "mean_address_counts\n",
    "df = pd.DataFrame({'age_groups':ages[:,0],'average_address_counts':mean_address_counts})"
   ]
  },
  {
   "cell_type": "code",
   "execution_count": 5,
   "metadata": {
    "collapsed": true
   },
   "outputs": [],
   "source": [
    "df.to_csv('average_address_counts_by_age.csv', sep='\\t')"
   ]
  },
  {
   "cell_type": "code",
   "execution_count": 6,
   "metadata": {
    "collapsed": true
   },
   "outputs": [],
   "source": [
    "voter_info = voter_info[['age2006', 'counts']]\n",
    "voter_info.to_csv('all_address_counts_by_age.csv', sep='\\t')"
   ]
  },
  {
   "cell_type": "code",
   "execution_count": 7,
   "metadata": {},
   "outputs": [
    {
     "data": {
      "text/plain": [
       "array([[  18.,   26.],\n",
       "       [  26.,   33.],\n",
       "       [  33.,   40.],\n",
       "       [  40.,   50.],\n",
       "       [  50.,  150.]])"
      ]
     },
     "execution_count": 7,
     "metadata": {},
     "output_type": "execute_result"
    }
   ],
   "source": [
    "ages"
   ]
  },
  {
   "cell_type": "code",
   "execution_count": 8,
   "metadata": {},
   "outputs": [
    {
     "data": {
      "image/png": "[encoded data removed]",
      "text/plain": [
       "<matplotlib.figure.Figure at 0x10c2ab8d0>"
      ]
     },
     "metadata": {},
     "output_type": "display_data"
    }
   ],
   "source": [
    "# plot the average address counts for all the age groups\n",
    "plt.bar(range(len(mean_address_counts)), mean_address_counts)\n",
    "plt.xticks(range(len(mean_address_counts)), ('18-25', '26-32', '33-39', '40-49', '50+'))\n",
    "plt.xlabel('Age Groups')\n",
    "plt.ylabel('Average Address Counts from 2006-2016')\n",
    "plt.show()"
   ]
  },
  {
   "cell_type": "code",
   "execution_count": 24,
   "metadata": {},
   "outputs": [
    {
     "data": {
      "image/png": "[encoded data removed]",
      "text/plain": [
       "<matplotlib.figure.Figure at 0x10dd20ef0>"
      ]
     },
     "metadata": {},
     "output_type": "display_data"
    },
    {
     "name": "stdout",
     "output_type": "stream",
     "text": [
      "1.92004350492\n",
      "1.93556855317\n"
     ]
    }
   ],
   "source": [
    "# histogram of the unique address counts for ages between 20-30\n",
    "temp = voter_info.loc[(voter_info.age2006>=18) & (voter_info.age2006<26) , 'counts']\n",
    "temp = temp[temp>0]\n",
    "\n",
    "plt.hist(temp)\n",
    "plt.show()\n",
    "\n",
    "# For Poisson, the mean and the variance are both λ. If you want the confidence interval around lambda\n",
    "# you can calculate the standard error as sqrt(λ/n).\n",
    "# The 95-percent confidence interval is λ̂ ± 1.96*sqrt(λ̂ /n).\n",
    "\n",
    "print(temp.mean() - 1.96*np.sqrt(temp.mean()/temp.shape[0]))\n",
    "print(temp.mean() + 1.96*np.sqrt(temp.mean()/temp.shape[0]))"
   ]
  },
  {
   "cell_type": "code",
   "execution_count": 25,
   "metadata": {},
   "outputs": [
    {
     "data": {
      "image/png": "[encoded data removed]",
      "text/plain": [
       "<matplotlib.figure.Figure at 0x10dd15d30>"
      ]
     },
     "metadata": {},
     "output_type": "display_data"
    },
    {
     "name": "stdout",
     "output_type": "stream",
     "text": [
      "1.96482508167\n",
      "1.9831027133\n"
     ]
    }
   ],
   "source": [
    "# histogram of the unique address counts for ages between 30-40\n",
    "temp = voter_info.loc[(voter_info.age2006>=26) & (voter_info.age2006<33) , 'counts']\n",
    "temp = temp[temp>0]\n",
    "\n",
    "plt.hist(temp)\n",
    "plt.show()\n",
    "\n",
    "print(temp.mean() - 1.96*np.sqrt(temp.mean()/temp.shape[0]))\n",
    "print(temp.mean() + 1.96*np.sqrt(temp.mean()/temp.shape[0]))"
   ]
  },
  {
   "cell_type": "code",
   "execution_count": 26,
   "metadata": {},
   "outputs": [
    {
     "data": {
      "image/png": "[encoded data removed]",
      "text/plain": [
       "<matplotlib.figure.Figure at 0x10d7a8400>"
      ]
     },
     "metadata": {},
     "output_type": "display_data"
    },
    {
     "name": "stdout",
     "output_type": "stream",
     "text": [
      "1.71009729959\n",
      "1.72911538075\n"
     ]
    }
   ],
   "source": [
    "# histogram of the unique address counts for ages between 40-50\n",
    "temp = voter_info.loc[(voter_info.age2006>=33) & (voter_info.age2006<40) , 'counts']\n",
    "temp = temp[temp>0]\n",
    "\n",
    "plt.hist(temp)\n",
    "plt.show()\n",
    "\n",
    "print(temp.mean() - 1.96*np.sqrt(temp.mean()/temp.shape[0]))\n",
    "print(temp.mean() + 1.96*np.sqrt(temp.mean()/temp.shape[0]))"
   ]
  },
  {
   "cell_type": "code",
   "execution_count": 27,
   "metadata": {},
   "outputs": [
    {
     "data": {
      "image/png": "[encoded data removed]",
      "text/plain": [
       "<matplotlib.figure.Figure at 0x10dcf36d8>"
      ]
     },
     "metadata": {},
     "output_type": "display_data"
    },
    {
     "name": "stdout",
     "output_type": "stream",
     "text": [
      "1.51541806851\n",
      "1.53171684582\n"
     ]
    }
   ],
   "source": [
    "# histogram of the unique address counts for ages between 50-60\n",
    "temp = voter_info.loc[(voter_info.age2006>=40) & (voter_info.age2006<50) , 'counts']\n",
    "temp = temp[temp>0]\n",
    "\n",
    "plt.hist(temp)\n",
    "plt.show()\n",
    "\n",
    "print(temp.mean() - 1.96*np.sqrt(temp.mean()/temp.shape[0]))\n",
    "print(temp.mean() + 1.96*np.sqrt(temp.mean()/temp.shape[0]))"
   ]
  },
  {
   "cell_type": "code",
   "execution_count": 28,
   "metadata": {},
   "outputs": [
    {
     "data": {
      "image/png": "[encoded data removed]",
      "text/plain": [
       "<matplotlib.figure.Figure at 0x10c29edd8>"
      ]
     },
     "metadata": {},
     "output_type": "display_data"
    },
    {
     "name": "stdout",
     "output_type": "stream",
     "text": [
      "1.39299557195\n",
      "1.40528262675\n"
     ]
    }
   ],
   "source": [
    "# histogram of the unique address counts for ages between 60-70\n",
    "temp = voter_info.loc[voter_info.age2006>=50, 'counts']\n",
    "temp = temp[temp>0]\n",
    "\n",
    "plt.hist(temp)\n",
    "plt.show()\n",
    "\n",
    "print(temp.mean() - 1.96*np.sqrt(temp.mean()/temp.shape[0]))\n",
    "print(temp.mean() + 1.96*np.sqrt(temp.mean()/temp.shape[0]))"
   ]
  }
 ],
 "metadata": {
  "kernelspec": {
   "display_name": "Python 3",
   "language": "python",
   "name": "python3"
  },
  "language_info": {
   "codemirror_mode": {
    "name": "ipython",
    "version": 3
   },
   "file_extension": ".py",
   "mimetype": "text/x-python",
   "name": "python",
   "nbconvert_exporter": "python",
   "pygments_lexer": "ipython3",
   "version": "3.6.1"
  }
 },
 "nbformat": 4,
 "nbformat_minor": 2
}
