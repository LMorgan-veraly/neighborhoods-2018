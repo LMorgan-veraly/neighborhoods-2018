{
 "cells": [
  {
   "cell_type": "code",
   "execution_count": 2,
   "metadata": {
    "collapsed": true
   },
   "outputs": [],
   "source": [
    "import pandas as pd\n",
    "import numpy as np"
   ]
  },
  {
   "cell_type": "code",
   "execution_count": 228,
   "metadata": {
    "collapsed": true
   },
   "outputs": [],
   "source": [
    "# neighborhoods\n",
    "nb = pd.read_csv('voter_with_nbd2.csv')\n",
    "nb = nb.NAME.unique()"
   ]
  },
  {
   "cell_type": "code",
   "execution_count": 229,
   "metadata": {
    "collapsed": true
   },
   "outputs": [],
   "source": [
    "# 4 age groups\n",
    "age_groups = [18, 26, 33, 40, 50, 150]\n",
    "ages = np.ones([5, 2])\n",
    "for i in range(0, len(age_groups) - 1):\n",
    "    ages[i, :] = [age_groups[i], age_groups[i+1]]"
   ]
  },
  {
   "cell_type": "code",
   "execution_count": 230,
   "metadata": {
    "collapsed": true
   },
   "outputs": [],
   "source": [
    "idx = pd.MultiIndex.from_product([age_groups[:-1], nb], names=['ages', 'nb'])\n",
    "df = pd.DataFrame(index=idx)\n",
    "df = df.reset_index()"
   ]
  },
  {
   "cell_type": "code",
   "execution_count": 231,
   "metadata": {
    "collapsed": true
   },
   "outputs": [],
   "source": [
    "# a line plot of occupancy for age groups over time (years)\n",
    "\n",
    "# for each neighborhood, need count of ages for each year\n",
    "years = ['2006', '2007', '2008', '2009', '2010', '2011', '2012', '2013', '2014', '2015', '2016']\n",
    "\n",
    "for year in years:\n",
    "    # load each year\n",
    "    temp = pd.read_csv('{}.csv'.format(year), sep='\\t')\n",
    "    # get rid of dates (the exact month and date in the year that this was recorded)\n",
    "    # counts was used for the bar graph of all the unique addresses the person had\n",
    "    temp = temp.drop(['dates', 'counts'], axis=1)\n",
    "    # remove duplicate voter ids (for the people who had address recorded multiple times that year)\n",
    "    # we are counting people who lived in multiple different neighborhoods in the same year!!!\n",
    "    temp = temp.drop_duplicates(['VOTER_ID', 'NAME'])\n",
    "    temp2 = pd.DataFrame()\n",
    "    \n",
    "    for i in range(ages.shape[0]):\n",
    "        # nb counts for each age group\n",
    "        nbcounts = temp.loc[(temp.curr_age>=ages[i, 0]) & (temp.curr_age<ages[i, 1]) , 'NAME'].value_counts()\n",
    "        # rename the series to year\n",
    "        nbcounts = nbcounts.rename(year)\n",
    "        nbcounts = pd.DataFrame(nbcounts)\n",
    "        nbcounts['ages'] = ages[i, 0]\n",
    "        nbcounts = nbcounts.reset_index()\n",
    "        nbcounts = nbcounts.rename(columns={'index':'nb'})\n",
    "        temp2 = temp2.append(nbcounts)\n",
    "    \n",
    "    # fully construct temp2 first and merge, now\n",
    "    df = pd.merge(df, temp2,  how='left', left_on=['ages','nb'], right_on = ['ages','nb'])"
   ]
  },
  {
   "cell_type": "code",
   "execution_count": 251,
   "metadata": {
    "collapsed": true
   },
   "outputs": [],
   "source": [
    "# df: counts for age, neighborhood, year\n",
    "# now separate for each nb\n",
    "temp = df[df.nb=='SUNNYSIDE-MULTNOMAH COUNTY']"
   ]
  },
  {
   "cell_type": "code",
   "execution_count": 333,
   "metadata": {
    "collapsed": true
   },
   "outputs": [],
   "source": [
    "# separate into neighborhoods with complete data and neighborhoods with missing data\n",
    "dfc = pd.DataFrame()\n",
    "dfm = pd.DataFrame()\n",
    "for n in nb:\n",
    "    # create subset for each neighborhood\n",
    "    temp = df[df.nb==n]\n",
    "    # if missing values, append to the missing dataframe\n",
    "    if temp.isnull().values.any():\n",
    "        dfm = dfm.append(temp)\n",
    "    else:\n",
    "        # make copy to avoid the settingwithcopywarning\n",
    "        temp2 = temp.copy()\n",
    "        for year in years:\n",
    "            temp2.loc[:,year] = temp[year]/temp[year].sum()\n",
    "            \n",
    "        dfc = dfc.append(temp2)"
   ]
  },
  {
   "cell_type": "code",
   "execution_count": 403,
   "metadata": {},
   "outputs": [
    {
     "data": {
      "text/html": [
       "<div>\n",
       "<style>\n",
       "    .dataframe thead tr:only-child th {\n",
       "        text-align: right;\n",
       "    }\n",
       "\n",
       "    .dataframe thead th {\n",
       "        text-align: left;\n",
       "    }\n",
       "\n",
       "    .dataframe tbody tr th {\n",
       "        vertical-align: top;\n",
       "    }\n",
       "</style>\n",
       "<table border=\"1\" class=\"dataframe\">\n",
       "  <thead>\n",
       "    <tr style=\"text-align: right;\">\n",
       "      <th></th>\n",
       "      <th>ages</th>\n",
       "      <th>nb</th>\n",
       "      <th>2006</th>\n",
       "      <th>2007</th>\n",
       "      <th>2008</th>\n",
       "      <th>2009</th>\n",
       "      <th>2010</th>\n",
       "      <th>2011</th>\n",
       "      <th>2012</th>\n",
       "      <th>2013</th>\n",
       "      <th>2014</th>\n",
       "      <th>2015</th>\n",
       "      <th>2016</th>\n",
       "    </tr>\n",
       "  </thead>\n",
       "  <tbody>\n",
       "    <tr>\n",
       "      <th>0</th>\n",
       "      <td>18</td>\n",
       "      <td>SUNNYSIDE-MULTNOMAH COUNTY</td>\n",
       "      <td>0.113145</td>\n",
       "      <td>0.098171</td>\n",
       "      <td>0.120214</td>\n",
       "      <td>0.085301</td>\n",
       "      <td>0.102891</td>\n",
       "      <td>0.076203</td>\n",
       "      <td>0.094595</td>\n",
       "      <td>0.068265</td>\n",
       "      <td>0.074547</td>\n",
       "      <td>0.047324</td>\n",
       "      <td>0.082575</td>\n",
       "    </tr>\n",
       "    <tr>\n",
       "      <th>174</th>\n",
       "      <td>26</td>\n",
       "      <td>SUNNYSIDE-MULTNOMAH COUNTY</td>\n",
       "      <td>0.273156</td>\n",
       "      <td>0.272727</td>\n",
       "      <td>0.288290</td>\n",
       "      <td>0.264280</td>\n",
       "      <td>0.284226</td>\n",
       "      <td>0.243038</td>\n",
       "      <td>0.272854</td>\n",
       "      <td>0.253618</td>\n",
       "      <td>0.254909</td>\n",
       "      <td>0.232739</td>\n",
       "      <td>0.263696</td>\n",
       "    </tr>\n",
       "    <tr>\n",
       "      <th>348</th>\n",
       "      <td>33</td>\n",
       "      <td>SUNNYSIDE-MULTNOMAH COUNTY</td>\n",
       "      <td>0.224348</td>\n",
       "      <td>0.221356</td>\n",
       "      <td>0.221728</td>\n",
       "      <td>0.226707</td>\n",
       "      <td>0.216199</td>\n",
       "      <td>0.210127</td>\n",
       "      <td>0.199324</td>\n",
       "      <td>0.208684</td>\n",
       "      <td>0.219447</td>\n",
       "      <td>0.211792</td>\n",
       "      <td>0.213704</td>\n",
       "    </tr>\n",
       "    <tr>\n",
       "      <th>522</th>\n",
       "      <td>40</td>\n",
       "      <td>SUNNYSIDE-MULTNOMAH COUNTY</td>\n",
       "      <td>0.173322</td>\n",
       "      <td>0.182625</td>\n",
       "      <td>0.167854</td>\n",
       "      <td>0.191165</td>\n",
       "      <td>0.186862</td>\n",
       "      <td>0.220759</td>\n",
       "      <td>0.204094</td>\n",
       "      <td>0.216893</td>\n",
       "      <td>0.204385</td>\n",
       "      <td>0.221102</td>\n",
       "      <td>0.191822</td>\n",
       "    </tr>\n",
       "    <tr>\n",
       "      <th>696</th>\n",
       "      <td>50</td>\n",
       "      <td>SUNNYSIDE-MULTNOMAH COUNTY</td>\n",
       "      <td>0.216029</td>\n",
       "      <td>0.225121</td>\n",
       "      <td>0.201915</td>\n",
       "      <td>0.232546</td>\n",
       "      <td>0.209821</td>\n",
       "      <td>0.249873</td>\n",
       "      <td>0.229134</td>\n",
       "      <td>0.252538</td>\n",
       "      <td>0.246711</td>\n",
       "      <td>0.287044</td>\n",
       "      <td>0.248203</td>\n",
       "    </tr>\n",
       "  </tbody>\n",
       "</table>\n",
       "</div>"
      ],
      "text/plain": [
       "    ages                          nb      2006      2007      2008      2009  \\\n",
       "0     18  SUNNYSIDE-MULTNOMAH COUNTY  0.113145  0.098171  0.120214  0.085301   \n",
       "174   26  SUNNYSIDE-MULTNOMAH COUNTY  0.273156  0.272727  0.288290  0.264280   \n",
       "348   33  SUNNYSIDE-MULTNOMAH COUNTY  0.224348  0.221356  0.221728  0.226707   \n",
       "522   40  SUNNYSIDE-MULTNOMAH COUNTY  0.173322  0.182625  0.167854  0.191165   \n",
       "696   50  SUNNYSIDE-MULTNOMAH COUNTY  0.216029  0.225121  0.201915  0.232546   \n",
       "\n",
       "         2010      2011      2012      2013      2014      2015      2016  \n",
       "0    0.102891  0.076203  0.094595  0.068265  0.074547  0.047324  0.082575  \n",
       "174  0.284226  0.243038  0.272854  0.253618  0.254909  0.232739  0.263696  \n",
       "348  0.216199  0.210127  0.199324  0.208684  0.219447  0.211792  0.213704  \n",
       "522  0.186862  0.220759  0.204094  0.216893  0.204385  0.221102  0.191822  \n",
       "696  0.209821  0.249873  0.229134  0.252538  0.246711  0.287044  0.248203  "
      ]
     },
     "execution_count": 403,
     "metadata": {},
     "output_type": "execute_result"
    }
   ],
   "source": [
    "dfc.head()"
   ]
  },
  {
   "cell_type": "code",
   "execution_count": 404,
   "metadata": {
    "collapsed": true
   },
   "outputs": [],
   "source": [
    "# dump into a csv\n",
    "dfc.to_csv('nb_age_fraction_over_time_complete.csv', sep='\\t', mode = 'w', index=False)"
   ]
  },
  {
   "cell_type": "code",
   "execution_count": 378,
   "metadata": {
    "collapsed": true
   },
   "outputs": [],
   "source": [
    "# data frame for stuff I wanna keep\n",
    "dfck = pd.DataFrame()\n",
    "for n in nb:\n",
    "    temp = dfm[dfm.nb==n]\n",
    "    c = 0\n",
    "    for age in age_groups[:-1]:\n",
    "        # at most allow 1 missing value for each age group\n",
    "        if temp[temp.ages==age].isnull().values.sum() < 2:\n",
    "            c += 1\n",
    "    if c == 5:\n",
    "        dfck = dfck.append(temp)"
   ]
  },
  {
   "cell_type": "code",
   "execution_count": 406,
   "metadata": {
    "collapsed": true
   },
   "outputs": [],
   "source": [
    "dfmk = pd.DataFrame()\n",
    "for n in dfck.nb.unique():\n",
    "    # create subset for each neighborhood\n",
    "    temp = dfck[dfck.nb==n]\n",
    "\n",
    "    # make copy to avoid the settingwithcopywarning\n",
    "    temp2 = temp.copy()\n",
    "    for year in years:\n",
    "        temp2.loc[:,year] = temp[year]/temp[year].sum()\n",
    "\n",
    "    dfmk = dfmk.append(temp2)"
   ]
  },
  {
   "cell_type": "code",
   "execution_count": 408,
   "metadata": {
    "collapsed": true
   },
   "outputs": [],
   "source": [
    "# filled in the following nans:\n",
    "# for age group 26, neighborhood BRIDLEMILE/SOUTHWEST HILLS, year 2015, filled with 13 (avg of 2014 nd 2016 values)\n",
    "# for age group 18, neighborhood ARDENWALD-JOHNSON CREEK, year 2015, filled with 14 (avg of 2014 and 2016 values)\n",
    "dfmk.to_csv('nb_age_fraction_over_time_filled.csv', sep='\\t', mode = 'w', index=False)"
   ]
  },
  {
   "cell_type": "code",
   "execution_count": 400,
   "metadata": {
    "collapsed": true
   },
   "outputs": [],
   "source": [
    "# dfck.loc[(dfck.ages==26) & (dfck.nb=='BRIDLEMILE/SOUTHWEST HILLS'), '2015'] = 13\n",
    "# dfck.loc[(dfck.ages==18) & (dfck.nb=='ARDENWALD-JOHNSON CREEK'), '2015'] = 14"
   ]
  },
  {
   "cell_type": "code",
   "execution_count": 28,
   "metadata": {},
   "outputs": [],
   "source": [
    "df = pd.read_csv('nb_age_fraction_over_time_complete.csv', sep='\\t')"
   ]
  },
  {
   "cell_type": "code",
   "execution_count": 29,
   "metadata": {},
   "outputs": [
    {
     "data": {
      "text/html": [
       "<div>\n",
       "<style>\n",
       "    .dataframe thead tr:only-child th {\n",
       "        text-align: right;\n",
       "    }\n",
       "\n",
       "    .dataframe thead th {\n",
       "        text-align: left;\n",
       "    }\n",
       "\n",
       "    .dataframe tbody tr th {\n",
       "        vertical-align: top;\n",
       "    }\n",
       "</style>\n",
       "<table border=\"1\" class=\"dataframe\">\n",
       "  <thead>\n",
       "    <tr style=\"text-align: right;\">\n",
       "      <th></th>\n",
       "      <th>ages</th>\n",
       "      <th>nb</th>\n",
       "      <th>2006</th>\n",
       "      <th>2007</th>\n",
       "      <th>2008</th>\n",
       "      <th>2009</th>\n",
       "      <th>2010</th>\n",
       "      <th>2011</th>\n",
       "      <th>2012</th>\n",
       "      <th>2013</th>\n",
       "      <th>2014</th>\n",
       "      <th>2015</th>\n",
       "      <th>2016</th>\n",
       "    </tr>\n",
       "  </thead>\n",
       "  <tbody>\n",
       "    <tr>\n",
       "      <th>0</th>\n",
       "      <td>18</td>\n",
       "      <td>SUNNYSIDE-MULTNOMAH COUNTY</td>\n",
       "      <td>0.113145</td>\n",
       "      <td>0.098171</td>\n",
       "      <td>0.120214</td>\n",
       "      <td>0.085301</td>\n",
       "      <td>0.102891</td>\n",
       "      <td>0.076203</td>\n",
       "      <td>0.094595</td>\n",
       "      <td>0.068265</td>\n",
       "      <td>0.074547</td>\n",
       "      <td>0.047324</td>\n",
       "      <td>0.082575</td>\n",
       "    </tr>\n",
       "    <tr>\n",
       "      <th>1</th>\n",
       "      <td>26</td>\n",
       "      <td>SUNNYSIDE-MULTNOMAH COUNTY</td>\n",
       "      <td>0.273156</td>\n",
       "      <td>0.272727</td>\n",
       "      <td>0.288290</td>\n",
       "      <td>0.264280</td>\n",
       "      <td>0.284226</td>\n",
       "      <td>0.243038</td>\n",
       "      <td>0.272854</td>\n",
       "      <td>0.253618</td>\n",
       "      <td>0.254909</td>\n",
       "      <td>0.232739</td>\n",
       "      <td>0.263696</td>\n",
       "    </tr>\n",
       "    <tr>\n",
       "      <th>2</th>\n",
       "      <td>33</td>\n",
       "      <td>SUNNYSIDE-MULTNOMAH COUNTY</td>\n",
       "      <td>0.224348</td>\n",
       "      <td>0.221356</td>\n",
       "      <td>0.221728</td>\n",
       "      <td>0.226707</td>\n",
       "      <td>0.216199</td>\n",
       "      <td>0.210127</td>\n",
       "      <td>0.199324</td>\n",
       "      <td>0.208684</td>\n",
       "      <td>0.219447</td>\n",
       "      <td>0.211792</td>\n",
       "      <td>0.213704</td>\n",
       "    </tr>\n",
       "    <tr>\n",
       "      <th>3</th>\n",
       "      <td>40</td>\n",
       "      <td>SUNNYSIDE-MULTNOMAH COUNTY</td>\n",
       "      <td>0.173322</td>\n",
       "      <td>0.182625</td>\n",
       "      <td>0.167854</td>\n",
       "      <td>0.191165</td>\n",
       "      <td>0.186862</td>\n",
       "      <td>0.220759</td>\n",
       "      <td>0.204094</td>\n",
       "      <td>0.216893</td>\n",
       "      <td>0.204385</td>\n",
       "      <td>0.221102</td>\n",
       "      <td>0.191822</td>\n",
       "    </tr>\n",
       "    <tr>\n",
       "      <th>4</th>\n",
       "      <td>50</td>\n",
       "      <td>SUNNYSIDE-MULTNOMAH COUNTY</td>\n",
       "      <td>0.216029</td>\n",
       "      <td>0.225121</td>\n",
       "      <td>0.201915</td>\n",
       "      <td>0.232546</td>\n",
       "      <td>0.209821</td>\n",
       "      <td>0.249873</td>\n",
       "      <td>0.229134</td>\n",
       "      <td>0.252538</td>\n",
       "      <td>0.246711</td>\n",
       "      <td>0.287044</td>\n",
       "      <td>0.248203</td>\n",
       "    </tr>\n",
       "  </tbody>\n",
       "</table>\n",
       "</div>"
      ],
      "text/plain": [
       "   ages                          nb      2006      2007      2008      2009  \\\n",
       "0    18  SUNNYSIDE-MULTNOMAH COUNTY  0.113145  0.098171  0.120214  0.085301   \n",
       "1    26  SUNNYSIDE-MULTNOMAH COUNTY  0.273156  0.272727  0.288290  0.264280   \n",
       "2    33  SUNNYSIDE-MULTNOMAH COUNTY  0.224348  0.221356  0.221728  0.226707   \n",
       "3    40  SUNNYSIDE-MULTNOMAH COUNTY  0.173322  0.182625  0.167854  0.191165   \n",
       "4    50  SUNNYSIDE-MULTNOMAH COUNTY  0.216029  0.225121  0.201915  0.232546   \n",
       "\n",
       "       2010      2011      2012      2013      2014      2015      2016  \n",
       "0  0.102891  0.076203  0.094595  0.068265  0.074547  0.047324  0.082575  \n",
       "1  0.284226  0.243038  0.272854  0.253618  0.254909  0.232739  0.263696  \n",
       "2  0.216199  0.210127  0.199324  0.208684  0.219447  0.211792  0.213704  \n",
       "3  0.186862  0.220759  0.204094  0.216893  0.204385  0.221102  0.191822  \n",
       "4  0.209821  0.249873  0.229134  0.252538  0.246711  0.287044  0.248203  "
      ]
     },
     "execution_count": 29,
     "metadata": {},
     "output_type": "execute_result"
    }
   ],
   "source": [
    "df.head()"
   ]
  },
  {
   "cell_type": "code",
   "execution_count": 76,
   "metadata": {},
   "outputs": [],
   "source": [
    "# find the largest difference for each age group\n",
    "c = df.columns\n",
    "ag = df.ages.unique()\n",
    "dec = dict.fromkeys(ag)\n",
    "inc = dict.fromkeys(ag)\n",
    "for a in ag:\n",
    "    temp = df.loc[df.ages==a]\n",
    "    diff = temp['2006']-temp['2016']\n",
    "    dec[a] = temp.loc[diff==max(diff),'nb'].item()\n",
    "    diff = temp['2016']-temp['2006']\n",
    "    inc[a] = temp.loc[diff==max(diff),'nb'].item()"
   ]
  },
  {
   "cell_type": "code",
   "execution_count": 80,
   "metadata": {},
   "outputs": [
    {
     "data": {
      "text/plain": [
       "{18: 'WOODLAND PARK',\n",
       " 26: 'ARDENWALD-JOHNSON CREEK/WOODSTOCK',\n",
       " 33: 'GRANT PARK/HOLLYWOOD',\n",
       " 40: 'BEAVER CREEK',\n",
       " 50: 'GOOSE HOLLOW/SOUTHWEST HILLS'}"
      ]
     },
     "execution_count": 80,
     "metadata": {},
     "output_type": "execute_result"
    }
   ],
   "source": [
    "dec"
   ]
  },
  {
   "cell_type": "code",
   "execution_count": 78,
   "metadata": {},
   "outputs": [
    {
     "data": {
      "text/plain": [
       "{18: 'HILLSIDE/NORTHWEST DISTRICT',\n",
       " 26: 'GLENFAIR',\n",
       " 33: 'MARSHALL PARK',\n",
       " 40: 'MARKHAM',\n",
       " 50: 'WOODLAND PARK'}"
      ]
     },
     "execution_count": 78,
     "metadata": {},
     "output_type": "execute_result"
    }
   ],
   "source": [
    "inc"
   ]
  },
  {
   "cell_type": "code",
   "execution_count": 79,
   "metadata": {},
   "outputs": [
    {
     "data": {
      "text/html": [
       "<div>\n",
       "<style>\n",
       "    .dataframe thead tr:only-child th {\n",
       "        text-align: right;\n",
       "    }\n",
       "\n",
       "    .dataframe thead th {\n",
       "        text-align: left;\n",
       "    }\n",
       "\n",
       "    .dataframe tbody tr th {\n",
       "        vertical-align: top;\n",
       "    }\n",
       "</style>\n",
       "<table border=\"1\" class=\"dataframe\">\n",
       "  <thead>\n",
       "    <tr style=\"text-align: right;\">\n",
       "      <th></th>\n",
       "      <th>ages</th>\n",
       "      <th>nb</th>\n",
       "      <th>2006</th>\n",
       "      <th>2007</th>\n",
       "      <th>2008</th>\n",
       "      <th>2009</th>\n",
       "      <th>2010</th>\n",
       "      <th>2011</th>\n",
       "      <th>2012</th>\n",
       "      <th>2013</th>\n",
       "      <th>2014</th>\n",
       "      <th>2015</th>\n",
       "      <th>2016</th>\n",
       "    </tr>\n",
       "  </thead>\n",
       "  <tbody>\n",
       "    <tr>\n",
       "      <th>85</th>\n",
       "      <td>18</td>\n",
       "      <td>HILLSIDE/NORTHWEST DISTRICT</td>\n",
       "      <td>0.050000</td>\n",
       "      <td>0.071942</td>\n",
       "      <td>0.13125</td>\n",
       "      <td>0.118519</td>\n",
       "      <td>0.126582</td>\n",
       "      <td>0.090323</td>\n",
       "      <td>0.079812</td>\n",
       "      <td>0.051613</td>\n",
       "      <td>0.052632</td>\n",
       "      <td>0.027778</td>\n",
       "      <td>0.135714</td>\n",
       "    </tr>\n",
       "    <tr>\n",
       "      <th>86</th>\n",
       "      <td>26</td>\n",
       "      <td>HILLSIDE/NORTHWEST DISTRICT</td>\n",
       "      <td>0.125000</td>\n",
       "      <td>0.158273</td>\n",
       "      <td>0.18750</td>\n",
       "      <td>0.177778</td>\n",
       "      <td>0.177215</td>\n",
       "      <td>0.187097</td>\n",
       "      <td>0.244131</td>\n",
       "      <td>0.212903</td>\n",
       "      <td>0.257310</td>\n",
       "      <td>0.166667</td>\n",
       "      <td>0.200000</td>\n",
       "    </tr>\n",
       "    <tr>\n",
       "      <th>87</th>\n",
       "      <td>33</td>\n",
       "      <td>HILLSIDE/NORTHWEST DISTRICT</td>\n",
       "      <td>0.108333</td>\n",
       "      <td>0.122302</td>\n",
       "      <td>0.13125</td>\n",
       "      <td>0.125926</td>\n",
       "      <td>0.158228</td>\n",
       "      <td>0.154839</td>\n",
       "      <td>0.183099</td>\n",
       "      <td>0.167742</td>\n",
       "      <td>0.152047</td>\n",
       "      <td>0.111111</td>\n",
       "      <td>0.071429</td>\n",
       "    </tr>\n",
       "    <tr>\n",
       "      <th>88</th>\n",
       "      <td>40</td>\n",
       "      <td>HILLSIDE/NORTHWEST DISTRICT</td>\n",
       "      <td>0.208333</td>\n",
       "      <td>0.230216</td>\n",
       "      <td>0.16250</td>\n",
       "      <td>0.133333</td>\n",
       "      <td>0.126582</td>\n",
       "      <td>0.129032</td>\n",
       "      <td>0.131455</td>\n",
       "      <td>0.187097</td>\n",
       "      <td>0.157895</td>\n",
       "      <td>0.250000</td>\n",
       "      <td>0.171429</td>\n",
       "    </tr>\n",
       "    <tr>\n",
       "      <th>89</th>\n",
       "      <td>50</td>\n",
       "      <td>HILLSIDE/NORTHWEST DISTRICT</td>\n",
       "      <td>0.508333</td>\n",
       "      <td>0.417266</td>\n",
       "      <td>0.38750</td>\n",
       "      <td>0.444444</td>\n",
       "      <td>0.411392</td>\n",
       "      <td>0.438710</td>\n",
       "      <td>0.361502</td>\n",
       "      <td>0.380645</td>\n",
       "      <td>0.380117</td>\n",
       "      <td>0.444444</td>\n",
       "      <td>0.421429</td>\n",
       "    </tr>\n",
       "  </tbody>\n",
       "</table>\n",
       "</div>"
      ],
      "text/plain": [
       "    ages                           nb      2006      2007     2008      2009  \\\n",
       "85    18  HILLSIDE/NORTHWEST DISTRICT  0.050000  0.071942  0.13125  0.118519   \n",
       "86    26  HILLSIDE/NORTHWEST DISTRICT  0.125000  0.158273  0.18750  0.177778   \n",
       "87    33  HILLSIDE/NORTHWEST DISTRICT  0.108333  0.122302  0.13125  0.125926   \n",
       "88    40  HILLSIDE/NORTHWEST DISTRICT  0.208333  0.230216  0.16250  0.133333   \n",
       "89    50  HILLSIDE/NORTHWEST DISTRICT  0.508333  0.417266  0.38750  0.444444   \n",
       "\n",
       "        2010      2011      2012      2013      2014      2015      2016  \n",
       "85  0.126582  0.090323  0.079812  0.051613  0.052632  0.027778  0.135714  \n",
       "86  0.177215  0.187097  0.244131  0.212903  0.257310  0.166667  0.200000  \n",
       "87  0.158228  0.154839  0.183099  0.167742  0.152047  0.111111  0.071429  \n",
       "88  0.126582  0.129032  0.131455  0.187097  0.157895  0.250000  0.171429  \n",
       "89  0.411392  0.438710  0.361502  0.380645  0.380117  0.444444  0.421429  "
      ]
     },
     "execution_count": 79,
     "metadata": {},
     "output_type": "execute_result"
    }
   ],
   "source": [
    "df[df.nb=='HILLSIDE/NORTHWEST DISTRICT']"
   ]
  },
  {
   "cell_type": "code",
   "execution_count": 62,
   "metadata": {
    "collapsed": true
   },
   "outputs": [],
   "source": [
    "years = ['2006', '2007', '2008', '2009', '2010', '2011', '2012', '2013', '2014', '2015', '2016']\n",
    "age_groups = [18, 26, 33, 40, 50, 150]\n",
    "temp2 = pd.DataFrame(index=age_groups[:-1])\n",
    "\n",
    "for year in years:\n",
    "    temp = dict.fromkeys(age_groups[:-1])\n",
    "    for age in age_groups[:-1]:\n",
    "        temp[age] = df.loc[(df.ages==age), year].sum()\n",
    "    \n",
    "    temp = pd.DataFrame.from_dict(temp, orient='index')\n",
    "    temp = temp.rename(columns={temp.columns[0]:year})\n",
    "    temp = temp/temp.sum()\n",
    "    \n",
    "    temp2 = temp2.join(temp)"
   ]
  },
  {
   "cell_type": "code",
   "execution_count": 64,
   "metadata": {
    "collapsed": true
   },
   "outputs": [],
   "source": [
    "temp2.to_csv('fraction_age_group_registered_each_year.csv', sep='\\t')"
   ]
  },
  {
   "cell_type": "code",
   "execution_count": 66,
   "metadata": {},
   "outputs": [
    {
     "data": {
      "text/plain": [
       "1.0"
      ]
     },
     "execution_count": 66,
     "metadata": {},
     "output_type": "execute_result"
    }
   ],
   "source": [
    "temp2['2006'].sum()"
   ]
  }
 ],
 "metadata": {
  "kernelspec": {
   "display_name": "Python 3",
   "language": "python",
   "name": "python3"
  },
  "language_info": {
   "codemirror_mode": {
    "name": "ipython",
    "version": 3
   },
   "file_extension": ".py",
   "mimetype": "text/x-python",
   "name": "python",
   "nbconvert_exporter": "python",
   "pygments_lexer": "ipython3",
   "version": "3.6.1"
  }
 },
 "nbformat": 4,
 "nbformat_minor": 2
}
