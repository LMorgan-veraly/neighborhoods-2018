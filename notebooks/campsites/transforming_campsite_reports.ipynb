{
 "cells": [
  {
   "cell_type": "code",
   "execution_count": null,
   "metadata": {},
   "outputs": [],
   "source": [
    "import pyproj"
   ]
  },
  {
   "cell_type": "code",
   "execution_count": null,
   "metadata": {},
   "outputs": [],
   "source": [
    "import pandas as pd\n",
    "import numpy as np"
   ]
  },
  {
   "cell_type": "code",
   "execution_count": null,
   "metadata": {},
   "outputs": [],
   "source": [
    "# http://www.spatialreference.org/ref/epsg/3646/\n",
    "or_north_plain = pyproj.Proj(init='EPSG:3646', preserve_units=True)"
   ]
  },
  {
   "cell_type": "code",
   "execution_count": null,
   "metadata": {},
   "outputs": [],
   "source": [
    "def load_csv(fname):\n",
    "    falsies = ['No', 'NO','no', ]\n",
    "    trusies = ['YES', 'Yes', 'yes']\n",
    "    df = pd.read_csv(fname,\n",
    "                     true_values=trusies,\n",
    "                     false_values=falsies,\n",
    "                     parse_dates=[0],\n",
    "                     low_memory=False,\n",
    "                     )\n",
    "    return df\n",
    "    "
   ]
  },
  {
   "cell_type": "code",
   "execution_count": null,
   "metadata": {},
   "outputs": [],
   "source": [
    "def transform_coordinates(df, projection):\n",
    "    # 0 values in X and Y columns are invalid - replace with NaN so we can fix erronous projections\n",
    "    df.X.replace(0, np.nan, inplace=True)\n",
    "    df.Y.replace(0, np.nan, inplace=True)\n",
    "    X = np.array(df.X)\n",
    "    Y = np.array(df.Y)\n",
    "    \n",
    "    lons, lats = projection(X, Y, inverse=True)\n",
    "    # Projections that don't make sense return 1e+30 rather than erroring.\n",
    "    # We will replace these with NaNs\n",
    "    lons[lons == 1e+30] = np.nan\n",
    "    lats[lats == 1e+30] = np.nan\n",
    "    df['lon'] = lons\n",
    "    df['lat'] = lats\n",
    "    # Get rid of old columns\n",
    "    df.drop(columns=['X', 'Y'], inplace=True)\n",
    "    \n",
    "    return df"
   ]
  },
  {
   "cell_type": "code",
   "execution_count": null,
   "metadata": {},
   "outputs": [],
   "source": []
  },
  {
   "cell_type": "code",
   "execution_count": null,
   "metadata": {},
   "outputs": [],
   "source": [
    "CSV_FILES = ['old_format_combined.csv', 'new_format_combined.csv']"
   ]
  },
  {
   "cell_type": "code",
   "execution_count": 349,
   "metadata": {},
   "outputs": [],
   "source": [
    "for fname in CSV_FILES:\n",
    "    df = load_csv(fname)\n",
    "    completed = transform_coordinates(df, or_north_plain)\n",
    "    new_name = '_processed.'.join(fname.split('.'))\n",
    "    df.to_csv(new_name, index=False)"
   ]
  },
  {
   "cell_type": "code",
   "execution_count": 348,
   "metadata": {},
   "outputs": [],
   "source": [
    "df.to_csv?"
   ]
  },
  {
   "cell_type": "code",
   "execution_count": null,
   "metadata": {},
   "outputs": [],
   "source": []
  }
 ],
 "metadata": {
  "kernelspec": {
   "display_name": "Python 3",
   "language": "python",
   "name": "python3"
  },
  "language_info": {
   "codemirror_mode": {
    "name": "ipython",
    "version": 3
   },
   "file_extension": ".py",
   "mimetype": "text/x-python",
   "name": "python",
   "nbconvert_exporter": "python",
   "pygments_lexer": "ipython3",
   "version": "3.6.4"
  }
 },
 "nbformat": 4,
 "nbformat_minor": 2
}
