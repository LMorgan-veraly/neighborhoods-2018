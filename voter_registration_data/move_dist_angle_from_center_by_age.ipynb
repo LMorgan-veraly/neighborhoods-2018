{
 "cells": [
  {
   "cell_type": "code",
   "execution_count": 2,
   "metadata": {
    "collapsed": true
   },
   "outputs": [],
   "source": [
    "import pandas as pd\n",
    "import numpy as np"
   ]
  },
  {
   "cell_type": "code",
   "execution_count": 17,
   "metadata": {},
   "outputs": [
    {
     "name": "stderr",
     "output_type": "stream",
     "text": [
      "/Users/leey/anaconda3/lib/python3.6/site-packages/IPython/core/interactiveshell.py:2717: DtypeWarning: Columns (3,4) have mixed types. Specify dtype option on import or set low_memory=False.\n",
      "  interactivity=interactivity, compiler=compiler, result=result)\n"
     ]
    }
   ],
   "source": [
    "# write lat longs to csv\n",
    "voterlatlong = pd.read_csv('voter_address_lat_long.csv', sep='\\t')"
   ]
  },
  {
   "cell_type": "code",
   "execution_count": 18,
   "metadata": {},
   "outputs": [
    {
     "data": {
      "text/html": [
       "<div>\n",
       "<style>\n",
       "    .dataframe thead tr:only-child th {\n",
       "        text-align: right;\n",
       "    }\n",
       "\n",
       "    .dataframe thead th {\n",
       "        text-align: left;\n",
       "    }\n",
       "\n",
       "    .dataframe tbody tr th {\n",
       "        vertical-align: top;\n",
       "    }\n",
       "</style>\n",
       "<table border=\"1\" class=\"dataframe\">\n",
       "  <thead>\n",
       "    <tr style=\"text-align: right;\">\n",
       "      <th></th>\n",
       "      <th>VOTER_ID</th>\n",
       "      <th>dates</th>\n",
       "      <th>addresses</th>\n",
       "      <th>Lat</th>\n",
       "      <th>Long</th>\n",
       "    </tr>\n",
       "  </thead>\n",
       "  <tbody>\n",
       "    <tr>\n",
       "      <th>0</th>\n",
       "      <td>519109</td>\n",
       "      <td>2006-05-16</td>\n",
       "      <td>NaN</td>\n",
       "      <td>NaN</td>\n",
       "      <td>NaN</td>\n",
       "    </tr>\n",
       "    <tr>\n",
       "      <th>1</th>\n",
       "      <td>519109</td>\n",
       "      <td>2006-09-19</td>\n",
       "      <td>NaN</td>\n",
       "      <td>NaN</td>\n",
       "      <td>NaN</td>\n",
       "    </tr>\n",
       "    <tr>\n",
       "      <th>2</th>\n",
       "      <td>519109</td>\n",
       "      <td>2006-11-07</td>\n",
       "      <td>NaN</td>\n",
       "      <td>NaN</td>\n",
       "      <td>NaN</td>\n",
       "    </tr>\n",
       "    <tr>\n",
       "      <th>3</th>\n",
       "      <td>519109</td>\n",
       "      <td>2007-05-15</td>\n",
       "      <td>NaN</td>\n",
       "      <td>NaN</td>\n",
       "      <td>NaN</td>\n",
       "    </tr>\n",
       "    <tr>\n",
       "      <th>4</th>\n",
       "      <td>519109</td>\n",
       "      <td>2007-11-06</td>\n",
       "      <td>NaN</td>\n",
       "      <td>NaN</td>\n",
       "      <td>NaN</td>\n",
       "    </tr>\n",
       "  </tbody>\n",
       "</table>\n",
       "</div>"
      ],
      "text/plain": [
       "   VOTER_ID       dates addresses  Lat Long\n",
       "0    519109  2006-05-16       NaN  NaN  NaN\n",
       "1    519109  2006-09-19       NaN  NaN  NaN\n",
       "2    519109  2006-11-07       NaN  NaN  NaN\n",
       "3    519109  2007-05-15       NaN  NaN  NaN\n",
       "4    519109  2007-11-06       NaN  NaN  NaN"
      ]
     },
     "execution_count": 18,
     "metadata": {},
     "output_type": "execute_result"
    }
   ],
   "source": [
    "voterlatlong.head()\n",
    "# voterlatlong[voterlatlong.VOTER_ID==300427492]"
   ]
  },
  {
   "cell_type": "code",
   "execution_count": 19,
   "metadata": {
    "collapsed": true
   },
   "outputs": [],
   "source": [
    "# drop dates, no longer needed, since we are only looking where they moved to, actually don't need year either\n",
    "voterlatlong['moveyear'] = pd.to_numeric(voterlatlong.dates.apply(lambda x: x.split('-')[0]), downcast='integer')\n",
    "voterlatlong = voterlatlong.drop(['dates'], axis=1)"
   ]
  },
  {
   "cell_type": "code",
   "execution_count": 20,
   "metadata": {},
   "outputs": [
    {
     "data": {
      "text/html": [
       "<div>\n",
       "<style>\n",
       "    .dataframe thead tr:only-child th {\n",
       "        text-align: right;\n",
       "    }\n",
       "\n",
       "    .dataframe thead th {\n",
       "        text-align: left;\n",
       "    }\n",
       "\n",
       "    .dataframe tbody tr th {\n",
       "        vertical-align: top;\n",
       "    }\n",
       "</style>\n",
       "<table border=\"1\" class=\"dataframe\">\n",
       "  <thead>\n",
       "    <tr style=\"text-align: right;\">\n",
       "      <th></th>\n",
       "      <th>VOTER_ID</th>\n",
       "      <th>addresses</th>\n",
       "      <th>Lat</th>\n",
       "      <th>Long</th>\n",
       "      <th>moveyear</th>\n",
       "    </tr>\n",
       "  </thead>\n",
       "  <tbody>\n",
       "    <tr>\n",
       "      <th>0</th>\n",
       "      <td>519109</td>\n",
       "      <td>NaN</td>\n",
       "      <td>NaN</td>\n",
       "      <td>NaN</td>\n",
       "      <td>2006</td>\n",
       "    </tr>\n",
       "    <tr>\n",
       "      <th>1</th>\n",
       "      <td>519109</td>\n",
       "      <td>NaN</td>\n",
       "      <td>NaN</td>\n",
       "      <td>NaN</td>\n",
       "      <td>2006</td>\n",
       "    </tr>\n",
       "    <tr>\n",
       "      <th>2</th>\n",
       "      <td>519109</td>\n",
       "      <td>NaN</td>\n",
       "      <td>NaN</td>\n",
       "      <td>NaN</td>\n",
       "      <td>2006</td>\n",
       "    </tr>\n",
       "    <tr>\n",
       "      <th>3</th>\n",
       "      <td>519109</td>\n",
       "      <td>NaN</td>\n",
       "      <td>NaN</td>\n",
       "      <td>NaN</td>\n",
       "      <td>2007</td>\n",
       "    </tr>\n",
       "    <tr>\n",
       "      <th>4</th>\n",
       "      <td>519109</td>\n",
       "      <td>NaN</td>\n",
       "      <td>NaN</td>\n",
       "      <td>NaN</td>\n",
       "      <td>2007</td>\n",
       "    </tr>\n",
       "  </tbody>\n",
       "</table>\n",
       "</div>"
      ],
      "text/plain": [
       "   VOTER_ID addresses  Lat Long  moveyear\n",
       "0    519109       NaN  NaN  NaN      2006\n",
       "1    519109       NaN  NaN  NaN      2006\n",
       "2    519109       NaN  NaN  NaN      2006\n",
       "3    519109       NaN  NaN  NaN      2007\n",
       "4    519109       NaN  NaN  NaN      2007"
      ]
     },
     "execution_count": 20,
     "metadata": {},
     "output_type": "execute_result"
    }
   ],
   "source": [
    "voterlatlong.head()"
   ]
  },
  {
   "cell_type": "code",
   "execution_count": 21,
   "metadata": {
    "collapsed": true
   },
   "outputs": [],
   "source": [
    "# keep only the first time a new address appears\n",
    "voterlatlong = voterlatlong.drop_duplicates(subset=['VOTER_ID', 'addresses'],keep='first')"
   ]
  },
  {
   "cell_type": "code",
   "execution_count": 22,
   "metadata": {
    "collapsed": true
   },
   "outputs": [],
   "source": [
    "# force to numeric\n",
    "voterlatlong['Lat'] = pd.to_numeric(voterlatlong['Lat'], downcast='float', errors='coerce')\n",
    "voterlatlong['Long'] = pd.to_numeric(voterlatlong['Long'], downcast='float', errors='coerce')"
   ]
  },
  {
   "cell_type": "code",
   "execution_count": 23,
   "metadata": {
    "collapsed": true
   },
   "outputs": [],
   "source": [
    "# drop all nan rows\n",
    "voterlatlong = voterlatlong.dropna(how='any')"
   ]
  },
  {
   "cell_type": "code",
   "execution_count": 24,
   "metadata": {},
   "outputs": [
    {
     "data": {
      "text/html": [
       "<div>\n",
       "<style>\n",
       "    .dataframe thead tr:only-child th {\n",
       "        text-align: right;\n",
       "    }\n",
       "\n",
       "    .dataframe thead th {\n",
       "        text-align: left;\n",
       "    }\n",
       "\n",
       "    .dataframe tbody tr th {\n",
       "        vertical-align: top;\n",
       "    }\n",
       "</style>\n",
       "<table border=\"1\" class=\"dataframe\">\n",
       "  <thead>\n",
       "    <tr style=\"text-align: right;\">\n",
       "      <th></th>\n",
       "      <th>VOTER_ID</th>\n",
       "      <th>FIRST_NAME</th>\n",
       "      <th>MIDDLE_NAME</th>\n",
       "      <th>LAST_NAME</th>\n",
       "      <th>BIRTH_DATE</th>\n",
       "      <th>PARTY_CODE</th>\n",
       "      <th>year</th>\n",
       "      <th>age2018</th>\n",
       "      <th>age2016</th>\n",
       "      <th>age2006</th>\n",
       "      <th>counts</th>\n",
       "    </tr>\n",
       "  </thead>\n",
       "  <tbody>\n",
       "    <tr>\n",
       "      <th>0</th>\n",
       "      <td>519109</td>\n",
       "      <td>DANE</td>\n",
       "      <td>WILLARD</td>\n",
       "      <td>WAHLSTROM</td>\n",
       "      <td>07-20-1979</td>\n",
       "      <td>DEM</td>\n",
       "      <td>1979</td>\n",
       "      <td>39.0</td>\n",
       "      <td>37.0</td>\n",
       "      <td>27.0</td>\n",
       "      <td>3</td>\n",
       "    </tr>\n",
       "    <tr>\n",
       "      <th>1</th>\n",
       "      <td>100064977</td>\n",
       "      <td>JAMES</td>\n",
       "      <td>EUGENE</td>\n",
       "      <td>MORTENSEN</td>\n",
       "      <td>08-07-1977</td>\n",
       "      <td>REP</td>\n",
       "      <td>1977</td>\n",
       "      <td>41.0</td>\n",
       "      <td>39.0</td>\n",
       "      <td>29.0</td>\n",
       "      <td>1</td>\n",
       "    </tr>\n",
       "    <tr>\n",
       "      <th>2</th>\n",
       "      <td>100042592</td>\n",
       "      <td>JARED</td>\n",
       "      <td>BANKES</td>\n",
       "      <td>HERZOG</td>\n",
       "      <td>07-25-1978</td>\n",
       "      <td>DEM</td>\n",
       "      <td>1978</td>\n",
       "      <td>40.0</td>\n",
       "      <td>38.0</td>\n",
       "      <td>28.0</td>\n",
       "      <td>4</td>\n",
       "    </tr>\n",
       "    <tr>\n",
       "      <th>3</th>\n",
       "      <td>11573337</td>\n",
       "      <td>JOE</td>\n",
       "      <td>H</td>\n",
       "      <td>FERGUSON</td>\n",
       "      <td>10-11-1951</td>\n",
       "      <td>PGP</td>\n",
       "      <td>1951</td>\n",
       "      <td>67.0</td>\n",
       "      <td>65.0</td>\n",
       "      <td>55.0</td>\n",
       "      <td>1</td>\n",
       "    </tr>\n",
       "    <tr>\n",
       "      <th>4</th>\n",
       "      <td>300469994</td>\n",
       "      <td>KAY'RIONNA</td>\n",
       "      <td>DANAE</td>\n",
       "      <td>WATSON</td>\n",
       "      <td>03-25-1998</td>\n",
       "      <td>NAV</td>\n",
       "      <td>1998</td>\n",
       "      <td>20.0</td>\n",
       "      <td>18.0</td>\n",
       "      <td>8.0</td>\n",
       "      <td>1</td>\n",
       "    </tr>\n",
       "  </tbody>\n",
       "</table>\n",
       "</div>"
      ],
      "text/plain": [
       "    VOTER_ID  FIRST_NAME MIDDLE_NAME  LAST_NAME  BIRTH_DATE PARTY_CODE  year  \\\n",
       "0     519109        DANE     WILLARD  WAHLSTROM  07-20-1979        DEM  1979   \n",
       "1  100064977       JAMES      EUGENE  MORTENSEN  08-07-1977        REP  1977   \n",
       "2  100042592       JARED      BANKES     HERZOG  07-25-1978        DEM  1978   \n",
       "3   11573337         JOE           H   FERGUSON  10-11-1951        PGP  1951   \n",
       "4  300469994  KAY'RIONNA       DANAE     WATSON  03-25-1998        NAV  1998   \n",
       "\n",
       "   age2018  age2016  age2006  counts  \n",
       "0     39.0     37.0     27.0       3  \n",
       "1     41.0     39.0     29.0       1  \n",
       "2     40.0     38.0     28.0       4  \n",
       "3     67.0     65.0     55.0       1  \n",
       "4     20.0     18.0      8.0       1  "
      ]
     },
     "execution_count": 24,
     "metadata": {},
     "output_type": "execute_result"
    }
   ],
   "source": [
    "# need to get age\n",
    "voterages = pd.read_csv('voter_info.csv', sep='\\t')\n",
    "voterages.head()"
   ]
  },
  {
   "cell_type": "code",
   "execution_count": 25,
   "metadata": {
    "collapsed": true
   },
   "outputs": [],
   "source": [
    "voterages = voterages[['VOTER_ID', 'year']]"
   ]
  },
  {
   "cell_type": "code",
   "execution_count": 26,
   "metadata": {},
   "outputs": [
    {
     "data": {
      "text/html": [
       "<div>\n",
       "<style>\n",
       "    .dataframe thead tr:only-child th {\n",
       "        text-align: right;\n",
       "    }\n",
       "\n",
       "    .dataframe thead th {\n",
       "        text-align: left;\n",
       "    }\n",
       "\n",
       "    .dataframe tbody tr th {\n",
       "        vertical-align: top;\n",
       "    }\n",
       "</style>\n",
       "<table border=\"1\" class=\"dataframe\">\n",
       "  <thead>\n",
       "    <tr style=\"text-align: right;\">\n",
       "      <th></th>\n",
       "      <th>VOTER_ID</th>\n",
       "      <th>addresses</th>\n",
       "      <th>Lat</th>\n",
       "      <th>Long</th>\n",
       "      <th>moveyear</th>\n",
       "      <th>year</th>\n",
       "    </tr>\n",
       "  </thead>\n",
       "  <tbody>\n",
       "    <tr>\n",
       "      <th>5</th>\n",
       "      <td>519109</td>\n",
       "      <td>3542 SE TAYLOR ST PORTLAND OR 97214</td>\n",
       "      <td>45.514801</td>\n",
       "      <td>-122.627220</td>\n",
       "      <td>2008</td>\n",
       "      <td>1979.0</td>\n",
       "    </tr>\n",
       "    <tr>\n",
       "      <th>8</th>\n",
       "      <td>519109</td>\n",
       "      <td>1834 NE 61ST AVE PORTLAND OR 97213</td>\n",
       "      <td>45.536209</td>\n",
       "      <td>-122.600258</td>\n",
       "      <td>2010</td>\n",
       "      <td>1979.0</td>\n",
       "    </tr>\n",
       "    <tr>\n",
       "      <th>13</th>\n",
       "      <td>519109</td>\n",
       "      <td>3568 NE US GRANT PL PORTLAND OR 97212</td>\n",
       "      <td>45.537552</td>\n",
       "      <td>-122.626617</td>\n",
       "      <td>2012</td>\n",
       "      <td>1979.0</td>\n",
       "    </tr>\n",
       "    <tr>\n",
       "      <th>25</th>\n",
       "      <td>100064977</td>\n",
       "      <td>7307 SE 70TH AVE PORTLAND OR 97206</td>\n",
       "      <td>45.470184</td>\n",
       "      <td>-122.591377</td>\n",
       "      <td>2006</td>\n",
       "      <td>1977.0</td>\n",
       "    </tr>\n",
       "    <tr>\n",
       "      <th>48</th>\n",
       "      <td>100042592</td>\n",
       "      <td>2170 NW FLANDERS ST PORTLAND OR 97210</td>\n",
       "      <td>45.525513</td>\n",
       "      <td>-122.695755</td>\n",
       "      <td>2006</td>\n",
       "      <td>1978.0</td>\n",
       "    </tr>\n",
       "  </tbody>\n",
       "</table>\n",
       "</div>"
      ],
      "text/plain": [
       "     VOTER_ID                              addresses        Lat        Long  \\\n",
       "5      519109    3542 SE TAYLOR ST PORTLAND OR 97214  45.514801 -122.627220   \n",
       "8      519109     1834 NE 61ST AVE PORTLAND OR 97213  45.536209 -122.600258   \n",
       "13     519109  3568 NE US GRANT PL PORTLAND OR 97212  45.537552 -122.626617   \n",
       "25  100064977     7307 SE 70TH AVE PORTLAND OR 97206  45.470184 -122.591377   \n",
       "48  100042592  2170 NW FLANDERS ST PORTLAND OR 97210  45.525513 -122.695755   \n",
       "\n",
       "    moveyear    year  \n",
       "5       2008  1979.0  \n",
       "8       2010  1979.0  \n",
       "13      2012  1979.0  \n",
       "25      2006  1977.0  \n",
       "48      2006  1978.0  "
      ]
     },
     "execution_count": 26,
     "metadata": {},
     "output_type": "execute_result"
    }
   ],
   "source": [
    "voterlatlong = voterlatlong.join(voterages.set_index('VOTER_ID'), on='VOTER_ID')\n",
    "voterlatlong.head()"
   ]
  },
  {
   "cell_type": "code",
   "execution_count": 27,
   "metadata": {
    "collapsed": true
   },
   "outputs": [],
   "source": [
    "# filter out the voters with less than 1 row\n",
    "voterlatlong = voterlatlong[voterlatlong.duplicated(subset=['VOTER_ID'], keep=False)]"
   ]
  },
  {
   "cell_type": "code",
   "execution_count": 28,
   "metadata": {
    "collapsed": true
   },
   "outputs": [],
   "source": [
    "#!/usr/bin/env python\n",
    "\n",
    "# Haversine formula example in Python\n",
    "# Author: Wayne Dyck\n",
    "\n",
    "import math\n",
    "\n",
    "def f(x):\n",
    "    return math.atan2(x[0], x[1])\n",
    "\n",
    "def distance(lat1, lon1, destination):\n",
    "#     lat1, lon1 = origin\n",
    "    lat2, lon2 = destination\n",
    "    radius = 6371 # km\n",
    "\n",
    "    dlat = (lat2-lat1).apply(math.radians)\n",
    "    dlon = (lon2-lon1).apply(math.radians)\n",
    "    tlat1 = lat1.apply(math.radians)\n",
    "    a = (dlat/2).apply(math.sin) * (dlat/2).apply(math.sin) + tlat1.apply(math.cos) \\\n",
    "        * math.cos(math.radians(lat2)) * (dlon/2).apply(math.sin) * (dlon/2).apply(math.sin)\n",
    "\n",
    "    df = pd.DataFrame({'a':a.apply(math.sqrt), 'b':(1-a).apply(math.sqrt)})\n",
    "    c = 2 * df.apply(f, axis=1)\n",
    "    d = radius * c\n",
    "    # convert to miles: 1 km = 0.621371 miles\n",
    "    d = d*0.621371\n",
    "\n",
    "    return d"
   ]
  },
  {
   "cell_type": "code",
   "execution_count": 14,
   "metadata": {},
   "outputs": [
    {
     "data": {
      "text/html": [
       "<div>\n",
       "<style>\n",
       "    .dataframe thead tr:only-child th {\n",
       "        text-align: right;\n",
       "    }\n",
       "\n",
       "    .dataframe thead th {\n",
       "        text-align: left;\n",
       "    }\n",
       "\n",
       "    .dataframe tbody tr th {\n",
       "        vertical-align: top;\n",
       "    }\n",
       "</style>\n",
       "<table border=\"1\" class=\"dataframe\">\n",
       "  <thead>\n",
       "    <tr style=\"text-align: right;\">\n",
       "      <th></th>\n",
       "      <th>VOTER_ID</th>\n",
       "      <th>addresses</th>\n",
       "      <th>Lat</th>\n",
       "      <th>Long</th>\n",
       "      <th>moveyear</th>\n",
       "      <th>year</th>\n",
       "      <th>distcenter</th>\n",
       "    </tr>\n",
       "  </thead>\n",
       "  <tbody>\n",
       "    <tr>\n",
       "      <th>5</th>\n",
       "      <td>519109</td>\n",
       "      <td>3542 SE TAYLOR ST PORTLAND OR 97214</td>\n",
       "      <td>45.514801</td>\n",
       "      <td>-122.627220</td>\n",
       "      <td>2008</td>\n",
       "      <td>1979.0</td>\n",
       "      <td>2.026245</td>\n",
       "    </tr>\n",
       "    <tr>\n",
       "      <th>8</th>\n",
       "      <td>519109</td>\n",
       "      <td>1834 NE 61ST AVE PORTLAND OR 97213</td>\n",
       "      <td>45.536209</td>\n",
       "      <td>-122.600258</td>\n",
       "      <td>2010</td>\n",
       "      <td>1979.0</td>\n",
       "      <td>3.373963</td>\n",
       "    </tr>\n",
       "    <tr>\n",
       "      <th>13</th>\n",
       "      <td>519109</td>\n",
       "      <td>3568 NE US GRANT PL PORTLAND OR 97212</td>\n",
       "      <td>45.537552</td>\n",
       "      <td>-122.626617</td>\n",
       "      <td>2012</td>\n",
       "      <td>1979.0</td>\n",
       "      <td>2.213089</td>\n",
       "    </tr>\n",
       "    <tr>\n",
       "      <th>48</th>\n",
       "      <td>100042592</td>\n",
       "      <td>2170 NW FLANDERS ST PORTLAND OR 97210</td>\n",
       "      <td>45.525513</td>\n",
       "      <td>-122.695755</td>\n",
       "      <td>2006</td>\n",
       "      <td>1978.0</td>\n",
       "      <td>1.383823</td>\n",
       "    </tr>\n",
       "    <tr>\n",
       "      <th>54</th>\n",
       "      <td>100042592</td>\n",
       "      <td>1720 SW 4TH AVE APT 101 PORTLAND OR 97201</td>\n",
       "      <td>45.511398</td>\n",
       "      <td>-122.679802</td>\n",
       "      <td>2010</td>\n",
       "      <td>1978.0</td>\n",
       "      <td>1.004677</td>\n",
       "    </tr>\n",
       "  </tbody>\n",
       "</table>\n",
       "</div>"
      ],
      "text/plain": [
       "     VOTER_ID                                  addresses        Lat  \\\n",
       "5      519109        3542 SE TAYLOR ST PORTLAND OR 97214  45.514801   \n",
       "8      519109         1834 NE 61ST AVE PORTLAND OR 97213  45.536209   \n",
       "13     519109      3568 NE US GRANT PL PORTLAND OR 97212  45.537552   \n",
       "48  100042592      2170 NW FLANDERS ST PORTLAND OR 97210  45.525513   \n",
       "54  100042592  1720 SW 4TH AVE APT 101 PORTLAND OR 97201  45.511398   \n",
       "\n",
       "          Long  moveyear    year  distcenter  \n",
       "5  -122.627220      2008  1979.0    2.026245  \n",
       "8  -122.600258      2010  1979.0    3.373963  \n",
       "13 -122.626617      2012  1979.0    2.213089  \n",
       "48 -122.695755      2006  1978.0    1.383823  \n",
       "54 -122.679802      2010  1978.0    1.004677  "
      ]
     },
     "execution_count": 14,
     "metadata": {},
     "output_type": "execute_result"
    }
   ],
   "source": [
    "# find distance from center (burnside bridge)\n",
    "center = [45.523049 , -122.667385]\n",
    "\n",
    "# calculate distance (miles) from center for each person\n",
    "voterlatlong['distcenter'] = distance(voterlatlong['Lat'], voterlatlong['Long'], center)"
   ]
  },
  {
   "cell_type": "code",
   "execution_count": 35,
   "metadata": {},
   "outputs": [
    {
     "data": {
      "text/plain": [
       "5072288    UNDER WEST SIDE OF BURNSIDE BRIDGE PORTLAND OR...\n",
       "Name: addresses, dtype: object"
      ]
     },
     "execution_count": 35,
     "metadata": {},
     "output_type": "execute_result"
    }
   ],
   "source": [
    "voterlatlong[voterlatlong['distcenter']<0.1].addresses"
   ]
  },
  {
   "cell_type": "code",
   "execution_count": null,
   "metadata": {
    "collapsed": true
   },
   "outputs": [],
   "source": [
    "# throw out less than 0.1 miles (applied to the wrong column)\n",
    "voterlatlong['distcenter'].min()\n",
    "voterlatlong = voterlatlong[voterlatlong['distcenter']>0.1]\n",
    "voterlatlong.head()"
   ]
  },
  {
   "cell_type": "code",
   "execution_count": 25,
   "metadata": {
    "scrolled": false
   },
   "outputs": [
    {
     "data": {
      "text/plain": [
       "[45.523049, -122.667385]"
      ]
     },
     "execution_count": 25,
     "metadata": {},
     "output_type": "execute_result"
    }
   ],
   "source": [
    "# need the following:\n",
    "# column for the displacement from previous address\n",
    "# column for the angle from the previous to new address\n",
    "# column for x coord based on previous address (trying to answer whether peopple are moving away or towards center)\n",
    "# column for y coord based on previous address (trying to answer whether peopple are moving away or towards center)\n",
    "# column for age at the time of move\n",
    "\n",
    "# this is correct, there are in fact some individuals with ages below 18 at the time of relocation\n",
    "voterlatlong['relocationage'] = voterlatlong.moveyear - voterlatlong.year\n",
    "# voterlatlong[voterlatlong.relocationage<18]"
   ]
  },
  {
   "cell_type": "code",
   "execution_count": 16,
   "metadata": {},
   "outputs": [
    {
     "data": {
      "text/html": [
       "<div>\n",
       "<style>\n",
       "    .dataframe thead tr:only-child th {\n",
       "        text-align: right;\n",
       "    }\n",
       "\n",
       "    .dataframe thead th {\n",
       "        text-align: left;\n",
       "    }\n",
       "\n",
       "    .dataframe tbody tr th {\n",
       "        vertical-align: top;\n",
       "    }\n",
       "</style>\n",
       "<table border=\"1\" class=\"dataframe\">\n",
       "  <thead>\n",
       "    <tr style=\"text-align: right;\">\n",
       "      <th></th>\n",
       "      <th>VOTER_ID</th>\n",
       "      <th>addresses</th>\n",
       "      <th>Lat</th>\n",
       "      <th>Long</th>\n",
       "      <th>moveyear</th>\n",
       "      <th>year</th>\n",
       "      <th>distcenter</th>\n",
       "      <th>relocationage</th>\n",
       "    </tr>\n",
       "  </thead>\n",
       "  <tbody>\n",
       "    <tr>\n",
       "      <th>5</th>\n",
       "      <td>519109</td>\n",
       "      <td>3542 SE TAYLOR ST PORTLAND OR 97214</td>\n",
       "      <td>45.514801</td>\n",
       "      <td>-122.627220</td>\n",
       "      <td>2008</td>\n",
       "      <td>1979.0</td>\n",
       "      <td>2.026245</td>\n",
       "      <td>29.0</td>\n",
       "    </tr>\n",
       "    <tr>\n",
       "      <th>8</th>\n",
       "      <td>519109</td>\n",
       "      <td>1834 NE 61ST AVE PORTLAND OR 97213</td>\n",
       "      <td>45.536209</td>\n",
       "      <td>-122.600258</td>\n",
       "      <td>2010</td>\n",
       "      <td>1979.0</td>\n",
       "      <td>3.373963</td>\n",
       "      <td>31.0</td>\n",
       "    </tr>\n",
       "    <tr>\n",
       "      <th>13</th>\n",
       "      <td>519109</td>\n",
       "      <td>3568 NE US GRANT PL PORTLAND OR 97212</td>\n",
       "      <td>45.537552</td>\n",
       "      <td>-122.626617</td>\n",
       "      <td>2012</td>\n",
       "      <td>1979.0</td>\n",
       "      <td>2.213089</td>\n",
       "      <td>33.0</td>\n",
       "    </tr>\n",
       "    <tr>\n",
       "      <th>48</th>\n",
       "      <td>100042592</td>\n",
       "      <td>2170 NW FLANDERS ST PORTLAND OR 97210</td>\n",
       "      <td>45.525513</td>\n",
       "      <td>-122.695755</td>\n",
       "      <td>2006</td>\n",
       "      <td>1978.0</td>\n",
       "      <td>1.383823</td>\n",
       "      <td>28.0</td>\n",
       "    </tr>\n",
       "    <tr>\n",
       "      <th>54</th>\n",
       "      <td>100042592</td>\n",
       "      <td>1720 SW 4TH AVE APT 101 PORTLAND OR 97201</td>\n",
       "      <td>45.511398</td>\n",
       "      <td>-122.679802</td>\n",
       "      <td>2010</td>\n",
       "      <td>1978.0</td>\n",
       "      <td>1.004677</td>\n",
       "      <td>32.0</td>\n",
       "    </tr>\n",
       "  </tbody>\n",
       "</table>\n",
       "</div>"
      ],
      "text/plain": [
       "     VOTER_ID                                  addresses        Lat  \\\n",
       "5      519109        3542 SE TAYLOR ST PORTLAND OR 97214  45.514801   \n",
       "8      519109         1834 NE 61ST AVE PORTLAND OR 97213  45.536209   \n",
       "13     519109      3568 NE US GRANT PL PORTLAND OR 97212  45.537552   \n",
       "48  100042592      2170 NW FLANDERS ST PORTLAND OR 97210  45.525513   \n",
       "54  100042592  1720 SW 4TH AVE APT 101 PORTLAND OR 97201  45.511398   \n",
       "\n",
       "          Long  moveyear    year  distcenter  relocationage  \n",
       "5  -122.627220      2008  1979.0    2.026245           29.0  \n",
       "8  -122.600258      2010  1979.0    3.373963           31.0  \n",
       "13 -122.626617      2012  1979.0    2.213089           33.0  \n",
       "48 -122.695755      2006  1978.0    1.383823           28.0  \n",
       "54 -122.679802      2010  1978.0    1.004677           32.0  "
      ]
     },
     "execution_count": 16,
     "metadata": {},
     "output_type": "execute_result"
    }
   ],
   "source": [
    "voterlatlong.head()"
   ]
  },
  {
   "cell_type": "code",
   "execution_count": 27,
   "metadata": {},
   "outputs": [
    {
     "data": {
      "text/html": [
       "<div>\n",
       "<style>\n",
       "    .dataframe thead tr:only-child th {\n",
       "        text-align: right;\n",
       "    }\n",
       "\n",
       "    .dataframe thead th {\n",
       "        text-align: left;\n",
       "    }\n",
       "\n",
       "    .dataframe tbody tr th {\n",
       "        vertical-align: top;\n",
       "    }\n",
       "</style>\n",
       "<table border=\"1\" class=\"dataframe\">\n",
       "  <thead>\n",
       "    <tr style=\"text-align: right;\">\n",
       "      <th></th>\n",
       "      <th>VOTER_ID</th>\n",
       "      <th>addresses</th>\n",
       "      <th>Lat</th>\n",
       "      <th>Long</th>\n",
       "      <th>moveyear</th>\n",
       "      <th>year</th>\n",
       "      <th>distcenter</th>\n",
       "      <th>relocationage</th>\n",
       "      <th>cLat</th>\n",
       "      <th>cLong</th>\n",
       "    </tr>\n",
       "  </thead>\n",
       "  <tbody>\n",
       "    <tr>\n",
       "      <th>5</th>\n",
       "      <td>519109</td>\n",
       "      <td>3542 SE TAYLOR ST PORTLAND OR 97214</td>\n",
       "      <td>45.514801</td>\n",
       "      <td>-122.627220</td>\n",
       "      <td>2008</td>\n",
       "      <td>1979.0</td>\n",
       "      <td>2.026245</td>\n",
       "      <td>29.0</td>\n",
       "      <td>-0.008248</td>\n",
       "      <td>0.040165</td>\n",
       "    </tr>\n",
       "    <tr>\n",
       "      <th>8</th>\n",
       "      <td>519109</td>\n",
       "      <td>1834 NE 61ST AVE PORTLAND OR 97213</td>\n",
       "      <td>45.536209</td>\n",
       "      <td>-122.600258</td>\n",
       "      <td>2010</td>\n",
       "      <td>1979.0</td>\n",
       "      <td>3.373963</td>\n",
       "      <td>31.0</td>\n",
       "      <td>0.013160</td>\n",
       "      <td>0.067127</td>\n",
       "    </tr>\n",
       "    <tr>\n",
       "      <th>13</th>\n",
       "      <td>519109</td>\n",
       "      <td>3568 NE US GRANT PL PORTLAND OR 97212</td>\n",
       "      <td>45.537552</td>\n",
       "      <td>-122.626617</td>\n",
       "      <td>2012</td>\n",
       "      <td>1979.0</td>\n",
       "      <td>2.213089</td>\n",
       "      <td>33.0</td>\n",
       "      <td>0.014503</td>\n",
       "      <td>0.040768</td>\n",
       "    </tr>\n",
       "    <tr>\n",
       "      <th>48</th>\n",
       "      <td>100042592</td>\n",
       "      <td>2170 NW FLANDERS ST PORTLAND OR 97210</td>\n",
       "      <td>45.525513</td>\n",
       "      <td>-122.695755</td>\n",
       "      <td>2006</td>\n",
       "      <td>1978.0</td>\n",
       "      <td>1.383823</td>\n",
       "      <td>28.0</td>\n",
       "      <td>0.002464</td>\n",
       "      <td>-0.028370</td>\n",
       "    </tr>\n",
       "    <tr>\n",
       "      <th>54</th>\n",
       "      <td>100042592</td>\n",
       "      <td>1720 SW 4TH AVE APT 101 PORTLAND OR 97201</td>\n",
       "      <td>45.511398</td>\n",
       "      <td>-122.679802</td>\n",
       "      <td>2010</td>\n",
       "      <td>1978.0</td>\n",
       "      <td>1.004677</td>\n",
       "      <td>32.0</td>\n",
       "      <td>-0.011651</td>\n",
       "      <td>-0.012417</td>\n",
       "    </tr>\n",
       "  </tbody>\n",
       "</table>\n",
       "</div>"
      ],
      "text/plain": [
       "     VOTER_ID                                  addresses        Lat  \\\n",
       "5      519109        3542 SE TAYLOR ST PORTLAND OR 97214  45.514801   \n",
       "8      519109         1834 NE 61ST AVE PORTLAND OR 97213  45.536209   \n",
       "13     519109      3568 NE US GRANT PL PORTLAND OR 97212  45.537552   \n",
       "48  100042592      2170 NW FLANDERS ST PORTLAND OR 97210  45.525513   \n",
       "54  100042592  1720 SW 4TH AVE APT 101 PORTLAND OR 97201  45.511398   \n",
       "\n",
       "          Long  moveyear    year  distcenter  relocationage      cLat  \\\n",
       "5  -122.627220      2008  1979.0    2.026245           29.0 -0.008248   \n",
       "8  -122.600258      2010  1979.0    3.373963           31.0  0.013160   \n",
       "13 -122.626617      2012  1979.0    2.213089           33.0  0.014503   \n",
       "48 -122.695755      2006  1978.0    1.383823           28.0  0.002464   \n",
       "54 -122.679802      2010  1978.0    1.004677           32.0 -0.011651   \n",
       "\n",
       "       cLong  \n",
       "5   0.040165  \n",
       "8   0.067127  \n",
       "13  0.040768  \n",
       "48 -0.028370  \n",
       "54 -0.012417  "
      ]
     },
     "execution_count": 27,
     "metadata": {},
     "output_type": "execute_result"
    }
   ],
   "source": [
    "# center all addresses to the city center (burnside bridge)\n",
    "voterlatlong['cLat'] = voterlatlong.Lat - center[0]\n",
    "voterlatlong['cLong'] = voterlatlong.Long - center[1]\n",
    "voterlatlong.head()"
   ]
  },
  {
   "cell_type": "code",
   "execution_count": 46,
   "metadata": {},
   "outputs": [
    {
     "data": {
      "text/plain": [
       "array([   519109, 100042592,  11909656, ...,  11448957, 100131085,\n",
       "       200000909])"
      ]
     },
     "execution_count": 46,
     "metadata": {},
     "output_type": "execute_result"
    }
   ],
   "source": [
    "# df has age at move, dist away or toward center, and angle\n",
    "df = pd.DataFrame()\n",
    "voters = voterlatlong.VOTER_ID.unique()\n",
    "voters"
   ]
  },
  {
   "cell_type": "code",
   "execution_count": 18,
   "metadata": {
    "collapsed": true
   },
   "outputs": [],
   "source": [
    "from ipywidgets import FloatProgress\n",
    "from IPython.display import display"
   ]
  },
  {
   "cell_type": "code",
   "execution_count": 47,
   "metadata": {},
   "outputs": [
    {
     "data": {
      "text/html": [
       "<div>\n",
       "<style>\n",
       "    .dataframe thead tr:only-child th {\n",
       "        text-align: right;\n",
       "    }\n",
       "\n",
       "    .dataframe thead th {\n",
       "        text-align: left;\n",
       "    }\n",
       "\n",
       "    .dataframe tbody tr th {\n",
       "        vertical-align: top;\n",
       "    }\n",
       "</style>\n",
       "<table border=\"1\" class=\"dataframe\">\n",
       "  <thead>\n",
       "    <tr style=\"text-align: right;\">\n",
       "      <th></th>\n",
       "      <th>VOTER_ID</th>\n",
       "      <th>addresses</th>\n",
       "      <th>Lat</th>\n",
       "      <th>Long</th>\n",
       "      <th>moveyear</th>\n",
       "      <th>year</th>\n",
       "      <th>distcenter</th>\n",
       "      <th>relocationage</th>\n",
       "      <th>cLat</th>\n",
       "      <th>cLong</th>\n",
       "    </tr>\n",
       "  </thead>\n",
       "  <tbody>\n",
       "    <tr>\n",
       "      <th>48</th>\n",
       "      <td>100042592</td>\n",
       "      <td>2170 NW FLANDERS ST PORTLAND OR 97210</td>\n",
       "      <td>45.525513</td>\n",
       "      <td>-122.695755</td>\n",
       "      <td>2006</td>\n",
       "      <td>1978.0</td>\n",
       "      <td>1.383823</td>\n",
       "      <td>28.0</td>\n",
       "      <td>0.002464</td>\n",
       "      <td>-0.028370</td>\n",
       "    </tr>\n",
       "    <tr>\n",
       "      <th>54</th>\n",
       "      <td>100042592</td>\n",
       "      <td>1720 SW 4TH AVE APT 101 PORTLAND OR 97201</td>\n",
       "      <td>45.511398</td>\n",
       "      <td>-122.679802</td>\n",
       "      <td>2010</td>\n",
       "      <td>1978.0</td>\n",
       "      <td>1.004677</td>\n",
       "      <td>32.0</td>\n",
       "      <td>-0.011651</td>\n",
       "      <td>-0.012417</td>\n",
       "    </tr>\n",
       "    <tr>\n",
       "      <th>61</th>\n",
       "      <td>100042592</td>\n",
       "      <td>1527 SW 18TH AVE PORTLAND OR 97201</td>\n",
       "      <td>45.516491</td>\n",
       "      <td>-122.693466</td>\n",
       "      <td>2013</td>\n",
       "      <td>1978.0</td>\n",
       "      <td>1.341464</td>\n",
       "      <td>35.0</td>\n",
       "      <td>-0.006558</td>\n",
       "      <td>-0.026081</td>\n",
       "    </tr>\n",
       "    <tr>\n",
       "      <th>67</th>\n",
       "      <td>100042592</td>\n",
       "      <td>411 NW FLANDERS ST APT 306 PORTLAND OR 97209</td>\n",
       "      <td>45.526051</td>\n",
       "      <td>-122.674637</td>\n",
       "      <td>2016</td>\n",
       "      <td>1978.0</td>\n",
       "      <td>0.407724</td>\n",
       "      <td>38.0</td>\n",
       "      <td>0.003002</td>\n",
       "      <td>-0.007252</td>\n",
       "    </tr>\n",
       "  </tbody>\n",
       "</table>\n",
       "</div>"
      ],
      "text/plain": [
       "     VOTER_ID                                     addresses        Lat  \\\n",
       "48  100042592         2170 NW FLANDERS ST PORTLAND OR 97210  45.525513   \n",
       "54  100042592     1720 SW 4TH AVE APT 101 PORTLAND OR 97201  45.511398   \n",
       "61  100042592            1527 SW 18TH AVE PORTLAND OR 97201  45.516491   \n",
       "67  100042592  411 NW FLANDERS ST APT 306 PORTLAND OR 97209  45.526051   \n",
       "\n",
       "          Long  moveyear    year  distcenter  relocationage      cLat  \\\n",
       "48 -122.695755      2006  1978.0    1.383823           28.0  0.002464   \n",
       "54 -122.679802      2010  1978.0    1.004677           32.0 -0.011651   \n",
       "61 -122.693466      2013  1978.0    1.341464           35.0 -0.006558   \n",
       "67 -122.674637      2016  1978.0    0.407724           38.0  0.003002   \n",
       "\n",
       "       cLong  \n",
       "48 -0.028370  \n",
       "54 -0.012417  \n",
       "61 -0.026081  \n",
       "67 -0.007252  "
      ]
     },
     "execution_count": 47,
     "metadata": {},
     "output_type": "execute_result"
    }
   ],
   "source": [
    "temp = voterlatlong[voterlatlong.VOTER_ID==voters[1]]\n",
    "temp.sort_values(by='moveyear', ascending=True)"
   ]
  },
  {
   "cell_type": "code",
   "execution_count": 48,
   "metadata": {},
   "outputs": [
    {
     "data": {
      "application/vnd.jupyter.widget-view+json": {
       "model_id": "fa70fefd01af41778ef1070001616a24"
      }
     },
     "metadata": {},
     "output_type": "display_data"
    }
   ],
   "source": [
    "max_count = len(voters)\n",
    "\n",
    "fb = FloatProgress(min=0, max=max_count) # instantiate the bar\n",
    "display(fb) # display the bar\n",
    "\n",
    "# for each voter, shove into the above df\n",
    "for voter in voters:\n",
    "    # signal to increment the progress bar\n",
    "    fb.value += 1\n",
    "    \n",
    "    # pull out individuals\n",
    "    temp = voterlatlong[voterlatlong.VOTER_ID == voter]\n",
    "    temp2 = temp.copy()\n",
    "    # sort by move year (oldest to newest)\n",
    "    temp = temp.sort_values(by='moveyear', ascending=True)\n",
    "    # calculate the distance and angle between the previous and the next address\n",
    "    temp2['consecdist'] = temp.distcenter.diff()\n",
    "    temp2['radians'] = np.arctan2(temp['cLat'], temp['cLong'])\n",
    "    df = df.append(temp2)"
   ]
  },
  {
   "cell_type": "code",
   "execution_count": 49,
   "metadata": {},
   "outputs": [
    {
     "data": {
      "text/html": [
       "<div>\n",
       "<style>\n",
       "    .dataframe thead tr:only-child th {\n",
       "        text-align: right;\n",
       "    }\n",
       "\n",
       "    .dataframe thead th {\n",
       "        text-align: left;\n",
       "    }\n",
       "\n",
       "    .dataframe tbody tr th {\n",
       "        vertical-align: top;\n",
       "    }\n",
       "</style>\n",
       "<table border=\"1\" class=\"dataframe\">\n",
       "  <thead>\n",
       "    <tr style=\"text-align: right;\">\n",
       "      <th></th>\n",
       "      <th>VOTER_ID</th>\n",
       "      <th>addresses</th>\n",
       "      <th>Lat</th>\n",
       "      <th>Long</th>\n",
       "      <th>moveyear</th>\n",
       "      <th>year</th>\n",
       "      <th>distcenter</th>\n",
       "      <th>relocationage</th>\n",
       "      <th>cLat</th>\n",
       "      <th>cLong</th>\n",
       "      <th>consecdist</th>\n",
       "      <th>radians</th>\n",
       "    </tr>\n",
       "  </thead>\n",
       "  <tbody>\n",
       "    <tr>\n",
       "      <th>5</th>\n",
       "      <td>519109</td>\n",
       "      <td>3542 SE TAYLOR ST PORTLAND OR 97214</td>\n",
       "      <td>45.514801</td>\n",
       "      <td>-122.627220</td>\n",
       "      <td>2008</td>\n",
       "      <td>1979.0</td>\n",
       "      <td>2.026245</td>\n",
       "      <td>29.0</td>\n",
       "      <td>-0.008248</td>\n",
       "      <td>0.040165</td>\n",
       "      <td>NaN</td>\n",
       "      <td>-0.202537</td>\n",
       "    </tr>\n",
       "    <tr>\n",
       "      <th>8</th>\n",
       "      <td>519109</td>\n",
       "      <td>1834 NE 61ST AVE PORTLAND OR 97213</td>\n",
       "      <td>45.536209</td>\n",
       "      <td>-122.600258</td>\n",
       "      <td>2010</td>\n",
       "      <td>1979.0</td>\n",
       "      <td>3.373963</td>\n",
       "      <td>31.0</td>\n",
       "      <td>0.013160</td>\n",
       "      <td>0.067127</td>\n",
       "      <td>1.347719</td>\n",
       "      <td>0.193592</td>\n",
       "    </tr>\n",
       "    <tr>\n",
       "      <th>13</th>\n",
       "      <td>519109</td>\n",
       "      <td>3568 NE US GRANT PL PORTLAND OR 97212</td>\n",
       "      <td>45.537552</td>\n",
       "      <td>-122.626617</td>\n",
       "      <td>2012</td>\n",
       "      <td>1979.0</td>\n",
       "      <td>2.213089</td>\n",
       "      <td>33.0</td>\n",
       "      <td>0.014503</td>\n",
       "      <td>0.040768</td>\n",
       "      <td>-1.160875</td>\n",
       "      <td>0.341784</td>\n",
       "    </tr>\n",
       "    <tr>\n",
       "      <th>48</th>\n",
       "      <td>100042592</td>\n",
       "      <td>2170 NW FLANDERS ST PORTLAND OR 97210</td>\n",
       "      <td>45.525513</td>\n",
       "      <td>-122.695755</td>\n",
       "      <td>2006</td>\n",
       "      <td>1978.0</td>\n",
       "      <td>1.383823</td>\n",
       "      <td>28.0</td>\n",
       "      <td>0.002464</td>\n",
       "      <td>-0.028370</td>\n",
       "      <td>NaN</td>\n",
       "      <td>3.054968</td>\n",
       "    </tr>\n",
       "    <tr>\n",
       "      <th>54</th>\n",
       "      <td>100042592</td>\n",
       "      <td>1720 SW 4TH AVE APT 101 PORTLAND OR 97201</td>\n",
       "      <td>45.511398</td>\n",
       "      <td>-122.679802</td>\n",
       "      <td>2010</td>\n",
       "      <td>1978.0</td>\n",
       "      <td>1.004677</td>\n",
       "      <td>32.0</td>\n",
       "      <td>-0.011651</td>\n",
       "      <td>-0.012417</td>\n",
       "      <td>-0.379147</td>\n",
       "      <td>-2.388021</td>\n",
       "    </tr>\n",
       "  </tbody>\n",
       "</table>\n",
       "</div>"
      ],
      "text/plain": [
       "     VOTER_ID                                  addresses        Lat  \\\n",
       "5      519109        3542 SE TAYLOR ST PORTLAND OR 97214  45.514801   \n",
       "8      519109         1834 NE 61ST AVE PORTLAND OR 97213  45.536209   \n",
       "13     519109      3568 NE US GRANT PL PORTLAND OR 97212  45.537552   \n",
       "48  100042592      2170 NW FLANDERS ST PORTLAND OR 97210  45.525513   \n",
       "54  100042592  1720 SW 4TH AVE APT 101 PORTLAND OR 97201  45.511398   \n",
       "\n",
       "          Long  moveyear    year  distcenter  relocationage      cLat  \\\n",
       "5  -122.627220      2008  1979.0    2.026245           29.0 -0.008248   \n",
       "8  -122.600258      2010  1979.0    3.373963           31.0  0.013160   \n",
       "13 -122.626617      2012  1979.0    2.213089           33.0  0.014503   \n",
       "48 -122.695755      2006  1978.0    1.383823           28.0  0.002464   \n",
       "54 -122.679802      2010  1978.0    1.004677           32.0 -0.011651   \n",
       "\n",
       "       cLong  consecdist   radians  \n",
       "5   0.040165         NaN -0.202537  \n",
       "8   0.067127    1.347719  0.193592  \n",
       "13  0.040768   -1.160875  0.341784  \n",
       "48 -0.028370         NaN  3.054968  \n",
       "54 -0.012417   -0.379147 -2.388021  "
      ]
     },
     "execution_count": 49,
     "metadata": {},
     "output_type": "execute_result"
    }
   ],
   "source": [
    "df.head()"
   ]
  },
  {
   "cell_type": "code",
   "execution_count": 62,
   "metadata": {
    "collapsed": true
   },
   "outputs": [],
   "source": [
    "# need x and y coordinates from consecdist and radians\n",
    "df['x'] = df.consecdist*np.cos(df.radians)\n",
    "df['y'] = df.consecdist*np.sin(df.radians)"
   ]
  },
  {
   "cell_type": "code",
   "execution_count": 63,
   "metadata": {},
   "outputs": [
    {
     "data": {
      "text/html": [
       "<div>\n",
       "<style>\n",
       "    .dataframe thead tr:only-child th {\n",
       "        text-align: right;\n",
       "    }\n",
       "\n",
       "    .dataframe thead th {\n",
       "        text-align: left;\n",
       "    }\n",
       "\n",
       "    .dataframe tbody tr th {\n",
       "        vertical-align: top;\n",
       "    }\n",
       "</style>\n",
       "<table border=\"1\" class=\"dataframe\">\n",
       "  <thead>\n",
       "    <tr style=\"text-align: right;\">\n",
       "      <th></th>\n",
       "      <th>VOTER_ID</th>\n",
       "      <th>addresses</th>\n",
       "      <th>Lat</th>\n",
       "      <th>Long</th>\n",
       "      <th>moveyear</th>\n",
       "      <th>year</th>\n",
       "      <th>distcenter</th>\n",
       "      <th>relocationage</th>\n",
       "      <th>cLat</th>\n",
       "      <th>cLong</th>\n",
       "      <th>consecdist</th>\n",
       "      <th>radians</th>\n",
       "      <th>x</th>\n",
       "      <th>y</th>\n",
       "    </tr>\n",
       "  </thead>\n",
       "  <tbody>\n",
       "    <tr>\n",
       "      <th>5</th>\n",
       "      <td>519109</td>\n",
       "      <td>3542 SE TAYLOR ST PORTLAND OR 97214</td>\n",
       "      <td>45.514801</td>\n",
       "      <td>-122.627220</td>\n",
       "      <td>2008</td>\n",
       "      <td>1979.0</td>\n",
       "      <td>2.026245</td>\n",
       "      <td>29.0</td>\n",
       "      <td>-0.008248</td>\n",
       "      <td>0.040165</td>\n",
       "      <td>NaN</td>\n",
       "      <td>-0.202537</td>\n",
       "      <td>NaN</td>\n",
       "      <td>NaN</td>\n",
       "    </tr>\n",
       "    <tr>\n",
       "      <th>8</th>\n",
       "      <td>519109</td>\n",
       "      <td>1834 NE 61ST AVE PORTLAND OR 97213</td>\n",
       "      <td>45.536209</td>\n",
       "      <td>-122.600258</td>\n",
       "      <td>2010</td>\n",
       "      <td>1979.0</td>\n",
       "      <td>3.373963</td>\n",
       "      <td>31.0</td>\n",
       "      <td>0.013160</td>\n",
       "      <td>0.067127</td>\n",
       "      <td>1.347719</td>\n",
       "      <td>0.193592</td>\n",
       "      <td>1.322543</td>\n",
       "      <td>0.259281</td>\n",
       "    </tr>\n",
       "    <tr>\n",
       "      <th>13</th>\n",
       "      <td>519109</td>\n",
       "      <td>3568 NE US GRANT PL PORTLAND OR 97212</td>\n",
       "      <td>45.537552</td>\n",
       "      <td>-122.626617</td>\n",
       "      <td>2012</td>\n",
       "      <td>1979.0</td>\n",
       "      <td>2.213089</td>\n",
       "      <td>33.0</td>\n",
       "      <td>0.014503</td>\n",
       "      <td>0.040768</td>\n",
       "      <td>-1.160875</td>\n",
       "      <td>0.341784</td>\n",
       "      <td>-1.093727</td>\n",
       "      <td>-0.389089</td>\n",
       "    </tr>\n",
       "    <tr>\n",
       "      <th>48</th>\n",
       "      <td>100042592</td>\n",
       "      <td>2170 NW FLANDERS ST PORTLAND OR 97210</td>\n",
       "      <td>45.525513</td>\n",
       "      <td>-122.695755</td>\n",
       "      <td>2006</td>\n",
       "      <td>1978.0</td>\n",
       "      <td>1.383823</td>\n",
       "      <td>28.0</td>\n",
       "      <td>0.002464</td>\n",
       "      <td>-0.028370</td>\n",
       "      <td>NaN</td>\n",
       "      <td>3.054968</td>\n",
       "      <td>NaN</td>\n",
       "      <td>NaN</td>\n",
       "    </tr>\n",
       "    <tr>\n",
       "      <th>54</th>\n",
       "      <td>100042592</td>\n",
       "      <td>1720 SW 4TH AVE APT 101 PORTLAND OR 97201</td>\n",
       "      <td>45.511398</td>\n",
       "      <td>-122.679802</td>\n",
       "      <td>2010</td>\n",
       "      <td>1978.0</td>\n",
       "      <td>1.004677</td>\n",
       "      <td>32.0</td>\n",
       "      <td>-0.011651</td>\n",
       "      <td>-0.012417</td>\n",
       "      <td>-0.379147</td>\n",
       "      <td>-2.388021</td>\n",
       "      <td>0.276493</td>\n",
       "      <td>0.259430</td>\n",
       "    </tr>\n",
       "  </tbody>\n",
       "</table>\n",
       "</div>"
      ],
      "text/plain": [
       "     VOTER_ID                                  addresses        Lat  \\\n",
       "5      519109        3542 SE TAYLOR ST PORTLAND OR 97214  45.514801   \n",
       "8      519109         1834 NE 61ST AVE PORTLAND OR 97213  45.536209   \n",
       "13     519109      3568 NE US GRANT PL PORTLAND OR 97212  45.537552   \n",
       "48  100042592      2170 NW FLANDERS ST PORTLAND OR 97210  45.525513   \n",
       "54  100042592  1720 SW 4TH AVE APT 101 PORTLAND OR 97201  45.511398   \n",
       "\n",
       "          Long  moveyear    year  distcenter  relocationage      cLat  \\\n",
       "5  -122.627220      2008  1979.0    2.026245           29.0 -0.008248   \n",
       "8  -122.600258      2010  1979.0    3.373963           31.0  0.013160   \n",
       "13 -122.626617      2012  1979.0    2.213089           33.0  0.014503   \n",
       "48 -122.695755      2006  1978.0    1.383823           28.0  0.002464   \n",
       "54 -122.679802      2010  1978.0    1.004677           32.0 -0.011651   \n",
       "\n",
       "       cLong  consecdist   radians         x         y  \n",
       "5   0.040165         NaN -0.202537       NaN       NaN  \n",
       "8   0.067127    1.347719  0.193592  1.322543  0.259281  \n",
       "13  0.040768   -1.160875  0.341784 -1.093727 -0.389089  \n",
       "48 -0.028370         NaN  3.054968       NaN       NaN  \n",
       "54 -0.012417   -0.379147 -2.388021  0.276493  0.259430  "
      ]
     },
     "execution_count": 63,
     "metadata": {},
     "output_type": "execute_result"
    }
   ],
   "source": [
    "df.head()"
   ]
  },
  {
   "cell_type": "code",
   "execution_count": 66,
   "metadata": {
    "collapsed": true
   },
   "outputs": [],
   "source": [
    "df = df.rename(columns={'year':'birthyear'})"
   ]
  },
  {
   "cell_type": "code",
   "execution_count": 67,
   "metadata": {
    "collapsed": true
   },
   "outputs": [],
   "source": [
    "# dump into csv, took way too long to get this\n",
    "df.to_csv('move_dist_angle_df.csv', sep='\\t')"
   ]
  },
  {
   "cell_type": "code",
   "execution_count": 71,
   "metadata": {},
   "outputs": [
    {
     "data": {
      "text/html": [
       "<div>\n",
       "<style>\n",
       "    .dataframe thead tr:only-child th {\n",
       "        text-align: right;\n",
       "    }\n",
       "\n",
       "    .dataframe thead th {\n",
       "        text-align: left;\n",
       "    }\n",
       "\n",
       "    .dataframe tbody tr th {\n",
       "        vertical-align: top;\n",
       "    }\n",
       "</style>\n",
       "<table border=\"1\" class=\"dataframe\">\n",
       "  <thead>\n",
       "    <tr style=\"text-align: right;\">\n",
       "      <th></th>\n",
       "      <th>VOTER_ID</th>\n",
       "      <th>addresses</th>\n",
       "      <th>Lat</th>\n",
       "      <th>Long</th>\n",
       "      <th>moveyear</th>\n",
       "      <th>birthyear</th>\n",
       "      <th>distcenter</th>\n",
       "      <th>relocationage</th>\n",
       "      <th>cLat</th>\n",
       "      <th>cLong</th>\n",
       "      <th>consecdist</th>\n",
       "      <th>radians</th>\n",
       "      <th>x</th>\n",
       "      <th>y</th>\n",
       "    </tr>\n",
       "  </thead>\n",
       "  <tbody>\n",
       "    <tr>\n",
       "      <th>5</th>\n",
       "      <td>519109</td>\n",
       "      <td>3542 SE TAYLOR ST PORTLAND OR 97214</td>\n",
       "      <td>45.514801</td>\n",
       "      <td>-122.627220</td>\n",
       "      <td>2008</td>\n",
       "      <td>1979.0</td>\n",
       "      <td>2.026245</td>\n",
       "      <td>29.0</td>\n",
       "      <td>-0.008248</td>\n",
       "      <td>0.040165</td>\n",
       "      <td>NaN</td>\n",
       "      <td>-0.202537</td>\n",
       "      <td>NaN</td>\n",
       "      <td>NaN</td>\n",
       "    </tr>\n",
       "    <tr>\n",
       "      <th>8</th>\n",
       "      <td>519109</td>\n",
       "      <td>1834 NE 61ST AVE PORTLAND OR 97213</td>\n",
       "      <td>45.536209</td>\n",
       "      <td>-122.600258</td>\n",
       "      <td>2010</td>\n",
       "      <td>1979.0</td>\n",
       "      <td>3.373963</td>\n",
       "      <td>31.0</td>\n",
       "      <td>0.013160</td>\n",
       "      <td>0.067127</td>\n",
       "      <td>1.347719</td>\n",
       "      <td>0.193592</td>\n",
       "      <td>1.322543</td>\n",
       "      <td>0.259281</td>\n",
       "    </tr>\n",
       "    <tr>\n",
       "      <th>13</th>\n",
       "      <td>519109</td>\n",
       "      <td>3568 NE US GRANT PL PORTLAND OR 97212</td>\n",
       "      <td>45.537552</td>\n",
       "      <td>-122.626617</td>\n",
       "      <td>2012</td>\n",
       "      <td>1979.0</td>\n",
       "      <td>2.213089</td>\n",
       "      <td>33.0</td>\n",
       "      <td>0.014503</td>\n",
       "      <td>0.040768</td>\n",
       "      <td>-1.160875</td>\n",
       "      <td>0.341784</td>\n",
       "      <td>-1.093727</td>\n",
       "      <td>-0.389089</td>\n",
       "    </tr>\n",
       "    <tr>\n",
       "      <th>48</th>\n",
       "      <td>100042592</td>\n",
       "      <td>2170 NW FLANDERS ST PORTLAND OR 97210</td>\n",
       "      <td>45.525513</td>\n",
       "      <td>-122.695755</td>\n",
       "      <td>2006</td>\n",
       "      <td>1978.0</td>\n",
       "      <td>1.383823</td>\n",
       "      <td>28.0</td>\n",
       "      <td>0.002464</td>\n",
       "      <td>-0.028370</td>\n",
       "      <td>NaN</td>\n",
       "      <td>3.054968</td>\n",
       "      <td>NaN</td>\n",
       "      <td>NaN</td>\n",
       "    </tr>\n",
       "    <tr>\n",
       "      <th>54</th>\n",
       "      <td>100042592</td>\n",
       "      <td>1720 SW 4TH AVE APT 101 PORTLAND OR 97201</td>\n",
       "      <td>45.511398</td>\n",
       "      <td>-122.679802</td>\n",
       "      <td>2010</td>\n",
       "      <td>1978.0</td>\n",
       "      <td>1.004677</td>\n",
       "      <td>32.0</td>\n",
       "      <td>-0.011651</td>\n",
       "      <td>-0.012417</td>\n",
       "      <td>-0.379147</td>\n",
       "      <td>-2.388021</td>\n",
       "      <td>0.276493</td>\n",
       "      <td>0.259430</td>\n",
       "    </tr>\n",
       "  </tbody>\n",
       "</table>\n",
       "</div>"
      ],
      "text/plain": [
       "     VOTER_ID                                  addresses        Lat  \\\n",
       "5      519109        3542 SE TAYLOR ST PORTLAND OR 97214  45.514801   \n",
       "8      519109         1834 NE 61ST AVE PORTLAND OR 97213  45.536209   \n",
       "13     519109      3568 NE US GRANT PL PORTLAND OR 97212  45.537552   \n",
       "48  100042592      2170 NW FLANDERS ST PORTLAND OR 97210  45.525513   \n",
       "54  100042592  1720 SW 4TH AVE APT 101 PORTLAND OR 97201  45.511398   \n",
       "\n",
       "          Long  moveyear  birthyear  distcenter  relocationage      cLat  \\\n",
       "5  -122.627220      2008     1979.0    2.026245           29.0 -0.008248   \n",
       "8  -122.600258      2010     1979.0    3.373963           31.0  0.013160   \n",
       "13 -122.626617      2012     1979.0    2.213089           33.0  0.014503   \n",
       "48 -122.695755      2006     1978.0    1.383823           28.0  0.002464   \n",
       "54 -122.679802      2010     1978.0    1.004677           32.0 -0.011651   \n",
       "\n",
       "       cLong  consecdist   radians         x         y  \n",
       "5   0.040165         NaN -0.202537       NaN       NaN  \n",
       "8   0.067127    1.347719  0.193592  1.322543  0.259281  \n",
       "13  0.040768   -1.160875  0.341784 -1.093727 -0.389089  \n",
       "48 -0.028370         NaN  3.054968       NaN       NaN  \n",
       "54 -0.012417   -0.379147 -2.388021  0.276493  0.259430  "
      ]
     },
     "execution_count": 71,
     "metadata": {},
     "output_type": "execute_result"
    }
   ],
   "source": [
    "df.head()"
   ]
  },
  {
   "cell_type": "code",
   "execution_count": 73,
   "metadata": {},
   "outputs": [
    {
     "data": {
      "text/html": [
       "<div>\n",
       "<style>\n",
       "    .dataframe thead tr:only-child th {\n",
       "        text-align: right;\n",
       "    }\n",
       "\n",
       "    .dataframe thead th {\n",
       "        text-align: left;\n",
       "    }\n",
       "\n",
       "    .dataframe tbody tr th {\n",
       "        vertical-align: top;\n",
       "    }\n",
       "</style>\n",
       "<table border=\"1\" class=\"dataframe\">\n",
       "  <thead>\n",
       "    <tr style=\"text-align: right;\">\n",
       "      <th></th>\n",
       "      <th>relocationage</th>\n",
       "      <th>consecdist</th>\n",
       "      <th>x</th>\n",
       "      <th>y</th>\n",
       "      <th>cLat</th>\n",
       "      <th>cLong</th>\n",
       "      <th>moveyear</th>\n",
       "      <th>radians</th>\n",
       "    </tr>\n",
       "  </thead>\n",
       "  <tbody>\n",
       "    <tr>\n",
       "      <th>5</th>\n",
       "      <td>29.0</td>\n",
       "      <td>NaN</td>\n",
       "      <td>NaN</td>\n",
       "      <td>NaN</td>\n",
       "      <td>-0.008248</td>\n",
       "      <td>0.040165</td>\n",
       "      <td>2008</td>\n",
       "      <td>-0.202537</td>\n",
       "    </tr>\n",
       "    <tr>\n",
       "      <th>8</th>\n",
       "      <td>31.0</td>\n",
       "      <td>1.347719</td>\n",
       "      <td>1.322543</td>\n",
       "      <td>0.259281</td>\n",
       "      <td>0.013160</td>\n",
       "      <td>0.067127</td>\n",
       "      <td>2010</td>\n",
       "      <td>0.193592</td>\n",
       "    </tr>\n",
       "    <tr>\n",
       "      <th>13</th>\n",
       "      <td>33.0</td>\n",
       "      <td>-1.160875</td>\n",
       "      <td>-1.093727</td>\n",
       "      <td>-0.389089</td>\n",
       "      <td>0.014503</td>\n",
       "      <td>0.040768</td>\n",
       "      <td>2012</td>\n",
       "      <td>0.341784</td>\n",
       "    </tr>\n",
       "    <tr>\n",
       "      <th>48</th>\n",
       "      <td>28.0</td>\n",
       "      <td>NaN</td>\n",
       "      <td>NaN</td>\n",
       "      <td>NaN</td>\n",
       "      <td>0.002464</td>\n",
       "      <td>-0.028370</td>\n",
       "      <td>2006</td>\n",
       "      <td>3.054968</td>\n",
       "    </tr>\n",
       "    <tr>\n",
       "      <th>54</th>\n",
       "      <td>32.0</td>\n",
       "      <td>-0.379147</td>\n",
       "      <td>0.276493</td>\n",
       "      <td>0.259430</td>\n",
       "      <td>-0.011651</td>\n",
       "      <td>-0.012417</td>\n",
       "      <td>2010</td>\n",
       "      <td>-2.388021</td>\n",
       "    </tr>\n",
       "  </tbody>\n",
       "</table>\n",
       "</div>"
      ],
      "text/plain": [
       "    relocationage  consecdist         x         y      cLat     cLong  \\\n",
       "5            29.0         NaN       NaN       NaN -0.008248  0.040165   \n",
       "8            31.0    1.347719  1.322543  0.259281  0.013160  0.067127   \n",
       "13           33.0   -1.160875 -1.093727 -0.389089  0.014503  0.040768   \n",
       "48           28.0         NaN       NaN       NaN  0.002464 -0.028370   \n",
       "54           32.0   -0.379147  0.276493  0.259430 -0.011651 -0.012417   \n",
       "\n",
       "    moveyear   radians  \n",
       "5       2008 -0.202537  \n",
       "8       2010  0.193592  \n",
       "13      2012  0.341784  \n",
       "48      2006  3.054968  \n",
       "54      2010 -2.388021  "
      ]
     },
     "execution_count": 73,
     "metadata": {},
     "output_type": "execute_result"
    }
   ],
   "source": [
    "df2 = df[['relocationage', 'consecdist', 'x', 'y', 'cLat', 'cLong', 'moveyear', 'radians']]\n",
    "df2.head()"
   ]
  },
  {
   "cell_type": "code",
   "execution_count": 74,
   "metadata": {},
   "outputs": [
    {
     "data": {
      "text/html": [
       "<div>\n",
       "<style>\n",
       "    .dataframe thead tr:only-child th {\n",
       "        text-align: right;\n",
       "    }\n",
       "\n",
       "    .dataframe thead th {\n",
       "        text-align: left;\n",
       "    }\n",
       "\n",
       "    .dataframe tbody tr th {\n",
       "        vertical-align: top;\n",
       "    }\n",
       "</style>\n",
       "<table border=\"1\" class=\"dataframe\">\n",
       "  <thead>\n",
       "    <tr style=\"text-align: right;\">\n",
       "      <th></th>\n",
       "      <th>relocationage</th>\n",
       "      <th>consecdist</th>\n",
       "      <th>x</th>\n",
       "      <th>y</th>\n",
       "      <th>cLat</th>\n",
       "      <th>cLong</th>\n",
       "      <th>moveyear</th>\n",
       "      <th>radians</th>\n",
       "    </tr>\n",
       "  </thead>\n",
       "  <tbody>\n",
       "    <tr>\n",
       "      <th>8</th>\n",
       "      <td>31.0</td>\n",
       "      <td>1.347719</td>\n",
       "      <td>1.322543</td>\n",
       "      <td>0.259281</td>\n",
       "      <td>0.013160</td>\n",
       "      <td>0.067127</td>\n",
       "      <td>2010</td>\n",
       "      <td>0.193592</td>\n",
       "    </tr>\n",
       "    <tr>\n",
       "      <th>13</th>\n",
       "      <td>33.0</td>\n",
       "      <td>-1.160875</td>\n",
       "      <td>-1.093727</td>\n",
       "      <td>-0.389089</td>\n",
       "      <td>0.014503</td>\n",
       "      <td>0.040768</td>\n",
       "      <td>2012</td>\n",
       "      <td>0.341784</td>\n",
       "    </tr>\n",
       "    <tr>\n",
       "      <th>54</th>\n",
       "      <td>32.0</td>\n",
       "      <td>-0.379147</td>\n",
       "      <td>0.276493</td>\n",
       "      <td>0.259430</td>\n",
       "      <td>-0.011651</td>\n",
       "      <td>-0.012417</td>\n",
       "      <td>2010</td>\n",
       "      <td>-2.388021</td>\n",
       "    </tr>\n",
       "    <tr>\n",
       "      <th>61</th>\n",
       "      <td>35.0</td>\n",
       "      <td>0.336787</td>\n",
       "      <td>-0.326620</td>\n",
       "      <td>-0.082128</td>\n",
       "      <td>-0.006558</td>\n",
       "      <td>-0.026081</td>\n",
       "      <td>2013</td>\n",
       "      <td>-2.895252</td>\n",
       "    </tr>\n",
       "    <tr>\n",
       "      <th>67</th>\n",
       "      <td>38.0</td>\n",
       "      <td>-0.933740</td>\n",
       "      <td>0.862757</td>\n",
       "      <td>-0.357099</td>\n",
       "      <td>0.003002</td>\n",
       "      <td>-0.007252</td>\n",
       "      <td>2016</td>\n",
       "      <td>2.749158</td>\n",
       "    </tr>\n",
       "  </tbody>\n",
       "</table>\n",
       "</div>"
      ],
      "text/plain": [
       "    relocationage  consecdist         x         y      cLat     cLong  \\\n",
       "8            31.0    1.347719  1.322543  0.259281  0.013160  0.067127   \n",
       "13           33.0   -1.160875 -1.093727 -0.389089  0.014503  0.040768   \n",
       "54           32.0   -0.379147  0.276493  0.259430 -0.011651 -0.012417   \n",
       "61           35.0    0.336787 -0.326620 -0.082128 -0.006558 -0.026081   \n",
       "67           38.0   -0.933740  0.862757 -0.357099  0.003002 -0.007252   \n",
       "\n",
       "    moveyear   radians  \n",
       "8       2010  0.193592  \n",
       "13      2012  0.341784  \n",
       "54      2010 -2.388021  \n",
       "61      2013 -2.895252  \n",
       "67      2016  2.749158  "
      ]
     },
     "execution_count": 74,
     "metadata": {},
     "output_type": "execute_result"
    }
   ],
   "source": [
    "df2 = df2.dropna()\n",
    "df2.head()"
   ]
  },
  {
   "cell_type": "code",
   "execution_count": 80,
   "metadata": {
    "collapsed": true
   },
   "outputs": [],
   "source": [
    "df2['degrees'] = np.mod((df2.radians + 2*np.pi)*180/np.pi, 360)"
   ]
  },
  {
   "cell_type": "code",
   "execution_count": 82,
   "metadata": {
    "collapsed": true
   },
   "outputs": [],
   "source": [
    "df2 = df2.drop('radians', axis=1)"
   ]
  },
  {
   "cell_type": "code",
   "execution_count": 83,
   "metadata": {},
   "outputs": [
    {
     "data": {
      "text/html": [
       "<div>\n",
       "<style>\n",
       "    .dataframe thead tr:only-child th {\n",
       "        text-align: right;\n",
       "    }\n",
       "\n",
       "    .dataframe thead th {\n",
       "        text-align: left;\n",
       "    }\n",
       "\n",
       "    .dataframe tbody tr th {\n",
       "        vertical-align: top;\n",
       "    }\n",
       "</style>\n",
       "<table border=\"1\" class=\"dataframe\">\n",
       "  <thead>\n",
       "    <tr style=\"text-align: right;\">\n",
       "      <th></th>\n",
       "      <th>relocationage</th>\n",
       "      <th>consecdist</th>\n",
       "      <th>x</th>\n",
       "      <th>y</th>\n",
       "      <th>cLat</th>\n",
       "      <th>cLong</th>\n",
       "      <th>moveyear</th>\n",
       "      <th>degrees</th>\n",
       "    </tr>\n",
       "  </thead>\n",
       "  <tbody>\n",
       "    <tr>\n",
       "      <th>8</th>\n",
       "      <td>31.0</td>\n",
       "      <td>1.347719</td>\n",
       "      <td>1.322543</td>\n",
       "      <td>0.259281</td>\n",
       "      <td>0.013160</td>\n",
       "      <td>0.067127</td>\n",
       "      <td>2010</td>\n",
       "      <td>11.092017</td>\n",
       "    </tr>\n",
       "    <tr>\n",
       "      <th>13</th>\n",
       "      <td>33.0</td>\n",
       "      <td>-1.160875</td>\n",
       "      <td>-1.093727</td>\n",
       "      <td>-0.389089</td>\n",
       "      <td>0.014503</td>\n",
       "      <td>0.040768</td>\n",
       "      <td>2012</td>\n",
       "      <td>19.582788</td>\n",
       "    </tr>\n",
       "    <tr>\n",
       "      <th>54</th>\n",
       "      <td>32.0</td>\n",
       "      <td>-0.379147</td>\n",
       "      <td>0.276493</td>\n",
       "      <td>0.259430</td>\n",
       "      <td>-0.011651</td>\n",
       "      <td>-0.012417</td>\n",
       "      <td>2010</td>\n",
       "      <td>223.176454</td>\n",
       "    </tr>\n",
       "    <tr>\n",
       "      <th>61</th>\n",
       "      <td>35.0</td>\n",
       "      <td>0.336787</td>\n",
       "      <td>-0.326620</td>\n",
       "      <td>-0.082128</td>\n",
       "      <td>-0.006558</td>\n",
       "      <td>-0.026081</td>\n",
       "      <td>2013</td>\n",
       "      <td>194.114304</td>\n",
       "    </tr>\n",
       "    <tr>\n",
       "      <th>67</th>\n",
       "      <td>38.0</td>\n",
       "      <td>-0.933740</td>\n",
       "      <td>0.862757</td>\n",
       "      <td>-0.357099</td>\n",
       "      <td>0.003002</td>\n",
       "      <td>-0.007252</td>\n",
       "      <td>2016</td>\n",
       "      <td>157.515129</td>\n",
       "    </tr>\n",
       "  </tbody>\n",
       "</table>\n",
       "</div>"
      ],
      "text/plain": [
       "    relocationage  consecdist         x         y      cLat     cLong  \\\n",
       "8            31.0    1.347719  1.322543  0.259281  0.013160  0.067127   \n",
       "13           33.0   -1.160875 -1.093727 -0.389089  0.014503  0.040768   \n",
       "54           32.0   -0.379147  0.276493  0.259430 -0.011651 -0.012417   \n",
       "61           35.0    0.336787 -0.326620 -0.082128 -0.006558 -0.026081   \n",
       "67           38.0   -0.933740  0.862757 -0.357099  0.003002 -0.007252   \n",
       "\n",
       "    moveyear     degrees  \n",
       "8       2010   11.092017  \n",
       "13      2012   19.582788  \n",
       "54      2010  223.176454  \n",
       "61      2013  194.114304  \n",
       "67      2016  157.515129  "
      ]
     },
     "execution_count": 83,
     "metadata": {},
     "output_type": "execute_result"
    }
   ],
   "source": [
    "df2.head()"
   ]
  },
  {
   "cell_type": "code",
   "execution_count": 136,
   "metadata": {
    "collapsed": true
   },
   "outputs": [],
   "source": [
    "# dump into csv, took way too long to get this\n",
    "df2.to_csv('subset_move_dist_angle_df.csv', sep='\\t', index=False)"
   ]
  },
  {
   "cell_type": "code",
   "execution_count": 3,
   "metadata": {},
   "outputs": [],
   "source": [
    "df2 = pd.read_csv('subset_move_dist_angle_df.csv', sep='\\t')"
   ]
  },
  {
   "cell_type": "code",
   "execution_count": 125,
   "metadata": {
    "collapsed": true
   },
   "outputs": [],
   "source": [
    "mask = abs(df2.consecdist)<0.1\n",
    "df2 = df2[~mask]"
   ]
  },
  {
   "cell_type": "code",
   "execution_count": 4,
   "metadata": {
    "collapsed": true
   },
   "outputs": [],
   "source": [
    "import matplotlib.pyplot as plt"
   ]
  },
  {
   "cell_type": "code",
   "execution_count": 113,
   "metadata": {
    "collapsed": true
   },
   "outputs": [],
   "source": [
    "df = df2.copy()\n",
    "df = df.dropna(how='any')\n",
    "age_groups = [18, 26, 33, 40, 50, 150];\n",
    "# group by age\n",
    "df['age_group'] = 0\n",
    "for i in range(0, len(age_groups) - 1):\n",
    "    # assign age group category for edf.currageon\n",
    "    df.loc[(df.relocationage>=age_groups[i]) & (df.relocationage<age_groups[i+1]), 'age_group'] = age_groups[i]"
   ]
  },
  {
   "cell_type": "code",
   "execution_count": 5,
   "metadata": {},
   "outputs": [
    {
     "data": {
      "text/html": [
       "<div>\n",
       "<style>\n",
       "    .dataframe thead tr:only-child th {\n",
       "        text-align: right;\n",
       "    }\n",
       "\n",
       "    .dataframe thead th {\n",
       "        text-align: left;\n",
       "    }\n",
       "\n",
       "    .dataframe tbody tr th {\n",
       "        vertical-align: top;\n",
       "    }\n",
       "</style>\n",
       "<table border=\"1\" class=\"dataframe\">\n",
       "  <thead>\n",
       "    <tr style=\"text-align: right;\">\n",
       "      <th></th>\n",
       "      <th>relocationage</th>\n",
       "      <th>consecdist</th>\n",
       "      <th>x</th>\n",
       "      <th>y</th>\n",
       "      <th>cLat</th>\n",
       "      <th>cLong</th>\n",
       "      <th>moveyear</th>\n",
       "      <th>degrees</th>\n",
       "      <th>age_group</th>\n",
       "    </tr>\n",
       "  </thead>\n",
       "  <tbody>\n",
       "    <tr>\n",
       "      <th>0</th>\n",
       "      <td>31.0</td>\n",
       "      <td>1.347719</td>\n",
       "      <td>1.322543</td>\n",
       "      <td>0.259281</td>\n",
       "      <td>0.013160</td>\n",
       "      <td>0.067127</td>\n",
       "      <td>2010</td>\n",
       "      <td>11.092017</td>\n",
       "      <td>26</td>\n",
       "    </tr>\n",
       "    <tr>\n",
       "      <th>1</th>\n",
       "      <td>33.0</td>\n",
       "      <td>-1.160875</td>\n",
       "      <td>-1.093727</td>\n",
       "      <td>-0.389089</td>\n",
       "      <td>0.014503</td>\n",
       "      <td>0.040768</td>\n",
       "      <td>2012</td>\n",
       "      <td>19.582788</td>\n",
       "      <td>33</td>\n",
       "    </tr>\n",
       "    <tr>\n",
       "      <th>2</th>\n",
       "      <td>32.0</td>\n",
       "      <td>-0.379147</td>\n",
       "      <td>0.276493</td>\n",
       "      <td>0.259430</td>\n",
       "      <td>-0.011651</td>\n",
       "      <td>-0.012417</td>\n",
       "      <td>2010</td>\n",
       "      <td>223.176454</td>\n",
       "      <td>26</td>\n",
       "    </tr>\n",
       "    <tr>\n",
       "      <th>3</th>\n",
       "      <td>35.0</td>\n",
       "      <td>0.336787</td>\n",
       "      <td>-0.326620</td>\n",
       "      <td>-0.082128</td>\n",
       "      <td>-0.006558</td>\n",
       "      <td>-0.026081</td>\n",
       "      <td>2013</td>\n",
       "      <td>194.114304</td>\n",
       "      <td>33</td>\n",
       "    </tr>\n",
       "    <tr>\n",
       "      <th>4</th>\n",
       "      <td>38.0</td>\n",
       "      <td>-0.933740</td>\n",
       "      <td>0.862757</td>\n",
       "      <td>-0.357099</td>\n",
       "      <td>0.003002</td>\n",
       "      <td>-0.007252</td>\n",
       "      <td>2016</td>\n",
       "      <td>157.515129</td>\n",
       "      <td>33</td>\n",
       "    </tr>\n",
       "  </tbody>\n",
       "</table>\n",
       "</div>"
      ],
      "text/plain": [
       "   relocationage  consecdist         x         y      cLat     cLong  \\\n",
       "0           31.0    1.347719  1.322543  0.259281  0.013160  0.067127   \n",
       "1           33.0   -1.160875 -1.093727 -0.389089  0.014503  0.040768   \n",
       "2           32.0   -0.379147  0.276493  0.259430 -0.011651 -0.012417   \n",
       "3           35.0    0.336787 -0.326620 -0.082128 -0.006558 -0.026081   \n",
       "4           38.0   -0.933740  0.862757 -0.357099  0.003002 -0.007252   \n",
       "\n",
       "   moveyear     degrees  age_group  \n",
       "0      2010   11.092017         26  \n",
       "1      2012   19.582788         33  \n",
       "2      2010  223.176454         26  \n",
       "3      2013  194.114304         33  \n",
       "4      2016  157.515129         33  "
      ]
     },
     "execution_count": 5,
     "metadata": {},
     "output_type": "execute_result"
    }
   ],
   "source": [
    "df2.head()"
   ]
  },
  {
   "cell_type": "code",
   "execution_count": 160,
   "metadata": {},
   "outputs": [
    {
     "data": {
      "image/png": "[encoded data removed]",
      "text/plain": [
       "<matplotlib.figure.Figure at 0x11f623d30>"
      ]
     },
     "metadata": {},
     "output_type": "display_data"
    },
    {
     "name": "stdout",
     "output_type": "stream",
     "text": [
      "negative: 0.5032391697148649\n",
      "positive: 0.49676083028513507\n",
      "count    22691.000000\n",
      "mean        -0.208136\n",
      "std          2.799346\n",
      "min        -34.650740\n",
      "25%         -1.491958\n",
      "50%         -0.112178\n",
      "75%          1.243965\n",
      "max         23.449708\n",
      "Name: consecdist, dtype: float64\n"
     ]
    }
   ],
   "source": [
    "temp = df2.loc[df2.age_group==18,'consecdist']\n",
    "plt.hist(temp, bins=50, range=[-15, 15])\n",
    "plt.show()\n",
    "print('negative: {}'.format(sum(temp<0)/temp.shape[0]))\n",
    "print('positive: {}'.format(sum(temp>0)/temp.shape[0]))\n",
    "print(temp.describe())"
   ]
  },
  {
   "cell_type": "code",
   "execution_count": 157,
   "metadata": {},
   "outputs": [
    {
     "data": {
      "image/png": "[encoded data removed]",
      "text/plain": [
       "<matplotlib.figure.Figure at 0x11e2150f0>"
      ]
     },
     "metadata": {},
     "output_type": "display_data"
    },
    {
     "name": "stdout",
     "output_type": "stream",
     "text": [
      "negative: 0.43268794188233767\n",
      "positive: 0.5673120581176623\n",
      "count    61668.000000\n",
      "mean         0.160998\n",
      "std          2.437505\n",
      "min        -20.180207\n",
      "25%         -0.956752\n",
      "50%          0.322292\n",
      "75%          1.470707\n",
      "max         24.303645\n",
      "Name: consecdist, dtype: float64\n"
     ]
    }
   ],
   "source": [
    "temp = df2.loc[df2.age_group==26,'consecdist']\n",
    "plt.hist(temp, bins=50, range=[-15, 15])\n",
    "plt.show()\n",
    "temp.describe()\n",
    "print('negative: {}'.format(sum(temp<0)/temp.shape[0]))\n",
    "print('positive: {}'.format(sum(temp>0)/temp.shape[0]))\n",
    "print(temp.describe())"
   ]
  },
  {
   "cell_type": "code",
   "execution_count": 36,
   "metadata": {},
   "outputs": [
    {
     "data": {
      "image/png": "[encoded data removed]",
      "text/plain": [
       "<matplotlib.figure.Figure at 0x118e5f2e8>"
      ]
     },
     "metadata": {},
     "output_type": "display_data"
    },
    {
     "name": "stdout",
     "output_type": "stream",
     "text": [
      "negative: 0.41136389883358354\n",
      "positive: 0.5886361011664164\n",
      "count    43295.000000\n",
      "mean         0.297615\n",
      "std          2.446590\n",
      "min        -65.281879\n",
      "25%         -0.852820\n",
      "50%          0.411204\n",
      "75%          1.591762\n",
      "max         23.258658\n",
      "Name: consecdist, dtype: float64\n"
     ]
    }
   ],
   "source": [
    "temp = df2.loc[df2.age_group==33,'consecdist']\n",
    "plt.hist(temp, bins=50, range=[-5, 5])\n",
    "plt.show()\n",
    "temp.describe()\n",
    "print('negative: {}'.format(sum(temp<0)/temp.shape[0]))\n",
    "print('positive: {}'.format(sum(temp>0)/temp.shape[0]))\n",
    "print(temp.describe())"
   ]
  },
  {
   "cell_type": "code",
   "execution_count": 37,
   "metadata": {},
   "outputs": [
    {
     "data": {
      "image/png": "[encoded data removed]",
      "text/plain": [
       "<matplotlib.figure.Figure at 0x116a467b8>"
      ]
     },
     "metadata": {},
     "output_type": "display_data"
    },
    {
     "name": "stdout",
     "output_type": "stream",
     "text": [
      "negative: 0.44108632119181695\n",
      "positive: 0.5589136788081831\n",
      "count    28058.000000\n",
      "mean         0.184496\n",
      "std          2.655028\n",
      "min        -23.465148\n",
      "25%         -1.014385\n",
      "50%          0.293735\n",
      "75%          1.534835\n",
      "max         29.607178\n",
      "Name: consecdist, dtype: float64\n"
     ]
    }
   ],
   "source": [
    "temp = df2.loc[df2.age_group==40,'consecdist']\n",
    "plt.hist(temp, bins=50, range=[-5, 5])\n",
    "plt.show()\n",
    "temp.describe()\n",
    "print('negative: {}'.format(sum(temp<0)/temp.shape[0]))\n",
    "print('positive: {}'.format(sum(temp>0)/temp.shape[0]))\n",
    "print(temp.describe())"
   ]
  },
  {
   "cell_type": "code",
   "execution_count": 156,
   "metadata": {},
   "outputs": [
    {
     "data": {
      "image/png": "[encoded data removed]",
      "text/plain": [
       "<matplotlib.figure.Figure at 0x11dfc0390>"
      ]
     },
     "metadata": {},
     "output_type": "display_data"
    },
    {
     "name": "stdout",
     "output_type": "stream",
     "text": [
      "negative: 0.45746412191152536\n",
      "positive: 0.5425358780884746\n",
      "count    27036.000000\n",
      "mean         0.055005\n",
      "std          3.027239\n",
      "min        -28.226889\n",
      "25%         -1.265929\n",
      "50%          0.227772\n",
      "75%          1.636117\n",
      "max         21.698957\n",
      "Name: consecdist, dtype: float64\n"
     ]
    }
   ],
   "source": [
    "temp = df2.loc[df2.age_group==50,'consecdist']\n",
    "plt.hist(temp, bins=50, range=[-15, 15])\n",
    "plt.show()\n",
    "temp.describe()\n",
    "print('negative: {}'.format(sum(temp<0)/temp.shape[0]))\n",
    "print('positive: {}'.format(sum(temp>0)/temp.shape[0]))\n",
    "print(temp.describe())"
   ]
  },
  {
   "cell_type": "code",
   "execution_count": 8,
   "metadata": {},
   "outputs": [
    {
     "data": {
      "image/png": "[encoded data removed]",
      "text/plain": [
       "<matplotlib.figure.Figure at 0x116e09a90>"
      ]
     },
     "metadata": {},
     "output_type": "display_data"
    }
   ],
   "source": [
    "temp = df2.loc[(df2.age_group==18) & (df2.consecdist>0),'degrees']\n",
    "plt.hist(temp, bins=50)\n",
    "plt.show()"
   ]
  },
  {
   "cell_type": "code",
   "execution_count": 9,
   "metadata": {},
   "outputs": [
    {
     "data": {
      "image/png": "[encoded data removed]",
      "text/plain": [
       "<matplotlib.figure.Figure at 0x116e79ef0>"
      ]
     },
     "metadata": {},
     "output_type": "display_data"
    }
   ],
   "source": [
    "temp = df2.loc[(df2.age_group==18) & (df2.consecdist<0),'degrees']\n",
    "plt.hist(temp, bins=50)\n",
    "plt.show()"
   ]
  },
  {
   "cell_type": "code",
   "execution_count": 7,
   "metadata": {},
   "outputs": [
    {
     "data": {
      "image/png": "[encoded data removed]",
      "text/plain": [
       "<matplotlib.figure.Figure at 0x1173eb438>"
      ]
     },
     "metadata": {},
     "output_type": "display_data"
    }
   ],
   "source": [
    "temp = df2.loc[(df2.age_group==26) & (df2.consecdist>0),'degrees']\n",
    "plt.hist(temp, bins=50)\n",
    "plt.show()"
   ]
  },
  {
   "cell_type": "code",
   "execution_count": 10,
   "metadata": {},
   "outputs": [
    {
     "data": {
      "image/png": "[encoded data removed]",
      "text/plain": [
       "<matplotlib.figure.Figure at 0x118b74d68>"
      ]
     },
     "metadata": {},
     "output_type": "display_data"
    }
   ],
   "source": [
    "temp = df2.loc[(df2.age_group==26) & (df2.consecdist<0),'degrees']\n",
    "plt.hist(temp, bins=50)\n",
    "plt.show()"
   ]
  },
  {
   "cell_type": "code",
   "execution_count": 6,
   "metadata": {},
   "outputs": [
    {
     "data": {
      "image/png": "[encoded data removed]",
      "text/plain": [
       "<matplotlib.figure.Figure at 0x118a7e4e0>"
      ]
     },
     "metadata": {},
     "output_type": "display_data"
    }
   ],
   "source": [
    "temp = df2.loc[(df2.age_group==33) & (df2.consecdist>0),'degrees']\n",
    "plt.hist(temp, bins=50)\n",
    "plt.show()"
   ]
  },
  {
   "cell_type": "code",
   "execution_count": 11,
   "metadata": {},
   "outputs": [
    {
     "data": {
      "image/png": "[encoded data removed]",
      "text/plain": [
       "<matplotlib.figure.Figure at 0x10e3db438>"
      ]
     },
     "metadata": {},
     "output_type": "display_data"
    }
   ],
   "source": [
    "temp = df2.loc[(df2.age_group==33) & (df2.consecdist<0),'degrees']\n",
    "plt.hist(temp, bins=50)\n",
    "plt.show()"
   ]
  },
  {
   "cell_type": "code",
   "execution_count": 12,
   "metadata": {},
   "outputs": [
    {
     "data": {
      "image/png": "[encoded data removed]",
      "text/plain": [
       "<matplotlib.figure.Figure at 0x116e52668>"
      ]
     },
     "metadata": {},
     "output_type": "display_data"
    },
    {
     "name": "stdout",
     "output_type": "stream",
     "text": [
      "count    14668.000000\n",
      "mean       177.009402\n",
      "std        133.926325\n",
      "min          0.017628\n",
      "25%         36.059676\n",
      "50%        144.554302\n",
      "75%        331.427715\n",
      "max        359.998254\n",
      "Name: degrees, dtype: float64\n"
     ]
    }
   ],
   "source": [
    "temp = df2.loc[(df2.age_group==50) & (df2.consecdist>0),'degrees']\n",
    "plt.hist(temp, bins=50)\n",
    "plt.show()\n",
    "print(temp.describe())"
   ]
  },
  {
   "cell_type": "code",
   "execution_count": 14,
   "metadata": {},
   "outputs": [
    {
     "data": {
      "image/png": "[encoded data removed]",
      "text/plain": [
       "<matplotlib.figure.Figure at 0x116fbed68>"
      ]
     },
     "metadata": {},
     "output_type": "display_data"
    },
    {
     "name": "stdout",
     "output_type": "stream",
     "text": [
      "count    12368.000000\n",
      "mean       174.623067\n",
      "std        124.499413\n",
      "min          0.032312\n",
      "25%         59.730826\n",
      "50%        158.891708\n",
      "75%        315.894975\n",
      "max        359.976682\n",
      "Name: degrees, dtype: float64\n"
     ]
    }
   ],
   "source": [
    "temp = df2.loc[(df2.age_group==50) & (df2.consecdist<0),'degrees']\n",
    "plt.hist(temp, bins=50)\n",
    "plt.show()\n",
    "print(temp.describe())"
   ]
  }
 ],
 "metadata": {
  "kernelspec": {
   "display_name": "Python 3",
   "language": "python",
   "name": "python3"
  },
  "language_info": {
   "codemirror_mode": {
    "name": "ipython",
    "version": 3
   },
   "file_extension": ".py",
   "mimetype": "text/x-python",
   "name": "python",
   "nbconvert_exporter": "python",
   "pygments_lexer": "ipython3",
   "version": "3.6.1"
  }
 },
 "nbformat": 4,
 "nbformat_minor": 2
}
