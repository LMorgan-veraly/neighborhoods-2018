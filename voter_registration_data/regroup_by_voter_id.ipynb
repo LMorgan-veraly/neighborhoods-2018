{
 "cells": [
  {
   "cell_type": "code",
   "execution_count": 1,
   "metadata": {
    "collapsed": true
   },
   "outputs": [],
   "source": [
    "# 1. individual info: voter_id, name, birthday, party code\n",
    "# 2. multiindex dataframe moving over time: 1. voter id, 2. date address acquired, 3. address, 4. lat long\n",
    "# new csv file with each unique voter ID in each row and address over time\n",
    "\n",
    "import pandas as pd\n",
    "import glob\n",
    "import numpy as np"
   ]
  },
  {
   "cell_type": "code",
   "execution_count": 2,
   "metadata": {},
   "outputs": [
    {
     "name": "stderr",
     "output_type": "stream",
     "text": [
      "/Users/leey/anaconda3/lib/python3.6/site-packages/IPython/core/interactiveshell.py:2717: DtypeWarning: Columns (0,6,14,15,20,26,27,34,35,37,38,39) have mixed types. Specify dtype option on import or set low_memory=False.\n",
      "  interactivity=interactivity, compiler=compiler, result=result)\n"
     ]
    }
   ],
   "source": [
    "# grab the summary data\n",
    "df = pd.read_csv('../Multnomah_VoterHistory_2017-03-24/00_Ex-VotingHistory-nkramer-2017-03-21-050310.txt', sep='\\t', encoding = \"ISO-8859-1\")"
   ]
  },
  {
   "cell_type": "code",
   "execution_count": 3,
   "metadata": {},
   "outputs": [
    {
     "data": {
      "text/plain": [
       "Index(['VOTER_ID', 'FIRST_NAME', 'MIDDLE_NAME', 'LAST_NAME', 'NAME_SUFFIX',\n",
       "       'BIRTH_DATE', 'CONFIDENTIAL', 'EFF_REGN_DATE', 'STATUS', 'PARTY_CODE',\n",
       "       'PHONE_NUM', 'UNLISTED', 'COUNTY', 'RES_ADDRESS_1', 'RES_ADDRESS_2',\n",
       "       'HOUSE_NUM', 'HOUSE_SUFFIX', 'PRE_DIRECTION', 'STREET_NAME',\n",
       "       'STREET_TYPE', 'POST_DIRECTION', 'UNIT_TYPE', 'UNIT_NUM',\n",
       "       'ADDR_NON_STD', 'CITY', 'STATE', 'ZIP_CODE', 'ZIP_PLUS_FOUR',\n",
       "       'EFF_ADDRESS_1', 'EFF_ADDRESS_2', 'EFF_ADDRESS_3', 'EFF_ADDRESS_4',\n",
       "       'EFF_CITY', 'EFF_STATE', 'EFF_ZIP_CODE', 'EFF_ZIP_PLUS_FOUR',\n",
       "       'ABSENTEE_TYPE', 'PRECINCT_NAME', 'PRECINCT', 'SPLIT', '11/08/2016',\n",
       "       '05/17/2016', '11/03/2015', '05/19/2015', '11/04/2014', '05/20/2014',\n",
       "       '11/05/2013', '05/21/2013', '11/06/2012', '05/15/2012', '01/31/2012',\n",
       "       '11/08/2011', '05/17/2011', '11/02/2010', '05/18/2010', '01/26/2010',\n",
       "       '05/19/2009', '11/04/2008', '05/20/2008', '11/06/2007', '05/15/2007',\n",
       "       '11/07/2006', '09/19/2006', '05/16/2006', '11/08/2005'],\n",
       "      dtype='object')"
      ]
     },
     "execution_count": 3,
     "metadata": {},
     "output_type": "execute_result"
    }
   ],
   "source": [
    "# df.STATUS.unique()\n",
    "df.columns"
   ]
  },
  {
   "cell_type": "code",
   "execution_count": 4,
   "metadata": {
    "collapsed": true
   },
   "outputs": [],
   "source": [
    "# pull out dates\n",
    "cnames = df.columns\n",
    "dates = [name for name in cnames if '/' in name]"
   ]
  },
  {
   "cell_type": "code",
   "execution_count": 5,
   "metadata": {
    "collapsed": true
   },
   "outputs": [],
   "source": [
    "idx = df[dates]!='-'\n",
    "idx.astype(int).sum(axis=1)\n",
    "df = df[idx.astype(int).sum(axis=1)>0]"
   ]
  },
  {
   "cell_type": "code",
   "execution_count": null,
   "metadata": {
    "collapsed": true
   },
   "outputs": [],
   "source": [
    "# get the list of text files\n",
    "datef = glob.glob('2*txt')"
   ]
  },
  {
   "cell_type": "code",
   "execution_count": null,
   "metadata": {
    "collapsed": true
   },
   "outputs": [],
   "source": [
    "df.head()"
   ]
  },
  {
   "cell_type": "code",
   "execution_count": 6,
   "metadata": {},
   "outputs": [
    {
     "data": {
      "text/html": [
       "<div>\n",
       "<style>\n",
       "    .dataframe thead tr:only-child th {\n",
       "        text-align: right;\n",
       "    }\n",
       "\n",
       "    .dataframe thead th {\n",
       "        text-align: left;\n",
       "    }\n",
       "\n",
       "    .dataframe tbody tr th {\n",
       "        vertical-align: top;\n",
       "    }\n",
       "</style>\n",
       "<table border=\"1\" class=\"dataframe\">\n",
       "  <thead>\n",
       "    <tr style=\"text-align: right;\">\n",
       "      <th></th>\n",
       "      <th>temp</th>\n",
       "      <th>FIRST_NAME</th>\n",
       "      <th>MIDDLE_NAME</th>\n",
       "      <th>LAST_NAME</th>\n",
       "      <th>BIRTH_DATE</th>\n",
       "      <th>PARTY_CODE</th>\n",
       "    </tr>\n",
       "  </thead>\n",
       "  <tbody>\n",
       "    <tr>\n",
       "      <th>1</th>\n",
       "      <td>519109</td>\n",
       "      <td>DANE</td>\n",
       "      <td>WILLARD</td>\n",
       "      <td>WAHLSTROM</td>\n",
       "      <td>07-20-1979</td>\n",
       "      <td>DEM</td>\n",
       "    </tr>\n",
       "    <tr>\n",
       "      <th>6</th>\n",
       "      <td>100064977</td>\n",
       "      <td>JAMES</td>\n",
       "      <td>EUGENE</td>\n",
       "      <td>MORTENSEN</td>\n",
       "      <td>08-07-1977</td>\n",
       "      <td>REP</td>\n",
       "    </tr>\n",
       "    <tr>\n",
       "      <th>7</th>\n",
       "      <td>100042592</td>\n",
       "      <td>JARED</td>\n",
       "      <td>BANKES</td>\n",
       "      <td>HERZOG</td>\n",
       "      <td>07-25-1978</td>\n",
       "      <td>DEM</td>\n",
       "    </tr>\n",
       "  </tbody>\n",
       "</table>\n",
       "</div>"
      ],
      "text/plain": [
       "        temp FIRST_NAME MIDDLE_NAME  LAST_NAME  BIRTH_DATE PARTY_CODE\n",
       "1     519109       DANE     WILLARD  WAHLSTROM  07-20-1979        DEM\n",
       "6  100064977      JAMES      EUGENE  MORTENSEN  08-07-1977        REP\n",
       "7  100042592      JARED      BANKES     HERZOG  07-25-1978        DEM"
      ]
     },
     "execution_count": 6,
     "metadata": {},
     "output_type": "execute_result"
    }
   ],
   "source": [
    "# drop duplicates (duplicated voter ID rows are filled with 'ACP')\n",
    "df = df.drop_duplicates(subset='VOTER_ID', keep=False)\n",
    "\n",
    "# grab their voter id and birthday\n",
    "voter_info = df[['VOTER_ID', 'FIRST_NAME', 'MIDDLE_NAME', 'LAST_NAME','BIRTH_DATE','PARTY_CODE']]\n",
    "voter_info = voter_info.rename(columns={'VOTER_ID':'temp'})\n",
    "voter_info[:3]"
   ]
  },
  {
   "cell_type": "code",
   "execution_count": 16,
   "metadata": {},
   "outputs": [
    {
     "data": {
      "text/html": [
       "<div>\n",
       "<style>\n",
       "    .dataframe thead tr:only-child th {\n",
       "        text-align: right;\n",
       "    }\n",
       "\n",
       "    .dataframe thead th {\n",
       "        text-align: left;\n",
       "    }\n",
       "\n",
       "    .dataframe tbody tr th {\n",
       "        vertical-align: top;\n",
       "    }\n",
       "</style>\n",
       "<table border=\"1\" class=\"dataframe\">\n",
       "  <thead>\n",
       "    <tr style=\"text-align: right;\">\n",
       "      <th></th>\n",
       "      <th>VOTER_ID</th>\n",
       "      <th>FIRST_NAME</th>\n",
       "      <th>MIDDLE_NAME</th>\n",
       "      <th>LAST_NAME</th>\n",
       "      <th>BIRTH_DATE</th>\n",
       "      <th>PARTY_CODE</th>\n",
       "    </tr>\n",
       "  </thead>\n",
       "  <tbody>\n",
       "    <tr>\n",
       "      <th>402595</th>\n",
       "      <td>300427492</td>\n",
       "      <td>SEAN</td>\n",
       "      <td>ZACHARIAH</td>\n",
       "      <td>CARLSON</td>\n",
       "      <td>08-04-1997</td>\n",
       "      <td>DEM</td>\n",
       "    </tr>\n",
       "  </tbody>\n",
       "</table>\n",
       "</div>"
      ],
      "text/plain": [
       "         VOTER_ID FIRST_NAME MIDDLE_NAME LAST_NAME  BIRTH_DATE PARTY_CODE\n",
       "402595  300427492       SEAN   ZACHARIAH   CARLSON  08-04-1997        DEM"
      ]
     },
     "execution_count": 16,
     "metadata": {},
     "output_type": "execute_result"
    }
   ],
   "source": [
    "voter_info[voter_info.VOTER_ID==300427492]"
   ]
  },
  {
   "cell_type": "code",
   "execution_count": 13,
   "metadata": {
    "collapsed": true
   },
   "outputs": [],
   "source": [
    "# not all voter ids are integers\n",
    "voter_info['VOTER_ID'] = pd.to_numeric(voter_info.temp, downcast='integer', errors='coerce')\n",
    "voter_info = voter_info[pd.notnull(voter_info['VOTER_ID'])]\n",
    "voter_info = voter_info[['VOTER_ID','FIRST_NAME','MIDDLE_NAME','LAST_NAME','BIRTH_DATE','PARTY_CODE']]"
   ]
  },
  {
   "cell_type": "code",
   "execution_count": 14,
   "metadata": {},
   "outputs": [
    {
     "data": {
      "text/html": [
       "<div>\n",
       "<style>\n",
       "    .dataframe thead tr:only-child th {\n",
       "        text-align: right;\n",
       "    }\n",
       "\n",
       "    .dataframe thead th {\n",
       "        text-align: left;\n",
       "    }\n",
       "\n",
       "    .dataframe tbody tr th {\n",
       "        vertical-align: top;\n",
       "    }\n",
       "</style>\n",
       "<table border=\"1\" class=\"dataframe\">\n",
       "  <thead>\n",
       "    <tr style=\"text-align: right;\">\n",
       "      <th></th>\n",
       "      <th>VOTER_ID</th>\n",
       "      <th>FIRST_NAME</th>\n",
       "      <th>MIDDLE_NAME</th>\n",
       "      <th>LAST_NAME</th>\n",
       "      <th>BIRTH_DATE</th>\n",
       "      <th>PARTY_CODE</th>\n",
       "    </tr>\n",
       "  </thead>\n",
       "  <tbody>\n",
       "    <tr>\n",
       "      <th>1</th>\n",
       "      <td>519109</td>\n",
       "      <td>DANE</td>\n",
       "      <td>WILLARD</td>\n",
       "      <td>WAHLSTROM</td>\n",
       "      <td>07-20-1979</td>\n",
       "      <td>DEM</td>\n",
       "    </tr>\n",
       "    <tr>\n",
       "      <th>6</th>\n",
       "      <td>100064977</td>\n",
       "      <td>JAMES</td>\n",
       "      <td>EUGENE</td>\n",
       "      <td>MORTENSEN</td>\n",
       "      <td>08-07-1977</td>\n",
       "      <td>REP</td>\n",
       "    </tr>\n",
       "    <tr>\n",
       "      <th>7</th>\n",
       "      <td>100042592</td>\n",
       "      <td>JARED</td>\n",
       "      <td>BANKES</td>\n",
       "      <td>HERZOG</td>\n",
       "      <td>07-25-1978</td>\n",
       "      <td>DEM</td>\n",
       "    </tr>\n",
       "  </tbody>\n",
       "</table>\n",
       "</div>"
      ],
      "text/plain": [
       "    VOTER_ID FIRST_NAME MIDDLE_NAME  LAST_NAME  BIRTH_DATE PARTY_CODE\n",
       "1     519109       DANE     WILLARD  WAHLSTROM  07-20-1979        DEM\n",
       "6  100064977      JAMES      EUGENE  MORTENSEN  08-07-1977        REP\n",
       "7  100042592      JARED      BANKES     HERZOG  07-25-1978        DEM"
      ]
     },
     "execution_count": 14,
     "metadata": {},
     "output_type": "execute_result"
    }
   ],
   "source": [
    "# 1. individual info: voter_id, name, birthday, party code\n",
    "voter_info[:3]"
   ]
  },
  {
   "cell_type": "code",
   "execution_count": null,
   "metadata": {
    "collapsed": true
   },
   "outputs": [],
   "source": [
    "# 1a. convert from birth date to age\n",
    "voter_info['year'] = voter_info.BIRTH_DATE.apply(lambda x: x.split('-')[2] if '-' in x else np.nan)\n",
    "voter_info['temp'] = pd.to_numeric(voter_info.year, downcast='integer', errors='coerce')\n",
    "# get rid of NaNs, remove people with birthday year of 1111, XXXXXXXX\n",
    "voter_info = voter_info.dropna(subset=['temp'])\n",
    "# voter_info['age2018'] = 2018-voter_info.temp\n",
    "# voter_info['age2016'] = 2016-voter_info.temp\n",
    "# voter_info['age2006'] = 2006-voter_info.temp\n",
    "voter_info = voter_info.drop(['temp'], axis=1)\n",
    "# get rid of people over the age of 100 (removing people with birthdays in the year of 1111)\n",
    "voter_info = voter_info[voter_info.age2018<100]"
   ]
  },
  {
   "cell_type": "code",
   "execution_count": null,
   "metadata": {
    "collapsed": true
   },
   "outputs": [],
   "source": [
    "voter_info.head()"
   ]
  },
  {
   "cell_type": "code",
   "execution_count": null,
   "metadata": {
    "collapsed": true
   },
   "outputs": [],
   "source": [
    "# 2. multiindex dataframe moving over time: 1. voter id, 2. date address acquired, 3. address, 4. lat long\n",
    "addresses = voter_info[['VOTER_ID']]"
   ]
  },
  {
   "cell_type": "code",
   "execution_count": null,
   "metadata": {
    "collapsed": true
   },
   "outputs": [],
   "source": [
    "from ipywidgets import FloatProgress\n",
    "from IPython.display import display"
   ]
  },
  {
   "cell_type": "code",
   "execution_count": null,
   "metadata": {
    "collapsed": true
   },
   "outputs": [],
   "source": [
    "max_count = len(datef)\n",
    "\n",
    "fb = FloatProgress(min=0, max=max_count) # instantiate the bar\n",
    "display(fb) # display the bar\n",
    "\n",
    "# fill in the dictionary\n",
    "for f in datef:\n",
    "    # signal to increment the progress bar\n",
    "    fb.value += 1\n",
    "    \n",
    "    # load data\n",
    "    tempdf = pd.read_csv(f, sep='\\t', encoding=\"ISO-8859-1\")\n",
    "    \n",
    "    # drop duplicates (duplicated voter ID rows are filled with 'ACP')\n",
    "    tempdf = tempdf.drop_duplicates(subset='VOTER_ID', keep=False)\n",
    "    \n",
    "    # not all are integers and there is one weird 'ACP' value\n",
    "    tempdf = tempdf.rename(columns={'VOTER_ID':'temp'})\n",
    "    tempdf['VOTER_ID'] = pd.to_numeric(tempdf.temp, downcast='integer', errors='coerce')\n",
    "    tempdf = tempdf[pd.notnull(tempdf['VOTER_ID'])]\n",
    "    tempdf = tempdf[pd.notnull(tempdf['RES_ADDRESS_1'])]\n",
    "    \n",
    "    tempdf = tempdf[['VOTER_ID', 'RES_ADDRESS_1', 'RES_ADDRESS_2']]\n",
    "    \n",
    "    # replace all nans in the address column\n",
    "    tempdf = tempdf.replace(np.nan, '', regex=True)\n",
    "    \n",
    "    # concatenate on tempdf\n",
    "    tempdf[f[:-4]] = tempdf[['RES_ADDRESS_1', 'RES_ADDRESS_2']].apply(lambda x: ' '.join(x), axis=1)\n",
    "    \n",
    "    # drop  columns\n",
    "    tempdf = tempdf.drop(['RES_ADDRESS_1', 'RES_ADDRESS_2'], axis=1)\n",
    "    \n",
    "    # merge to the address df\n",
    "    addresses = addresses.join(tempdf.set_index('VOTER_ID'), on='VOTER_ID')"
   ]
  },
  {
   "cell_type": "code",
   "execution_count": null,
   "metadata": {
    "collapsed": true
   },
   "outputs": [],
   "source": [
    "# dump into a csv\n",
    "addresses.to_csv('voter_address_over_time.csv', sep='\\t', mode = 'w', index=False)"
   ]
  },
  {
   "cell_type": "code",
   "execution_count": null,
   "metadata": {
    "collapsed": true
   },
   "outputs": [],
   "source": [
    "# load addresses\n",
    "addresses = pd.read_csv('voter_address_over_time.csv', sep='\\t')"
   ]
  },
  {
   "cell_type": "code",
   "execution_count": null,
   "metadata": {
    "collapsed": true
   },
   "outputs": [],
   "source": [
    "voterlatlong = pd.DataFrame(data=np.repeat(addresses.VOTER_ID, addresses.columns.shape[0] - 1), columns=['VOTER_ID'])\n",
    "voterlatlong['dates'] = np.tile(addresses.columns[1:], addresses.VOTER_ID.shape[0])\n",
    "voterlatlong['addresses'] = np.repeat(np.nan, voterlatlong.shape[0])"
   ]
  },
  {
   "cell_type": "code",
   "execution_count": null,
   "metadata": {
    "collapsed": true
   },
   "outputs": [],
   "source": [
    "voterlatlong = voterlatlong.set_index(['VOTER_ID', 'dates'])"
   ]
  },
  {
   "cell_type": "code",
   "execution_count": null,
   "metadata": {
    "collapsed": true
   },
   "outputs": [],
   "source": [
    "# voterlatlong['addresses']=voterlatlong['addresses'].map(addressdict, na_action='ignore')\n",
    "voterlatlong.shape"
   ]
  },
  {
   "cell_type": "code",
   "execution_count": null,
   "metadata": {
    "collapsed": true
   },
   "outputs": [],
   "source": [
    "max_count = len(datef)\n",
    "\n",
    "fb = FloatProgress(min=0, max=max_count) # instantiate the bar\n",
    "display(fb) # display the bar\n",
    "\n",
    "# fill in the dictionary\n",
    "for f in datef:\n",
    "    # signal to increment the progress bar\n",
    "    fb.value += 1\n",
    "    \n",
    "    # load data\n",
    "    tempdf = pd.read_csv(f, sep='\\t', encoding=\"ISO-8859-1\")\n",
    "    \n",
    "    # drop duplicates (duplicated voter ID rows are filled with 'ACP')\n",
    "    tempdf = tempdf.drop_duplicates(subset='VOTER_ID', keep=False)\n",
    "    \n",
    "    # not all are integers and there is one weird 'ACP' value\n",
    "    tempdf = tempdf.rename(columns={'VOTER_ID':'temp'})\n",
    "    tempdf['VOTER_ID'] = pd.to_numeric(tempdf.temp, downcast='integer', errors='coerce')\n",
    "    tempdf = tempdf[pd.notnull(tempdf['VOTER_ID'])]\n",
    "    tempdf = tempdf[pd.notnull(tempdf['RES_ADDRESS_1'])]\n",
    "    \n",
    "    # replace all nans in the address column\n",
    "    tempdf = tempdf.replace(np.nan, '', regex=True)\n",
    "    \n",
    "    # concatenate to full address\n",
    "    tempdf['addresses'] = tempdf[['RES_ADDRESS_1', 'RES_ADDRESS_2']].apply(lambda x: ' '.join(x), axis=1)\n",
    "\n",
    "    # set same index for tempdf and update\n",
    "    tempdf['dates'] = np.repeat(f[:-4], tempdf.VOTER_ID.shape[0])\n",
    "    tempdf = tempdf[['VOTER_ID', 'dates', 'addresses']]\n",
    "    tempdf = tempdf.set_index(['VOTER_ID', 'dates'])\n",
    "    voterlatlong.update(tempdf)"
   ]
  },
  {
   "cell_type": "code",
   "execution_count": null,
   "metadata": {
    "collapsed": true
   },
   "outputs": [],
   "source": [
    "voterlatlong.shape"
   ]
  },
  {
   "cell_type": "code",
   "execution_count": null,
   "metadata": {
    "collapsed": true
   },
   "outputs": [],
   "source": [
    "latlongs = pd.read_csv('voter_address_over_time-geocoded.csv')"
   ]
  },
  {
   "cell_type": "code",
   "execution_count": null,
   "metadata": {
    "collapsed": true
   },
   "outputs": [],
   "source": [
    "# now add in the lat longs\n",
    "latlongs = latlongs.rename(columns={'Column1': 'addresses'})\n",
    "latlongs.head()"
   ]
  },
  {
   "cell_type": "code",
   "execution_count": null,
   "metadata": {
    "collapsed": true
   },
   "outputs": [],
   "source": [
    "# reset index\n",
    "voterlatlong = voterlatlong.reset_index()"
   ]
  },
  {
   "cell_type": "code",
   "execution_count": null,
   "metadata": {
    "collapsed": true
   },
   "outputs": [],
   "source": [
    "# join on address\n",
    "print(voterlatlong.shape)\n",
    "voterlatlong = voterlatlong.merge(latlongs, how='left', on=['addresses'], sort=False)\n",
    "print(voterlatlong.shape)"
   ]
  },
  {
   "cell_type": "code",
   "execution_count": null,
   "metadata": {
    "collapsed": true
   },
   "outputs": [],
   "source": [
    "# write lat longs to csv\n",
    "voterlatlong.to_csv('voter_address_lat_long.csv', sep='\\t', mode = 'w', index=False)"
   ]
  },
  {
   "cell_type": "code",
   "execution_count": 2,
   "metadata": {},
   "outputs": [
    {
     "name": "stderr",
     "output_type": "stream",
     "text": [
      "/Users/leey/anaconda3/lib/python3.6/site-packages/IPython/core/interactiveshell.py:2717: DtypeWarning: Columns (3,4) have mixed types. Specify dtype option on import or set low_memory=False.\n",
      "  interactivity=interactivity, compiler=compiler, result=result)\n"
     ]
    }
   ],
   "source": [
    "# read voterlatlong\n",
    "voterlatlong = pd.read_csv('voter_address_lat_long.csv', sep='\\t')"
   ]
  },
  {
   "cell_type": "code",
   "execution_count": null,
   "metadata": {
    "collapsed": true
   },
   "outputs": [],
   "source": [
    "voterlatlong.head()"
   ]
  },
  {
   "cell_type": "code",
   "execution_count": null,
   "metadata": {
    "collapsed": true
   },
   "outputs": [],
   "source": [
    "voterlatlong.Lat[5]"
   ]
  },
  {
   "cell_type": "code",
   "execution_count": null,
   "metadata": {
    "collapsed": true
   },
   "outputs": [],
   "source": [
    "# count the number of addresses\n",
    "addresses['counts'] = addresses.apply(lambda x: x.nunique() - 1, axis=1)"
   ]
  },
  {
   "cell_type": "code",
   "execution_count": null,
   "metadata": {
    "collapsed": true
   },
   "outputs": [],
   "source": [
    "addresses.head()"
   ]
  },
  {
   "cell_type": "code",
   "execution_count": null,
   "metadata": {
    "collapsed": true
   },
   "outputs": [],
   "source": [
    "# add address counts to the voter info, so that I can separate by age\n",
    "count_addresses = addresses[['VOTER_ID', 'counts']]\n",
    "voter_info = voter_info.merge(count_addresses, how='left', on=['VOTER_ID'], sort=False)"
   ]
  },
  {
   "cell_type": "code",
   "execution_count": null,
   "metadata": {
    "collapsed": true
   },
   "outputs": [],
   "source": [
    "voter_info.head()"
   ]
  },
  {
   "cell_type": "code",
   "execution_count": null,
   "metadata": {
    "collapsed": true
   },
   "outputs": [],
   "source": [
    "# dump into a csv\n",
    "voter_info.to_csv('voter_info.csv', sep='\\t', mode = 'w', index=False)"
   ]
  },
  {
   "cell_type": "code",
   "execution_count": 3,
   "metadata": {
    "collapsed": true
   },
   "outputs": [],
   "source": [
    "# neighborhoods\n",
    "nb = pd.read_csv('voter_with_nbd2.csv')"
   ]
  },
  {
   "cell_type": "code",
   "execution_count": null,
   "metadata": {
    "collapsed": true
   },
   "outputs": [],
   "source": [
    "voterlatlong.shape"
   ]
  },
  {
   "cell_type": "code",
   "execution_count": 5,
   "metadata": {
    "collapsed": true
   },
   "outputs": [],
   "source": [
    "voterlatlong['Lat'] = voterlatlong['Lat'].apply(pd.to_numeric, downcast='float', errors='coerce')"
   ]
  },
  {
   "cell_type": "code",
   "execution_count": 6,
   "metadata": {
    "collapsed": true
   },
   "outputs": [],
   "source": [
    "voterlatlong['Long'] = voterlatlong['Long'].apply(pd.to_numeric, downcast='float', errors='coerce')"
   ]
  },
  {
   "cell_type": "code",
   "execution_count": 29,
   "metadata": {
    "collapsed": true
   },
   "outputs": [],
   "source": [
    "temp = nb[['addresses', 'NAME']]\n",
    "temp = temp.drop_duplicates()"
   ]
  },
  {
   "cell_type": "code",
   "execution_count": 35,
   "metadata": {},
   "outputs": [
    {
     "data": {
      "text/html": [
       "<div>\n",
       "<style>\n",
       "    .dataframe thead tr:only-child th {\n",
       "        text-align: right;\n",
       "    }\n",
       "\n",
       "    .dataframe thead th {\n",
       "        text-align: left;\n",
       "    }\n",
       "\n",
       "    .dataframe tbody tr th {\n",
       "        vertical-align: top;\n",
       "    }\n",
       "</style>\n",
       "<table border=\"1\" class=\"dataframe\">\n",
       "  <thead>\n",
       "    <tr style=\"text-align: right;\">\n",
       "      <th></th>\n",
       "      <th>addresses</th>\n",
       "      <th>NAME</th>\n",
       "    </tr>\n",
       "  </thead>\n",
       "  <tbody>\n",
       "    <tr>\n",
       "      <th>0</th>\n",
       "      <td>3542 SE TAYLOR ST PORTLAND OR 97214</td>\n",
       "      <td>SUNNYSIDE-MULTNOMAH COUNTY</td>\n",
       "    </tr>\n",
       "    <tr>\n",
       "      <th>2</th>\n",
       "      <td>3105 SE HAWTHORNE BLVD APT A PORTLAND OR 97214</td>\n",
       "      <td>SUNNYSIDE-MULTNOMAH COUNTY</td>\n",
       "    </tr>\n",
       "    <tr>\n",
       "      <th>5</th>\n",
       "      <td>2825 SE HAWTHORNE BLVD PORTLAND OR 97214</td>\n",
       "      <td>SUNNYSIDE-MULTNOMAH COUNTY</td>\n",
       "    </tr>\n",
       "    <tr>\n",
       "      <th>7</th>\n",
       "      <td>4202 SE SALMON ST PORTLAND OR 97215</td>\n",
       "      <td>SUNNYSIDE-MULTNOMAH COUNTY</td>\n",
       "    </tr>\n",
       "    <tr>\n",
       "      <th>8</th>\n",
       "      <td>3120 SE STARK ST APT 2030 PORTLAND OR 97214</td>\n",
       "      <td>SUNNYSIDE-MULTNOMAH COUNTY</td>\n",
       "    </tr>\n",
       "  </tbody>\n",
       "</table>\n",
       "</div>"
      ],
      "text/plain": [
       "                                        addresses                        NAME\n",
       "0             3542 SE TAYLOR ST PORTLAND OR 97214  SUNNYSIDE-MULTNOMAH COUNTY\n",
       "2  3105 SE HAWTHORNE BLVD APT A PORTLAND OR 97214  SUNNYSIDE-MULTNOMAH COUNTY\n",
       "5        2825 SE HAWTHORNE BLVD PORTLAND OR 97214  SUNNYSIDE-MULTNOMAH COUNTY\n",
       "7             4202 SE SALMON ST PORTLAND OR 97215  SUNNYSIDE-MULTNOMAH COUNTY\n",
       "8     3120 SE STARK ST APT 2030 PORTLAND OR 97214  SUNNYSIDE-MULTNOMAH COUNTY"
      ]
     },
     "execution_count": 35,
     "metadata": {},
     "output_type": "execute_result"
    }
   ],
   "source": [
    "temp.head()"
   ]
  },
  {
   "cell_type": "code",
   "execution_count": 37,
   "metadata": {
    "collapsed": true
   },
   "outputs": [],
   "source": [
    "# join on the addresses to get neighborhoods\n",
    "voterlatlong = voterlatlong.join(temp.set_index('addresses'), on='addresses')"
   ]
  },
  {
   "cell_type": "code",
   "execution_count": 171,
   "metadata": {
    "collapsed": true
   },
   "outputs": [],
   "source": [
    "# 1. separate by year, 2006 - 2016\n",
    "# 2. separate by age\n",
    "# 3. count neighborhoods\n",
    "# we want for each neighborhood, a line plot of occupancy for age groups over time (years)\n",
    "\n",
    "temp = voterlatlong[['VOTER_ID', 'dates', 'NAME']]\n",
    "temp = temp.dropna()\n",
    "\n",
    "years = ['2006', '2007', '2008', '2009', '2010', '2011', '2012', '2013', '2014', '2015', '2016']\n",
    "dictyear = dict.fromkeys(years)\n",
    "for year in years:\n",
    "    temp2 = temp[temp.dates.apply(lambda x: year in x)]\n",
    "    temp2 = temp2.join(df.set_index('VOTER_ID'), on='VOTER_ID')\n",
    "    temp2['curr_age'] = int(year) - temp2.year\n",
    "    dictyear[year] = temp2\n",
    "    # dump into a csv\n",
    "    temp2.to_csv('{}.csv'.format(year), sep='\\t', mode = 'w', index=False)"
   ]
  },
  {
   "cell_type": "code",
   "execution_count": 161,
   "metadata": {
    "collapsed": true
   },
   "outputs": [],
   "source": [
    "df = pd.read_csv('voter_info.csv', sep='\\t')\n",
    "df.head()\n",
    "df = df.drop(['age2018', 'age2016', 'age2006'], axis=1)"
   ]
  },
  {
   "cell_type": "code",
   "execution_count": 210,
   "metadata": {
    "collapsed": true
   },
   "outputs": [],
   "source": [
    "# rows: neighborhood, columns: age group, counts\n",
    "nb = pd.DataFrame(index=nb.NAME.unique())"
   ]
  },
  {
   "cell_type": "code",
   "execution_count": 191,
   "metadata": {
    "collapsed": true
   },
   "outputs": [],
   "source": [
    "nbcounts = temp.loc[(temp.curr_age>=20) & (temp.curr_age<=30) , 'NAME'].value_counts()\n",
    "nbcounts = nbcounts.rename(year)"
   ]
  },
  {
   "cell_type": "code",
   "execution_count": 222,
   "metadata": {
    "collapsed": true
   },
   "outputs": [],
   "source": [
    "# 4 age groups\n",
    "age_groups = [18, 26, 33, 40, 50, 150];\n",
    "ages = np.ones([5, 2])\n",
    "for i in range(0, len(age_groups) - 1):\n",
    "    ages[i, :] = [age_groups[i], age_groups[i+1]]"
   ]
  },
  {
   "cell_type": "code",
   "execution_count": 249,
   "metadata": {
    "collapsed": true
   },
   "outputs": [],
   "source": [
    "idx = pd.MultiIndex.from_product([age_groups[:-1], nb.index], names=['ages', 'nb'])\n",
    "df = pd.DataFrame(index=idx)\n",
    "df = df.reset_index()"
   ]
  },
  {
   "cell_type": "code",
   "execution_count": 258,
   "metadata": {
    "collapsed": true
   },
   "outputs": [],
   "source": [
    "nbcounts = pd.DataFrame(nbcounts)\n",
    "nbcounts['ages'] = 18"
   ]
  },
  {
   "cell_type": "code",
   "execution_count": 272,
   "metadata": {},
   "outputs": [
    {
     "data": {
      "text/html": [
       "<div>\n",
       "<style>\n",
       "    .dataframe thead tr:only-child th {\n",
       "        text-align: right;\n",
       "    }\n",
       "\n",
       "    .dataframe thead th {\n",
       "        text-align: left;\n",
       "    }\n",
       "\n",
       "    .dataframe tbody tr th {\n",
       "        vertical-align: top;\n",
       "    }\n",
       "</style>\n",
       "<table border=\"1\" class=\"dataframe\">\n",
       "  <thead>\n",
       "    <tr style=\"text-align: right;\">\n",
       "      <th></th>\n",
       "      <th>nb</th>\n",
       "      <th>2016</th>\n",
       "      <th>ages</th>\n",
       "    </tr>\n",
       "  </thead>\n",
       "  <tbody>\n",
       "    <tr>\n",
       "      <th>0</th>\n",
       "      <td>CENTENNIAL</td>\n",
       "      <td>2377</td>\n",
       "      <td>18</td>\n",
       "    </tr>\n",
       "    <tr>\n",
       "      <th>1</th>\n",
       "      <td>HAZELWOOD</td>\n",
       "      <td>2364</td>\n",
       "      <td>18</td>\n",
       "    </tr>\n",
       "    <tr>\n",
       "      <th>2</th>\n",
       "      <td>NORTHWEST DISTRICT</td>\n",
       "      <td>1975</td>\n",
       "      <td>18</td>\n",
       "    </tr>\n",
       "    <tr>\n",
       "      <th>3</th>\n",
       "      <td>POWELLHURST-GILBERT</td>\n",
       "      <td>1873</td>\n",
       "      <td>18</td>\n",
       "    </tr>\n",
       "    <tr>\n",
       "      <th>4</th>\n",
       "      <td>RICHMOND</td>\n",
       "      <td>1843</td>\n",
       "      <td>18</td>\n",
       "    </tr>\n",
       "  </tbody>\n",
       "</table>\n",
       "</div>"
      ],
      "text/plain": [
       "                    nb  2016  ages\n",
       "0           CENTENNIAL  2377    18\n",
       "1            HAZELWOOD  2364    18\n",
       "2   NORTHWEST DISTRICT  1975    18\n",
       "3  POWELLHURST-GILBERT  1873    18\n",
       "4             RICHMOND  1843    18"
      ]
     },
     "execution_count": 272,
     "metadata": {},
     "output_type": "execute_result"
    }
   ],
   "source": [
    "# nbcounts = nbcounts.reset_index()\n",
    "nbcounts = nbcounts.rename(columns={'index':'nb'})\n",
    "nbcounts.head()"
   ]
  },
  {
   "cell_type": "code",
   "execution_count": 275,
   "metadata": {
    "collapsed": true
   },
   "outputs": [],
   "source": [
    "df = pd.merge(df, nbcounts,  how='left', left_on=['ages','nb'], right_on = ['ages','nb'])"
   ]
  },
  {
   "cell_type": "code",
   "execution_count": 281,
   "metadata": {},
   "outputs": [
    {
     "data": {
      "text/html": [
       "<div>\n",
       "<style>\n",
       "    .dataframe thead tr:only-child th {\n",
       "        text-align: right;\n",
       "    }\n",
       "\n",
       "    .dataframe thead th {\n",
       "        text-align: left;\n",
       "    }\n",
       "\n",
       "    .dataframe tbody tr th {\n",
       "        vertical-align: top;\n",
       "    }\n",
       "</style>\n",
       "<table border=\"1\" class=\"dataframe\">\n",
       "  <thead>\n",
       "    <tr style=\"text-align: right;\">\n",
       "      <th></th>\n",
       "      <th>ages</th>\n",
       "      <th>nb</th>\n",
       "      <th>2016</th>\n",
       "    </tr>\n",
       "  </thead>\n",
       "  <tbody>\n",
       "    <tr>\n",
       "      <th>170</th>\n",
       "      <td>18</td>\n",
       "      <td>MULT CO TROUTDALE AREA</td>\n",
       "      <td>NaN</td>\n",
       "    </tr>\n",
       "    <tr>\n",
       "      <th>171</th>\n",
       "      <td>18</td>\n",
       "      <td>COTTRELL</td>\n",
       "      <td>NaN</td>\n",
       "    </tr>\n",
       "    <tr>\n",
       "      <th>172</th>\n",
       "      <td>18</td>\n",
       "      <td>BORING</td>\n",
       "      <td>NaN</td>\n",
       "    </tr>\n",
       "    <tr>\n",
       "      <th>173</th>\n",
       "      <td>18</td>\n",
       "      <td>DAMASCUS</td>\n",
       "      <td>NaN</td>\n",
       "    </tr>\n",
       "    <tr>\n",
       "      <th>174</th>\n",
       "      <td>26</td>\n",
       "      <td>SUNNYSIDE-MULTNOMAH COUNTY</td>\n",
       "      <td>NaN</td>\n",
       "    </tr>\n",
       "    <tr>\n",
       "      <th>175</th>\n",
       "      <td>26</td>\n",
       "      <td>ROSE CITY PARK</td>\n",
       "      <td>NaN</td>\n",
       "    </tr>\n",
       "    <tr>\n",
       "      <th>176</th>\n",
       "      <td>26</td>\n",
       "      <td>GRANT PARK-MULTNOMAH COUNTY</td>\n",
       "      <td>NaN</td>\n",
       "    </tr>\n",
       "    <tr>\n",
       "      <th>177</th>\n",
       "      <td>26</td>\n",
       "      <td>BRENTWOOD/ DARLINGTON</td>\n",
       "      <td>NaN</td>\n",
       "    </tr>\n",
       "    <tr>\n",
       "      <th>178</th>\n",
       "      <td>26</td>\n",
       "      <td>NORTHWEST DISTRICT</td>\n",
       "      <td>NaN</td>\n",
       "    </tr>\n",
       "    <tr>\n",
       "      <th>179</th>\n",
       "      <td>26</td>\n",
       "      <td>DOWNTOWN</td>\n",
       "      <td>NaN</td>\n",
       "    </tr>\n",
       "    <tr>\n",
       "      <th>180</th>\n",
       "      <td>26</td>\n",
       "      <td>GOOSE HOLLOW</td>\n",
       "      <td>NaN</td>\n",
       "    </tr>\n",
       "    <tr>\n",
       "      <th>181</th>\n",
       "      <td>26</td>\n",
       "      <td>OLD TOWN/ CHINATOWN</td>\n",
       "      <td>NaN</td>\n",
       "    </tr>\n",
       "    <tr>\n",
       "      <th>182</th>\n",
       "      <td>26</td>\n",
       "      <td>LENTS</td>\n",
       "      <td>NaN</td>\n",
       "    </tr>\n",
       "    <tr>\n",
       "      <th>183</th>\n",
       "      <td>26</td>\n",
       "      <td>PARKROSE</td>\n",
       "      <td>NaN</td>\n",
       "    </tr>\n",
       "    <tr>\n",
       "      <th>184</th>\n",
       "      <td>26</td>\n",
       "      <td>BUCKMAN</td>\n",
       "      <td>NaN</td>\n",
       "    </tr>\n",
       "    <tr>\n",
       "      <th>185</th>\n",
       "      <td>26</td>\n",
       "      <td>KERNS</td>\n",
       "      <td>NaN</td>\n",
       "    </tr>\n",
       "    <tr>\n",
       "      <th>186</th>\n",
       "      <td>26</td>\n",
       "      <td>SOUTHWEST HILLS</td>\n",
       "      <td>NaN</td>\n",
       "    </tr>\n",
       "    <tr>\n",
       "      <th>187</th>\n",
       "      <td>26</td>\n",
       "      <td>BRIDLEMILE/SOUTHWEST HILLS</td>\n",
       "      <td>NaN</td>\n",
       "    </tr>\n",
       "    <tr>\n",
       "      <th>188</th>\n",
       "      <td>26</td>\n",
       "      <td>BRIDLEMILE</td>\n",
       "      <td>NaN</td>\n",
       "    </tr>\n",
       "    <tr>\n",
       "      <th>189</th>\n",
       "      <td>26</td>\n",
       "      <td>PORTSMOUTH</td>\n",
       "      <td>NaN</td>\n",
       "    </tr>\n",
       "    <tr>\n",
       "      <th>190</th>\n",
       "      <td>26</td>\n",
       "      <td>ARBOR LODGE</td>\n",
       "      <td>NaN</td>\n",
       "    </tr>\n",
       "    <tr>\n",
       "      <th>191</th>\n",
       "      <td>26</td>\n",
       "      <td>PEARL</td>\n",
       "      <td>NaN</td>\n",
       "    </tr>\n",
       "    <tr>\n",
       "      <th>192</th>\n",
       "      <td>26</td>\n",
       "      <td>HILLSIDE/NORTHWEST DISTRICT</td>\n",
       "      <td>NaN</td>\n",
       "    </tr>\n",
       "    <tr>\n",
       "      <th>193</th>\n",
       "      <td>26</td>\n",
       "      <td>HUMBOLDT</td>\n",
       "      <td>NaN</td>\n",
       "    </tr>\n",
       "    <tr>\n",
       "      <th>194</th>\n",
       "      <td>26</td>\n",
       "      <td>ASHCREEK</td>\n",
       "      <td>NaN</td>\n",
       "    </tr>\n",
       "    <tr>\n",
       "      <th>195</th>\n",
       "      <td>26</td>\n",
       "      <td>SOUTH PORTLAND</td>\n",
       "      <td>NaN</td>\n",
       "    </tr>\n",
       "    <tr>\n",
       "      <th>196</th>\n",
       "      <td>26</td>\n",
       "      <td>HILLSDALE</td>\n",
       "      <td>NaN</td>\n",
       "    </tr>\n",
       "    <tr>\n",
       "      <th>197</th>\n",
       "      <td>26</td>\n",
       "      <td>REED</td>\n",
       "      <td>NaN</td>\n",
       "    </tr>\n",
       "    <tr>\n",
       "      <th>198</th>\n",
       "      <td>26</td>\n",
       "      <td>SYLVAN-HIGHLANDS/SOUTHWEST HILLS</td>\n",
       "      <td>NaN</td>\n",
       "    </tr>\n",
       "    <tr>\n",
       "      <th>199</th>\n",
       "      <td>26</td>\n",
       "      <td>IRVINGTON</td>\n",
       "      <td>NaN</td>\n",
       "    </tr>\n",
       "  </tbody>\n",
       "</table>\n",
       "</div>"
      ],
      "text/plain": [
       "     ages                                nb  2016\n",
       "170    18            MULT CO TROUTDALE AREA   NaN\n",
       "171    18                          COTTRELL   NaN\n",
       "172    18                            BORING   NaN\n",
       "173    18                          DAMASCUS   NaN\n",
       "174    26        SUNNYSIDE-MULTNOMAH COUNTY   NaN\n",
       "175    26                    ROSE CITY PARK   NaN\n",
       "176    26       GRANT PARK-MULTNOMAH COUNTY   NaN\n",
       "177    26             BRENTWOOD/ DARLINGTON   NaN\n",
       "178    26                NORTHWEST DISTRICT   NaN\n",
       "179    26                          DOWNTOWN   NaN\n",
       "180    26                      GOOSE HOLLOW   NaN\n",
       "181    26               OLD TOWN/ CHINATOWN   NaN\n",
       "182    26                             LENTS   NaN\n",
       "183    26                          PARKROSE   NaN\n",
       "184    26                           BUCKMAN   NaN\n",
       "185    26                             KERNS   NaN\n",
       "186    26                   SOUTHWEST HILLS   NaN\n",
       "187    26        BRIDLEMILE/SOUTHWEST HILLS   NaN\n",
       "188    26                        BRIDLEMILE   NaN\n",
       "189    26                        PORTSMOUTH   NaN\n",
       "190    26                       ARBOR LODGE   NaN\n",
       "191    26                             PEARL   NaN\n",
       "192    26       HILLSIDE/NORTHWEST DISTRICT   NaN\n",
       "193    26                          HUMBOLDT   NaN\n",
       "194    26                          ASHCREEK   NaN\n",
       "195    26                    SOUTH PORTLAND   NaN\n",
       "196    26                         HILLSDALE   NaN\n",
       "197    26                              REED   NaN\n",
       "198    26  SYLVAN-HIGHLANDS/SOUTHWEST HILLS   NaN\n",
       "199    26                         IRVINGTON   NaN"
      ]
     },
     "execution_count": 281,
     "metadata": {},
     "output_type": "execute_result"
    }
   ],
   "source": [
    "df.iloc[170:200]"
   ]
  },
  {
   "cell_type": "code",
   "execution_count": null,
   "metadata": {
    "collapsed": true
   },
   "outputs": [],
   "source": []
  },
  {
   "cell_type": "code",
   "execution_count": null,
   "metadata": {
    "collapsed": true
   },
   "outputs": [],
   "source": []
  },
  {
   "cell_type": "code",
   "execution_count": null,
   "metadata": {
    "collapsed": true
   },
   "outputs": [],
   "source": []
  },
  {
   "cell_type": "code",
   "execution_count": null,
   "metadata": {
    "collapsed": true
   },
   "outputs": [],
   "source": [
    "# find people living in the same house\n",
    "# for each address, count the number of occupants, record who was living there, if they were living at the same time\n",
    "# or if they were living in different times (rental property)\n",
    "voteraddresses = voterlatlong[['addresses', 'VOTER_ID', 'dates']]\n",
    "dates = [c for c in addresses.columns if '-' in c]\n",
    "date_dict = dict.fromkeys(dates)\n",
    "\n",
    "# WORK FROM HERE, SAVE TO INDIVIDUAL DATES\n",
    "for date in dates:\n",
    "    temp = voteraddresses[voteraddresses['dates']==date]\n",
    "    temp = temp[['addresses', 'VOTER_ID']]\n",
    "    # number of occupants in the property for each date\n",
    "    temp = temp.groupby('addresses', sort=False)\n",
    "    temp2 = temp.VOTER_ID.nunique()\n",
    "    temp2 = temp2.to_frame()\n",
    "    temp2 = temp2.rename(columns={'VOTER_ID': 'ID_counts'})\n",
    "    temp2 = temp2.join(temp.VOTER_ID.apply(list), rsuffix='s')\n",
    "    # later remove the addresses with occupants > 10, they're communal places like Reed college, Lewis Clark, RV park, \n",
    "    # homeless shelter...\n",
    "    date_dict[date] = temp2"
   ]
  },
  {
   "cell_type": "code",
   "execution_count": null,
   "metadata": {
    "collapsed": true,
    "scrolled": false
   },
   "outputs": [],
   "source": [
    "# dates_shared = pd.DataFrame({'dates': dates})\n",
    "# dates_shared['four_or_more'] = np.repeat(np.nan, dates_shared.shape[0])\n",
    "\n",
    "for date in dates:\n",
    "    temp = date_dict[date]\n",
    "    temp = temp[temp.ID_counts<20]\n",
    "    dates_shared.loc[dates_shared.dates==date, 'four_or_more'] = temp.loc[temp.ID_counts>4, 'ID_counts'].shape[0]/temp.shape[0]"
   ]
  },
  {
   "cell_type": "code",
   "execution_count": null,
   "metadata": {
    "collapsed": true
   },
   "outputs": [],
   "source": [
    "plt.plot(dates_shared.four_or_more)\n",
    "plt.xlabel(dates)\n",
    "plt.show()"
   ]
  },
  {
   "cell_type": "code",
   "execution_count": null,
   "metadata": {
    "collapsed": true
   },
   "outputs": [],
   "source": []
  },
  {
   "cell_type": "code",
   "execution_count": null,
   "metadata": {
    "collapsed": true
   },
   "outputs": [],
   "source": []
  },
  {
   "cell_type": "code",
   "execution_count": null,
   "metadata": {
    "collapsed": true
   },
   "outputs": [],
   "source": [
    "cnames = voter_bday.columns\n",
    "cnames = [name for name in cnames if '-' in name]\n",
    "voter_bday.columns"
   ]
  },
  {
   "cell_type": "code",
   "execution_count": null,
   "metadata": {
    "collapsed": true
   },
   "outputs": [],
   "source": [
    "unique_addresses = pd.Series()\n",
    "\n",
    "max_count = len(cnames)\n",
    "fb = FloatProgress(min=0, max=max_count) # instantiate the bar\n",
    "display(fb) # display the bar\n",
    "\n",
    "for c in cnames:\n",
    "    addresses = voter_bday[c].dropna()\n",
    "    addresses = pd.Series(addresses.unique())\n",
    "    unique_addresses = unique_addresses.append(addresses)\n",
    "\n",
    "    # signal to increment the progress bar\n",
    "    fb.value += 1\n",
    "    \n",
    "unique_addresses = unique_addresses.unique()"
   ]
  },
  {
   "cell_type": "code",
   "execution_count": null,
   "metadata": {
    "collapsed": true
   },
   "outputs": [],
   "source": [
    "np.savetxt('addresses_only.txt', unique_addresses, fmt='%s', newline='\\n')"
   ]
  }
 ],
 "metadata": {
  "kernelspec": {
   "display_name": "Python 3",
   "language": "python",
   "name": "python3"
  },
  "language_info": {
   "codemirror_mode": {
    "name": "ipython",
    "version": 3
   },
   "file_extension": ".py",
   "mimetype": "text/x-python",
   "name": "python",
   "nbconvert_exporter": "python",
   "pygments_lexer": "ipython3",
   "version": "3.6.1"
  }
 },
 "nbformat": 4,
 "nbformat_minor": 2
}
