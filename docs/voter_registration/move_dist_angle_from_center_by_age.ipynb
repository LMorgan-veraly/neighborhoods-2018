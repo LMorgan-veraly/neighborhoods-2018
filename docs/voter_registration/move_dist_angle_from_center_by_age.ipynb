{
 "cells": [
  {
   "cell_type": "code",
   "execution_count": null,
   "metadata": {
    "collapsed": true
   },
   "outputs": [],
   "source": [
    "import pandas as pd\n",
    "import numpy as np"
   ]
  },
  {
   "cell_type": "code",
   "execution_count": null,
   "metadata": {},
   "outputs": [],
   "source": [
    "# write lat longs to csv\n",
    "voterlatlong = pd.read_csv('voter_address_lat_long.csv', sep='\\t')"
   ]
  },
  {
   "cell_type": "code",
   "execution_count": null,
   "metadata": {},
   "outputs": [],
   "source": [
    "voterlatlong.head()\n",
    "# voterlatlong[voterlatlong.VOTER_ID==300427492]"
   ]
  },
  {
   "cell_type": "code",
   "execution_count": null,
   "metadata": {
    "collapsed": true
   },
   "outputs": [],
   "source": [
    "# drop dates, no longer needed, since we are only looking where they moved to, actually don't need year either\n",
    "voterlatlong['moveyear'] = pd.to_numeric(voterlatlong.dates.apply(lambda x: x.split('-')[0]), downcast='integer')\n",
    "voterlatlong = voterlatlong.drop(['dates'], axis=1)"
   ]
  },
  {
   "cell_type": "code",
   "execution_count": null,
   "metadata": {},
   "outputs": [],
   "source": [
    "voterlatlong.head()"
   ]
  },
  {
   "cell_type": "code",
   "execution_count": null,
   "metadata": {
    "collapsed": true
   },
   "outputs": [],
   "source": [
    "# keep only the first time a new address appears\n",
    "voterlatlong = voterlatlong.drop_duplicates(subset=['VOTER_ID', 'addresses'],keep='first')"
   ]
  },
  {
   "cell_type": "code",
   "execution_count": null,
   "metadata": {
    "collapsed": true
   },
   "outputs": [],
   "source": [
    "# force to numeric\n",
    "voterlatlong['Lat'] = pd.to_numeric(voterlatlong['Lat'], downcast='float', errors='coerce')\n",
    "voterlatlong['Long'] = pd.to_numeric(voterlatlong['Long'], downcast='float', errors='coerce')"
   ]
  },
  {
   "cell_type": "code",
   "execution_count": null,
   "metadata": {
    "collapsed": true
   },
   "outputs": [],
   "source": [
    "# drop all nan rows\n",
    "voterlatlong = voterlatlong.dropna(how='any')"
   ]
  },
  {
   "cell_type": "code",
   "execution_count": null,
   "metadata": {},
   "outputs": [],
   "source": [
    "# need to get age\n",
    "voterages = pd.read_csv('voter_info.csv', sep='\\t')\n",
    "voterages.head()"
   ]
  },
  {
   "cell_type": "code",
   "execution_count": null,
   "metadata": {
    "collapsed": true
   },
   "outputs": [],
   "source": [
    "voterages = voterages[['VOTER_ID', 'year']]"
   ]
  },
  {
   "cell_type": "code",
   "execution_count": null,
   "metadata": {},
   "outputs": [],
   "source": [
    "voterlatlong = voterlatlong.join(voterages.set_index('VOTER_ID'), on='VOTER_ID')\n",
    "voterlatlong.head()"
   ]
  },
  {
   "cell_type": "code",
   "execution_count": null,
   "metadata": {
    "collapsed": true
   },
   "outputs": [],
   "source": [
    "# filter out the voters with less than 1 row\n",
    "voterlatlong = voterlatlong[voterlatlong.duplicated(subset=['VOTER_ID'], keep=False)]"
   ]
  },
  {
   "cell_type": "code",
   "execution_count": null,
   "metadata": {
    "collapsed": true
   },
   "outputs": [],
   "source": [
    "#!/usr/bin/env python\n",
    "\n",
    "# Haversine formula example in Python\n",
    "# Author: Wayne Dyck\n",
    "\n",
    "import math\n",
    "\n",
    "def f(x):\n",
    "    return math.atan2(x[0], x[1])\n",
    "\n",
    "def distance(lat1, lon1, destination):\n",
    "#     lat1, lon1 = origin\n",
    "    lat2, lon2 = destination\n",
    "    radius = 6371 # km\n",
    "\n",
    "    dlat = (lat2-lat1).apply(math.radians)\n",
    "    dlon = (lon2-lon1).apply(math.radians)\n",
    "    tlat1 = lat1.apply(math.radians)\n",
    "    a = (dlat/2).apply(math.sin) * (dlat/2).apply(math.sin) + tlat1.apply(math.cos) \\\n",
    "        * math.cos(math.radians(lat2)) * (dlon/2).apply(math.sin) * (dlon/2).apply(math.sin)\n",
    "\n",
    "    df = pd.DataFrame({'a':a.apply(math.sqrt), 'b':(1-a).apply(math.sqrt)})\n",
    "    c = 2 * df.apply(f, axis=1)\n",
    "    d = radius * c\n",
    "    # convert to miles: 1 km = 0.621371 miles\n",
    "    d = d*0.621371\n",
    "\n",
    "    return d"
   ]
  },
  {
   "cell_type": "code",
   "execution_count": null,
   "metadata": {},
   "outputs": [],
   "source": [
    "# find distance from center (burnside bridge)\n",
    "center = [45.523049 , -122.667385]\n",
    "\n",
    "# calculate distance (miles) from center for each person\n",
    "voterlatlong['distcenter'] = distance(voterlatlong['Lat'], voterlatlong['Long'], center)"
   ]
  },
  {
   "cell_type": "code",
   "execution_count": null,
   "metadata": {},
   "outputs": [],
   "source": [
    "voterlatlong[voterlatlong['distcenter']<0.1].addresses"
   ]
  },
  {
   "cell_type": "code",
   "execution_count": null,
   "metadata": {
    "collapsed": true
   },
   "outputs": [],
   "source": [
    "# throw out less than 0.1 miles (applied to the wrong column)\n",
    "voterlatlong['distcenter'].min()\n",
    "voterlatlong = voterlatlong[voterlatlong['distcenter']>0.1]\n",
    "voterlatlong.head()"
   ]
  },
  {
   "cell_type": "code",
   "execution_count": null,
   "metadata": {
    "scrolled": false
   },
   "outputs": [],
   "source": [
    "# need the following:\n",
    "# column for the displacement from previous address\n",
    "# column for the angle from the previous to new address\n",
    "# column for x coord based on previous address (trying to answer whether peopple are moving away or towards center)\n",
    "# column for y coord based on previous address (trying to answer whether peopple are moving away or towards center)\n",
    "# column for age at the time of move\n",
    "\n",
    "# this is correct, there are in fact some individuals with ages below 18 at the time of relocation\n",
    "voterlatlong['relocationage'] = voterlatlong.moveyear - voterlatlong.year\n",
    "# voterlatlong[voterlatlong.relocationage<18]"
   ]
  },
  {
   "cell_type": "code",
   "execution_count": null,
   "metadata": {},
   "outputs": [],
   "source": [
    "voterlatlong.head()"
   ]
  },
  {
   "cell_type": "code",
   "execution_count": null,
   "metadata": {},
   "outputs": [],
   "source": [
    "# center all addresses to the city center (burnside bridge)\n",
    "voterlatlong['cLat'] = voterlatlong.Lat - center[0]\n",
    "voterlatlong['cLong'] = voterlatlong.Long - center[1]\n",
    "voterlatlong.head()"
   ]
  },
  {
   "cell_type": "code",
   "execution_count": null,
   "metadata": {},
   "outputs": [],
   "source": [
    "# df has age at move, dist away or toward center, and angle\n",
    "df = pd.DataFrame()\n",
    "voters = voterlatlong.VOTER_ID.unique()\n",
    "voters"
   ]
  },
  {
   "cell_type": "code",
   "execution_count": null,
   "metadata": {
    "collapsed": true
   },
   "outputs": [],
   "source": [
    "from ipywidgets import FloatProgress\n",
    "from IPython.display import display"
   ]
  },
  {
   "cell_type": "code",
   "execution_count": null,
   "metadata": {},
   "outputs": [],
   "source": [
    "temp = voterlatlong[voterlatlong.VOTER_ID==voters[1]]\n",
    "temp.sort_values(by='moveyear', ascending=True)"
   ]
  },
  {
   "cell_type": "code",
   "execution_count": null,
   "metadata": {},
   "outputs": [],
   "source": [
    "max_count = len(voters)\n",
    "\n",
    "fb = FloatProgress(min=0, max=max_count) # instantiate the bar\n",
    "display(fb) # display the bar\n",
    "\n",
    "# for each voter, shove into the above df\n",
    "for voter in voters:\n",
    "    # signal to increment the progress bar\n",
    "    fb.value += 1\n",
    "    \n",
    "    # pull out individuals\n",
    "    temp = voterlatlong[voterlatlong.VOTER_ID == voter]\n",
    "    temp2 = temp.copy()\n",
    "    # sort by move year (oldest to newest)\n",
    "    temp = temp.sort_values(by='moveyear', ascending=True)\n",
    "    # calculate the distance and angle between the previous and the next address\n",
    "    temp2['consecdist'] = temp.distcenter.diff()\n",
    "    temp2['radians'] = np.arctan2(temp['cLat'], temp['cLong'])\n",
    "    df = df.append(temp2)"
   ]
  },
  {
   "cell_type": "code",
   "execution_count": null,
   "metadata": {},
   "outputs": [],
   "source": [
    "df.head()"
   ]
  },
  {
   "cell_type": "code",
   "execution_count": null,
   "metadata": {
    "collapsed": true
   },
   "outputs": [],
   "source": [
    "# need x and y coordinates from consecdist and radians\n",
    "df['x'] = df.consecdist*np.cos(df.radians)\n",
    "df['y'] = df.consecdist*np.sin(df.radians)"
   ]
  },
  {
   "cell_type": "code",
   "execution_count": null,
   "metadata": {},
   "outputs": [],
   "source": [
    "df.head()"
   ]
  },
  {
   "cell_type": "code",
   "execution_count": null,
   "metadata": {
    "collapsed": true
   },
   "outputs": [],
   "source": [
    "df = df.rename(columns={'year':'birthyear'})"
   ]
  },
  {
   "cell_type": "code",
   "execution_count": null,
   "metadata": {
    "collapsed": true
   },
   "outputs": [],
   "source": [
    "# dump into csv, took way too long to get this\n",
    "df.to_csv('move_dist_angle_df.csv', sep='\\t')"
   ]
  },
  {
   "cell_type": "code",
   "execution_count": null,
   "metadata": {},
   "outputs": [],
   "source": [
    "df.head()"
   ]
  },
  {
   "cell_type": "code",
   "execution_count": null,
   "metadata": {},
   "outputs": [],
   "source": [
    "df2 = df[['relocationage', 'consecdist', 'x', 'y', 'cLat', 'cLong', 'moveyear', 'radians']]\n",
    "df2.head()"
   ]
  },
  {
   "cell_type": "code",
   "execution_count": null,
   "metadata": {},
   "outputs": [],
   "source": [
    "df2 = df2.dropna()\n",
    "df2.head()"
   ]
  },
  {
   "cell_type": "code",
   "execution_count": null,
   "metadata": {
    "collapsed": true
   },
   "outputs": [],
   "source": [
    "df2['degrees'] = np.mod((df2.radians + 2*np.pi)*180/np.pi, 360)"
   ]
  },
  {
   "cell_type": "code",
   "execution_count": null,
   "metadata": {
    "collapsed": true
   },
   "outputs": [],
   "source": [
    "df2 = df2.drop('radians', axis=1)"
   ]
  },
  {
   "cell_type": "code",
   "execution_count": null,
   "metadata": {},
   "outputs": [],
   "source": [
    "df2.head()"
   ]
  },
  {
   "cell_type": "code",
   "execution_count": null,
   "metadata": {
    "collapsed": true
   },
   "outputs": [],
   "source": [
    "# dump into csv, took way too long to get this\n",
    "df2.to_csv('subset_move_dist_angle_df.csv', sep='\\t', index=False)"
   ]
  },
  {
   "cell_type": "code",
   "execution_count": null,
   "metadata": {},
   "outputs": [],
   "source": [
    "df2 = pd.read_csv('subset_move_dist_angle_df.csv', sep='\\t')"
   ]
  },
  {
   "cell_type": "code",
   "execution_count": null,
   "metadata": {
    "collapsed": true
   },
   "outputs": [],
   "source": [
    "mask = abs(df2.consecdist)<0.1\n",
    "df2 = df2[~mask]"
   ]
  },
  {
   "cell_type": "code",
   "execution_count": null,
   "metadata": {
    "collapsed": true
   },
   "outputs": [],
   "source": [
    "import matplotlib.pyplot as plt"
   ]
  },
  {
   "cell_type": "code",
   "execution_count": null,
   "metadata": {
    "collapsed": true
   },
   "outputs": [],
   "source": [
    "df = df2.copy()\n",
    "df = df.dropna(how='any')\n",
    "age_groups = [18, 26, 33, 40, 50, 150];\n",
    "# group by age\n",
    "df['age_group'] = 0\n",
    "for i in range(0, len(age_groups) - 1):\n",
    "    # assign age group category for edf.currageon\n",
    "    df.loc[(df.relocationage>=age_groups[i]) & (df.relocationage<age_groups[i+1]), 'age_group'] = age_groups[i]"
   ]
  },
  {
   "cell_type": "code",
   "execution_count": null,
   "metadata": {},
   "outputs": [],
   "source": [
    "df2.head()"
   ]
  },
  {
   "cell_type": "code",
   "execution_count": null,
   "metadata": {},
   "outputs": [],
   "source": [
    "temp = df2.loc[df2.age_group==18,'consecdist']\n",
    "plt.hist(temp, bins=50, range=[-15, 15])\n",
    "plt.show()\n",
    "print('negative: {}'.format(sum(temp<0)/temp.shape[0]))\n",
    "print('positive: {}'.format(sum(temp>0)/temp.shape[0]))\n",
    "print(temp.describe())"
   ]
  },
  {
   "cell_type": "code",
   "execution_count": null,
   "metadata": {},
   "outputs": [],
   "source": [
    "temp = df2.loc[df2.age_group==26,'consecdist']\n",
    "plt.hist(temp, bins=50, range=[-15, 15])\n",
    "plt.show()\n",
    "temp.describe()\n",
    "print('negative: {}'.format(sum(temp<0)/temp.shape[0]))\n",
    "print('positive: {}'.format(sum(temp>0)/temp.shape[0]))\n",
    "print(temp.describe())"
   ]
  },
  {
   "cell_type": "code",
   "execution_count": null,
   "metadata": {},
   "outputs": [],
   "source": [
    "temp = df2.loc[df2.age_group==33,'consecdist']\n",
    "plt.hist(temp, bins=50, range=[-5, 5])\n",
    "plt.show()\n",
    "temp.describe()\n",
    "print('negative: {}'.format(sum(temp<0)/temp.shape[0]))\n",
    "print('positive: {}'.format(sum(temp>0)/temp.shape[0]))\n",
    "print(temp.describe())"
   ]
  },
  {
   "cell_type": "code",
   "execution_count": null,
   "metadata": {},
   "outputs": [],
   "source": [
    "temp = df2.loc[df2.age_group==40,'consecdist']\n",
    "plt.hist(temp, bins=50, range=[-5, 5])\n",
    "plt.show()\n",
    "temp.describe()\n",
    "print('negative: {}'.format(sum(temp<0)/temp.shape[0]))\n",
    "print('positive: {}'.format(sum(temp>0)/temp.shape[0]))\n",
    "print(temp.describe())"
   ]
  },
  {
   "cell_type": "code",
   "execution_count": null,
   "metadata": {},
   "outputs": [],
   "source": [
    "temp = df2.loc[df2.age_group==50,'consecdist']\n",
    "plt.hist(temp, bins=50, range=[-15, 15])\n",
    "plt.show()\n",
    "temp.describe()\n",
    "print('negative: {}'.format(sum(temp<0)/temp.shape[0]))\n",
    "print('positive: {}'.format(sum(temp>0)/temp.shape[0]))\n",
    "print(temp.describe())"
   ]
  },
  {
   "cell_type": "code",
   "execution_count": null,
   "metadata": {},
   "outputs": [],
   "source": [
    "temp = df2.loc[(df2.age_group==18) & (df2.consecdist>0),'degrees']\n",
    "plt.hist(temp, bins=50)\n",
    "plt.show()"
   ]
  },
  {
   "cell_type": "code",
   "execution_count": null,
   "metadata": {},
   "outputs": [],
   "source": [
    "temp = df2.loc[(df2.age_group==18) & (df2.consecdist<0),'degrees']\n",
    "plt.hist(temp, bins=50)\n",
    "plt.show()"
   ]
  },
  {
   "cell_type": "code",
   "execution_count": null,
   "metadata": {},
   "outputs": [],
   "source": [
    "temp = df2.loc[(df2.age_group==26) & (df2.consecdist>0),'degrees']\n",
    "plt.hist(temp, bins=50)\n",
    "plt.show()"
   ]
  },
  {
   "cell_type": "code",
   "execution_count": null,
   "metadata": {},
   "outputs": [],
   "source": [
    "temp = df2.loc[(df2.age_group==26) & (df2.consecdist<0),'degrees']\n",
    "plt.hist(temp, bins=50)\n",
    "plt.show()"
   ]
  },
  {
   "cell_type": "code",
   "execution_count": null,
   "metadata": {},
   "outputs": [],
   "source": [
    "temp = df2.loc[(df2.age_group==33) & (df2.consecdist>0),'degrees']\n",
    "plt.hist(temp, bins=50)\n",
    "plt.show()"
   ]
  },
  {
   "cell_type": "code",
   "execution_count": null,
   "metadata": {},
   "outputs": [],
   "source": [
    "temp = df2.loc[(df2.age_group==33) & (df2.consecdist<0),'degrees']\n",
    "plt.hist(temp, bins=50)\n",
    "plt.show()"
   ]
  },
  {
   "cell_type": "code",
   "execution_count": null,
   "metadata": {},
   "outputs": [],
   "source": [
    "temp = df2.loc[(df2.age_group==50) & (df2.consecdist>0),'degrees']\n",
    "plt.hist(temp, bins=50)\n",
    "plt.show()\n",
    "print(temp.describe())"
   ]
  },
  {
   "cell_type": "code",
   "execution_count": null,
   "metadata": {},
   "outputs": [],
   "source": [
    "temp = df2.loc[(df2.age_group==50) & (df2.consecdist<0),'degrees']\n",
    "plt.hist(temp, bins=50)\n",
    "plt.show()\n",
    "print(temp.describe())"
   ]
  }
 ],
 "metadata": {
  "kernelspec": {
   "display_name": "Python 3",
   "language": "python",
   "name": "python3"
  },
  "language_info": {
   "codemirror_mode": {
    "name": "ipython",
    "version": 3
   },
   "file_extension": ".py",
   "mimetype": "text/x-python",
   "name": "python",
   "nbconvert_exporter": "python",
   "pygments_lexer": "ipython3",
   "version": "3.6.1"
  }
 },
 "nbformat": 4,
 "nbformat_minor": 2
}
